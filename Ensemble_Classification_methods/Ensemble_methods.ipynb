{
 "cells": [
  {
   "cell_type": "markdown",
   "metadata": {},
   "source": [
    "# CS 109A/STAT 121A/AC 209A/CSCI E-109A: Homework 8\n",
    "# Ensemble methods\n",
    "\n",
    "**Harvard University**<br/>\n",
    "**Fall 2017**<br/>\n",
    "**Instructors**: Pavlos Protopapas, Kevin Rader, Rahul Dave\n"
   ]
  },
  {
   "cell_type": "markdown",
   "metadata": {},
   "source": [
    "Import libraries:"
   ]
  },
  {
   "cell_type": "code",
   "execution_count": 1,
   "metadata": {},
   "outputs": [
    {
     "name": "stderr",
     "output_type": "stream",
     "text": [
      "/Users/filipmichalsky/anaconda/lib/python3.6/site-packages/sklearn/cross_validation.py:44: DeprecationWarning: This module was deprecated in version 0.18 in favor of the model_selection module into which all the refactored classes and functions are moved. Also note that the interface of the new CV iterators are different from that of this module. This module will be removed in 0.20.\n",
      "  \"This module will be removed in 0.20.\", DeprecationWarning)\n",
      "/Users/filipmichalsky/anaconda/lib/python3.6/site-packages/sklearn/learning_curve.py:23: DeprecationWarning: This module was deprecated in version 0.18 in favor of the model_selection module into which all the functions are moved. This module will be removed in 0.20\n",
      "  DeprecationWarning)\n"
     ]
    }
   ],
   "source": [
    "import numpy as np\n",
    "import pandas as pd\n",
    "import matplotlib\n",
    "import matplotlib.pyplot as plt\n",
    "import sklearn.metrics as metrics\n",
    "from sklearn.model_selection import cross_val_score\n",
    "from sklearn.model_selection import GridSearchCV\n",
    "from sklearn import tree\n",
    "from sklearn.tree import DecisionTreeClassifier\n",
    "from sklearn.ensemble import RandomForestClassifier\n",
    "from sklearn.ensemble import AdaBoostClassifier\n",
    "from sklearn.linear_model import LogisticRegressionCV\n",
    "from sklearn.model_selection import KFold, train_test_split\n",
    "from sklearn.learning_curve import learning_curve\n",
    "from sklearn.metrics import accuracy_score\n",
    "from sklearn.metrics import confusion_matrix\n",
    "from sklearn.preprocessing import Imputer\n",
    "from sklearn.metrics import roc_auc_score\n",
    "import seaborn as sns\n",
    "\n",
    "\n",
    "%matplotlib inline\n"
   ]
  },
  {
   "cell_type": "markdown",
   "metadata": {},
   "source": [
    "# Higgs Boson Discovery\n",
    "\n",
    "The discovery of the Higgs boson in July 2012 marked a fundamental breakthrough in particle physics. The Higgs boson particle was discovered through experiments at the Large Hadron Collider at CERN, by colliding beams of protons at high energy. A key challenge in analyzing the results of these experiments is to differentiate between a collision that produces Higgs bosons and collisions thats produce only background noise. We shall explore the use of ensemble methods for this classification task.\n",
    "\n",
    "You are provided with data from Monte-Carlo simulations of collisions of particles in a particle collider experiment. The training set is available in `Higgs_train.csv` and the test set is in `Higgs_test.csv`. Each row in these files corresponds to a particle colision described by 28 features (columns 1-28), of which the first 21 features are kinematic properties measured by the particle detectors in the accelerator, and the remaining features are derived by physicists from the the first 21 features. The class label is provided in the last column, with a label of 1 indicating that the collision produces Higgs bosons (signal), and a label of 0 indicating that the collision produces other particles (background). \n",
    "\n",
    "The data set provided to you is a small subset of the HIGGS data set in the UCI machine learning repository. The following paper contains further details about the data set and the predictors used: <a href = \"https://www.nature.com/articles/ncomms5308\">Baldi et al., Nature Communications 5, 2014</a>.\n"
   ]
  },
  {
   "cell_type": "markdown",
   "metadata": {},
   "source": [
    "## Question 1 (2pt): Single Decision Tree\n",
    "We start by building a basic model which we will use as our base model for comparison. \n",
    "\n",
    "1. Fit a decision tree model to the training set and report the classification accuracy of the model on the test set. Use 5-fold cross-validation to choose the (maximum) depth for the tree. You will use the max_depth you find here throughout the homework. \n"
   ]
  },
  {
   "cell_type": "code",
   "execution_count": 362,
   "metadata": {},
   "outputs": [
    {
     "name": "stdout",
     "output_type": "stream",
     "text": [
      "Decision has best cross-validated score (5 folds) at max_depth = 5\n",
      "This results in a classification accuracy (on test set) of 0.6456\n"
     ]
    }
   ],
   "source": [
    "# Import train and test set\n",
    "train = pd.read_csv('Higgs_train.csv')\n",
    "test = pd.read_csv('Higgs_test.csv')\n",
    "\n",
    "# Each column name picks up a leading ' ', remove\n",
    "train = train.rename(columns=lambda x: x.strip())\n",
    "test = test.rename(columns=lambda x: x.strip())\n",
    "\n",
    "# Split into x and y\n",
    "train_x = train.drop(['class'], axis=1)\n",
    "train_y = train['class']\n",
    "test_x = test.drop(['class'], axis=1)\n",
    "test_y = test['class']\n",
    "\n",
    "x_test_std = (test_x - train_x.mean())/train_x.std()\n",
    "x_train_std = (train_x - train_x.mean())/train_x.std()\n",
    "\n",
    "# Set up dec-tree, perform a k-fold cross-validated grid search\n",
    "max_depths = range(1, 15)\n",
    "dec_tree = GridSearchCV(DecisionTreeClassifier(),\n",
    "                        param_grid = dict(max_depth = max_depths),\n",
    "                        cv = 5,\n",
    "                        scoring = 'accuracy')\n",
    "\n",
    "dec_tree.fit(x_train_std, train_y)\n",
    "\n",
    "# Obtain results and output performance\n",
    "max_depth = dec_tree.best_params_['max_depth']\n",
    "print(\"Decision has best cross-validated score (5 folds) at max_depth =\", max_depth)\n",
    "print(\"This results in a classification accuracy (on test set) of\", dec_tree.score(x_test_std, test_y))"
   ]
  },
  {
   "cell_type": "markdown",
   "metadata": {},
   "source": [
    "## Question 2 (15pt): Dropout-based Approach\n",
    "We start with a simple method inspired from the idea of 'dropout' in machine learning, where we fit multiple decision trees on random subsets of predictors, and combine them through a majority vote. The procedure is described below.\n",
    "\n",
    "- For each predictor in the training sample, set the predictor values to 0 with probability $p$  (i.e. drop the predictor by setting it to 0). Repeat this for $B$ trials to create $B$ separate training sets.\n",
    "\n",
    "\n",
    "- Fit decision tree models $\\hat{h}^1(x), \\ldots, \\hat{h}^B(x) \\in \\{0,1\\}$ to the $B$ training sets. \n",
    "\n",
    "- Combine the decision tree models into a single classifier by taking a majority vote:\n",
    "$$\n",
    "\\hat{H}_{maj}(x) \\,=\\, majority\\Big(\\hat{h}^1(x), \\ldots, \\hat{h}^B(x)\\Big).\n",
    "$$\n",
    "\n",
    "\n",
    "We shall refer to the combined classifier as an ** *ensemble classifier* **. Implement the described dropout approach, and answer the following questions:\n",
    "1. Apply the dropout procedure with $p = 0.5$ for different number of trees (say $2, 4, 8, 16, \\ldots, 256$), and evaluate the training and test accuracy of the combined classifier. Does an increase in the number of trees improve the training and test performance? Explain your observations in terms of the bias-variance trade-off for the classifier.\n",
    "- Fix the number of trees to 64 and apply the dropout procedure with different dropout rates $p = 0.1, 0.3, 0.5, 0.7, 0.9$. Based on your results, explain how the dropout rate influences the bias and variance of the combined classifier.\n",
    "- Apply 5-fold cross-validation to choose the optimal combination of the dropout rate and number of trees. How does the test performance of an ensemble of trees fitted with the optimal dropout rate and number of trees compare with the single decision tree model in Question 1?\n",
    "[hint: Training with large number of trees can take long time. You may need to restrict the max number of trees.]"
   ]
  },
  {
   "cell_type": "code",
   "execution_count": 363,
   "metadata": {},
   "outputs": [
    {
     "name": "stdout",
     "output_type": "stream",
     "text": [
      "(array([ 1.,  0.,  1., ...,  0.,  1.,  1.]), array([ 1.,  1.,  0., ...,  0.,  0.,  1.]))\n"
     ]
    }
   ],
   "source": [
    "def dropout_procedure(p, num_trees, train_x, train_y, test_x):    \n",
    "    # Input error checking\n",
    "    if list(train_x.columns) != list(test_x.columns):\n",
    "        raise ValueError(\"Different predictors in train and test!\")\n",
    "    \n",
    "    # Set up necessary variables\n",
    "    H_hats_train, H_hats_test = [], [] # List of predictions of each dropout model\n",
    "    dec_tree = DecisionTreeClassifier(max_depth = max_depth)\n",
    "    full_classifier = train_x.columns\n",
    "    \n",
    "    # Now, iterate over each \"tree w/dropout\" to get predictions\n",
    "    for tree in range(num_trees):\n",
    "        # Build training set\n",
    "        pred_zero = [pred for pred in full_classifier if np.random.random() <= p]\n",
    "        train_x_dropout = train_x.copy(deep=True)\n",
    "        train_x_dropout.loc[:, pred_zero] = 0\n",
    "        \n",
    "        # Build test set\n",
    "        test_x_dropout = test_x.copy(deep=True)\n",
    "        test_x_dropout.loc[:, pred_zero] = 0\n",
    "        \n",
    "        # Train tree\n",
    "        dec_tree.fit(train_x_dropout, train_y)\n",
    "        \n",
    "        # Make prediction h_hat and store in H_hats list\n",
    "        H_hats_train.append(dec_tree.predict(train_x_dropout))\n",
    "        H_hats_test.append(dec_tree.predict(test_x_dropout))\n",
    "        \n",
    "        # Clean up the temporary x sets in loop, because they're large\n",
    "        del train_x_dropout\n",
    "        del test_x_dropout\n",
    "            \n",
    "    # Turn our num_trees into a majority \"vote\" for each observation and return\n",
    "    H_hats_train, H_hats_test = np.array(H_hats_train), np.array(H_hats_test)\n",
    "    return np.round(H_hats_train.mean(axis=0), 0), np.round(H_hats_test.mean(axis=0), 0)\n",
    "\n",
    "\n",
    "# Demo/test function\n",
    "p = 0.5\n",
    "num_trees = 32\n",
    "print(dropout_procedure(p, num_trees, x_train_std, train_y, x_test_std))"
   ]
  },
  {
   "cell_type": "code",
   "execution_count": 364,
   "metadata": {},
   "outputs": [
    {
     "name": "stdout",
     "output_type": "stream",
     "text": [
      "Trees = 2. Train acc = 0.6748.  Test acc = 0.648\n",
      "Trees = 4. Train acc = 0.691.  Test acc = 0.6584\n",
      "Trees = 8. Train acc = 0.7102.  Test acc = 0.6672\n",
      "Trees = 16. Train acc = 0.703.  Test acc = 0.6502\n",
      "Trees = 32. Train acc = 0.7276.  Test acc = 0.678\n",
      "Trees = 64. Train acc = 0.7338.  Test acc = 0.6854\n",
      "Trees = 128. Train acc = 0.729.  Test acc = 0.689\n",
      "Trees = 256. Train acc = 0.7288.  Test acc = 0.6838\n"
     ]
    },
    {
     "data": {
      "text/plain": [
       "(0.5, 0.8)"
      ]
     },
     "execution_count": 364,
     "metadata": {},
     "output_type": "execute_result"
    },
    {
     "data": {
      "image/png": "[encoded data removed]",
      "text/plain": [
       "<matplotlib.figure.Figure at 0x114547978>"
      ]
     },
     "metadata": {},
     "output_type": "display_data"
    }
   ],
   "source": [
    "# Question 2.1:\n",
    "\n",
    "# System variables\n",
    "p = 0.5\n",
    "num_trees_list = [2, 4, 8, 16, 32, 64, 128, 256]\n",
    "\n",
    "# Our output lists\n",
    "train_accs = []\n",
    "test_accs = []\n",
    "\n",
    "# Iterate over number of trees:\n",
    "for num_trees in num_trees_list:\n",
    "    train_y_hat, test_y_hat = dropout_procedure(p, num_trees, x_train_std, train_y, x_test_std)\n",
    "    this_train_acc = accuracy_score(train_y_hat, train_y)\n",
    "    this_test_acc = accuracy_score(test_y_hat, test_y)\n",
    "    \n",
    "    # Save accuracies and output at each step\n",
    "    train_accs.append(this_train_acc)\n",
    "    test_accs.append(this_test_acc)\n",
    "    print(\"Trees = {}. Train acc = {}.  Test acc = {}\".\n",
    "              format(num_trees, this_train_acc, this_test_acc))\n",
    "\n",
    "# Plot output\n",
    "plt.plot(num_trees_list, train_accs, label=\"Training accuracy\")\n",
    "plt.plot(num_trees_list, test_accs, label=\"Testing accuracy\")\n",
    "plt.ylim((0,0.75))\n",
    "plt.legend()\n",
    "plt.xlabel(\"Number of trees\")\n",
    "plt.ylabel(\"Classification accuracy\")\n",
    "plt.title(\"Classification Accuracy vs. Number of Trees\")\n",
    "plt.ylim(0.5,0.8)"
   ]
  },
  {
   "cell_type": "markdown",
   "metadata": {},
   "source": [
    "1) Does an increase in the number of trees improve the training and test performance? Explain your observations in terms of the bias-variance trade-off for the classifier."
   ]
  },
  {
   "cell_type": "markdown",
   "metadata": {},
   "source": [
    "**For a small number of trees, we have a lower variance and higher bias as we increase the number of trees, we added complexity to the model, so we increased variance but lowered bias - there is a limit for adding the number of trees increasing the accuracy. Before achieving ~60 trees threshold, adding new trees increases the accuracy (decreases the variance). Once we reach ~60 trees, adding additional trees does not improve nor worsen our accuracy. This is because as we choose our predictors for each tree randomly in the dropout approach, we de-correlate the trees and thus adding new trees barely increases the variance.**"
   ]
  },
  {
   "cell_type": "code",
   "execution_count": 107,
   "metadata": {},
   "outputs": [
    {
     "name": "stdout",
     "output_type": "stream",
     "text": [
      "P = 0.1. Train acc = 0.682.  Test acc = 0.6456\n",
      "P = 0.3. Train acc = 0.7026.  Test acc = 0.6668\n",
      "P = 0.5. Train acc = 0.7314.  Test acc = 0.6848\n",
      "P = 0.7. Train acc = 0.7284.  Test acc = 0.6764\n",
      "P = 0.9. Train acc = 0.5676.  Test acc = 0.5504\n"
     ]
    },
    {
     "data": {
      "text/plain": [
       "<matplotlib.text.Text at 0x10e9ff748>"
      ]
     },
     "execution_count": 107,
     "metadata": {},
     "output_type": "execute_result"
    },
    {
     "data": {
      "image/png": "[encoded data removed]",
      "text/plain": [
       "<matplotlib.figure.Figure at 0x10fa3c6a0>"
      ]
     },
     "metadata": {},
     "output_type": "display_data"
    }
   ],
   "source": [
    "# Question 2.2:\n",
    "\n",
    "# System variables\n",
    "ps_list = [0.1, 0.3, 0.5, 0.7, 0.9]\n",
    "num_trees = 64\n",
    "\n",
    "# Our output lists\n",
    "train_accs = []\n",
    "test_accs = []\n",
    "\n",
    "# Iterate over number of trees:\n",
    "for p in ps_list:\n",
    "    train_y_hat, test_y_hat = dropout_procedure(p, num_trees, x_train_std, train_y, x_test_std)\n",
    "    this_train_acc = accuracy_score(train_y_hat, train_y)\n",
    "    this_test_acc = accuracy_score(test_y_hat, test_y)\n",
    "    \n",
    "    # Save accuracies and output at each step\n",
    "    train_accs.append(this_train_acc)\n",
    "    test_accs.append(this_test_acc)\n",
    "    print(\"P = {}. Train acc = {}.  Test acc = {}\".\n",
    "              format(p, this_train_acc, this_test_acc))\n",
    "\n",
    "# Plot output\n",
    "plt.plot(ps_list, train_accs, label=\"Training accuracy\")\n",
    "plt.plot(ps_list, test_accs, label=\"Testing accuracy\")\n",
    "plt.ylim((0,0.75))\n",
    "plt.legend()\n",
    "plt.xlabel(\"Dropout Probability (P)\")\n",
    "plt.ylabel(\"Classification accuracy\")\n",
    "plt.title(\"Classification Accuracy vs. Dropout probability\")"
   ]
  },
  {
   "cell_type": "markdown",
   "metadata": {},
   "source": [
    "**Based on your results, explain how the dropout rate influences the bias and variance of the combined classifier.**\n",
    "\n",
    "For dropout rates of 0.1 to 0.5, the accuracy increases on both the train and test set.<br><br>\n",
    "For dropout rates of 0.5 to 0.9, the accuracy decreases on both the train and test set (and it decreases especially quickly from p = 0.7-0.9.<br><br>\n",
    "This is likely happening because a p of 0.5 balances bias and variance.  When p < 0.5, the model will have a lower feature dropoff rate (and therefore have higher complexity).  when P > 0.5, the model will have higher dropoff and lower complexity.<br><br>\n",
    "So in the model with P<0.5, the variance dominates as each model tends towards being over-complex.  In the model with P>0.5, bias dominates as each model tends towards oversimplicity. <br><br>\n",
    "Both cases result in a decrease in accuracy, and the peak balance between the two occurs at p~0.5."
   ]
  },
  {
   "cell_type": "code",
   "execution_count": 365,
   "metadata": {},
   "outputs": [
    {
     "name": "stdout",
     "output_type": "stream",
     "text": [
      ".....P = 0.1.  Trees = 2. Mean 5-fold accuracy = 0.637\n",
      ".....P = 0.1.  Trees = 4. Mean 5-fold accuracy = 0.635\n",
      ".....P = 0.1.  Trees = 8. Mean 5-fold accuracy = 0.636\n",
      ".....P = 0.1.  Trees = 16. Mean 5-fold accuracy = 0.634\n",
      ".....P = 0.1.  Trees = 32. Mean 5-fold accuracy = 0.635\n",
      ".....P = 0.1.  Trees = 64. Mean 5-fold accuracy = 0.635\n",
      ".....P = 0.3.  Trees = 2. Mean 5-fold accuracy = 0.631\n",
      ".....P = 0.3.  Trees = 4. Mean 5-fold accuracy = 0.644\n",
      ".....P = 0.3.  Trees = 8. Mean 5-fold accuracy = 0.647\n",
      ".....P = 0.3.  Trees = 16. Mean 5-fold accuracy = 0.647\n",
      ".....P = 0.3.  Trees = 32. Mean 5-fold accuracy = 0.652\n",
      ".....P = 0.3.  Trees = 64. Mean 5-fold accuracy = 0.654\n",
      ".....P = 0.5.  Trees = 2. Mean 5-fold accuracy = 0.621\n",
      ".....P = 0.5.  Trees = 4. Mean 5-fold accuracy = 0.633\n",
      ".....P = 0.5.  Trees = 8. Mean 5-fold accuracy = 0.648\n",
      ".....P = 0.5.  Trees = 16. Mean 5-fold accuracy = 0.662\n",
      ".....P = 0.5.  Trees = 32. Mean 5-fold accuracy = 0.662\n",
      ".....P = 0.5.  Trees = 64. Mean 5-fold accuracy = 0.665\n",
      ".....P = 0.7.  Trees = 2. Mean 5-fold accuracy = 0.585\n",
      ".....P = 0.7.  Trees = 4. Mean 5-fold accuracy = 0.611\n",
      ".....P = 0.7.  Trees = 8. Mean 5-fold accuracy = 0.644\n",
      ".....P = 0.7.  Trees = 16. Mean 5-fold accuracy = 0.66\n",
      ".....P = 0.7.  Trees = 32. Mean 5-fold accuracy = 0.659\n",
      ".....P = 0.7.  Trees = 64. Mean 5-fold accuracy = 0.656\n",
      ".....P = 0.9.  Trees = 2. Mean 5-fold accuracy = 0.546\n",
      ".....P = 0.9.  Trees = 4. Mean 5-fold accuracy = 0.568\n",
      ".....P = 0.9.  Trees = 8. Mean 5-fold accuracy = 0.597\n",
      ".....P = 0.9.  Trees = 16. Mean 5-fold accuracy = 0.56\n",
      ".....P = 0.9.  Trees = 32. Mean 5-fold accuracy = 0.555\n",
      ".....P = 0.9.  Trees = 64. Mean 5-fold accuracy = 0.547\n"
     ]
    },
    {
     "data": {
      "text/plain": [
       "<matplotlib.text.Text at 0x1146cc208>"
      ]
     },
     "execution_count": 365,
     "metadata": {},
     "output_type": "execute_result"
    },
    {
     "data": {
      "image/png": "[encoded data removed]",
      "text/plain": [
       "<matplotlib.figure.Figure at 0x114324400>"
      ]
     },
     "metadata": {},
     "output_type": "display_data"
    }
   ],
   "source": [
    "# Question 2.3:\n",
    "verbose = False\n",
    "\n",
    "# System variables\n",
    "ps_list = [0.1, 0.3, 0.5, 0.7, 0.9]\n",
    "num_trees_list = [2, 4, 8, 16, 32, 64] \n",
    "# Note we're now just using up to 64 trees.\n",
    "# As seen in 2.1, there does not seem to be a big increase in the accuracy for\n",
    "# >64 trees, but it takes much more computation time.\n",
    "\n",
    "# Our output lists (only taking validation accuracy now)\n",
    "#val_table = pd.DataFrame(columns=['p', 'num_trees', 'accuracy'])\n",
    "val_table = []\n",
    "\n",
    "folds = KFold(n_splits = 5)\n",
    "\n",
    "for p in ps_list: # Iterave over value of p\n",
    "    for num_trees in num_trees_list: # Iterate over number of trees:\n",
    "        \n",
    "        fold_acc= [] # Obtain fresh accuracy scores for our 5 folds\n",
    "        for train_index, val_index in folds.split(train_x): # Perform 5-fold CV\n",
    "            # Train on training set and get validation y_hat\n",
    "            train_y_hat, val_y_hat = dropout_procedure(\n",
    "                p, num_trees, \n",
    "                x_train_std.iloc[train_index,:], train_y.iloc[train_index], \n",
    "            x_train_std.iloc[val_index,:])\n",
    "            fold_acc.append(accuracy_score(val_y_hat, train_y[val_index]))\n",
    "            \n",
    "            # Some debug outputs/progress meter for mid-fold\n",
    "            if verbose: # Debug outputs\n",
    "                print(\"Train acc = {}.  Val acc = {}\".\n",
    "                      format(accuracy_score(train_y_hat, train_y[train_index]),\n",
    "                            accuracy_score(val_y_hat, train_y[val_index])))\n",
    "            else: # Progress meter\n",
    "                print(\".\", end=\"\")\n",
    "            \n",
    "        # This fold completed, add to final table\n",
    "        fold_mean = np.array(fold_acc).mean()\n",
    "        val_table.append({'p':p, 'num_trees':num_trees, 'accuracy':fold_mean})\n",
    "        print(\"P = {}.  Trees = {}. Mean 5-fold accuracy = {:.3}\".\n",
    "            format(p, num_trees, fold_mean))\n",
    "\n",
    "# Computation complete.  Plot output\n",
    "val_out = pd.DataFrame.from_dict(val_table)\n",
    "plt.figure(figsize = (7,5))\n",
    "sns.heatmap(val_out.pivot(index = 'p', columns = 'num_trees', values = 'accuracy'), annot = True)\n",
    "plt.title(\"Grid-search Accuracy of P and Number of Trees\")"
   ]
  },
  {
   "cell_type": "markdown",
   "metadata": {},
   "source": [
    "3) How does the test performance of an ensemble of trees fitted with the optimal dropout rate and number of trees compare with the single decision tree model in Question 1? [hint: Training with large number of trees can take long time. You may need to restrict the max number of trees.]\n",
    "\n",
    "<br>** The single decision tree from Question 1 achieved a classification accuracy (on test set) of 0.6456.**</br>\n",
    "\n",
    "** The ensemble with optimal number of trees (64) and dropout rate of 0.5 achieved a classification accuracy (on the test set) of 0.663.**\n",
    "\n",
    "** Thus, the accuracy of ensemble with the dropout procedure is marginally better.**"
   ]
  },
  {
   "cell_type": "markdown",
   "metadata": {},
   "source": [
    "## Question 3 (15pt): Random Forests\n",
    "\n",
    "We now move to a more sophisticated ensemble technique, namely random forest:\n",
    "1. How does a random forest approach differ from the dropout procedure described in Question 2? \n",
    " \n",
    "- Fit random forest models to the training set for different number of trees (say $2, 4, 8, 16, \\ldots, 256$), and evaluate the training and test accuracies of the models. You may set the number of predictors for each tree in the random forest model to $\\sqrt{p}$, where $p$ is the total number of predictors. \n",
    "\n",
    "- Based on your results, do you find that a larger number of trees necessarily improves the test accuracy of a random forest model? Explain how the number of trees effects the training and test accuracy of a random forest classifier, and how this relates to the bias-variance trade-off for the classifier. \n",
    "  \n",
    "- Fixing the number of trees to a reasonable value, apply 5-fold cross-validation to choose the optimal value for the  number of predictors. How does the test performance of random forest model fitted with the optimal number of trees compare with the dropout approach in Question 2?  \n",
    "\n",
    "\n",
    "\n"
   ]
  },
  {
   "cell_type": "markdown",
   "metadata": {},
   "source": [
    "1) How does a random forest approach differ from the dropout procedure described in Question 2?\n",
    "\n",
    "**In a dropout approach, we train the entire tree on a given subset of the predictors (randomly selected) which is the same as in random forest, but we do not do bootstrap aggregation. **\n"
   ]
  },
  {
   "cell_type": "markdown",
   "metadata": {},
   "source": [
    "2) Fit random forest models to the training set for different number of trees (say $2, 4, 8, 16, \\ldots, 256$), and evaluate the training and test accuracies of the models. You may set the number of predictors for each tree in the random forest model to $\\sqrt{p}$, where $p$ is the total number of predictors. "
   ]
  },
  {
   "cell_type": "code",
   "execution_count": 352,
   "metadata": {
    "collapsed": true
   },
   "outputs": [],
   "source": [
    "tree_count = [2**i for i in range(1,9)]\n",
    "train_scores = []\n",
    "test_scores = []\n",
    "for n_trees in tree_count:\n",
    "    rf = RandomForestClassifier(n_estimators=n_trees, max_features='sqrt')\n",
    "    test_scores.append(metrics.accuracy_score(y_test, rf.fit(x_train_std, y_train).predict(x_test_std)))\n",
    "    train_scores.append(metrics.accuracy_score(y_train, rf.fit(x_train_std, y_train).predict(x_train_std)))\n",
    "    "
   ]
  },
  {
   "cell_type": "code",
   "execution_count": 353,
   "metadata": {},
   "outputs": [
    {
     "data": {
      "image/png": "[encoded data removed]",
      "text/plain": [
       "<matplotlib.figure.Figure at 0x114a0e0f0>"
      ]
     },
     "metadata": {},
     "output_type": "display_data"
    }
   ],
   "source": [
    "plt.figure(figsize=(20,10))\n",
    "plt.plot(tree_count, test_scores, label='test')\n",
    "plt.plot(tree_count, train_scores, label='train')\n",
    "plt.legend(loc='best')\n",
    "plt.xlabel('Number of trees')\n",
    "plt.ylabel('Accuracy')\n",
    "plt.show()"
   ]
  },
  {
   "cell_type": "markdown",
   "metadata": {},
   "source": [
    "3) Based on your results, do you find that a larger number of trees necessarily improves the test accuracy of a random forest model? Explain how the number of trees effects the training and test accuracy of a random forest classifier, and how this relates to the bias-variance trade-off for the classifier.\n",
    "\n",
    "**Larger number of trees does not neccessarily improve the accuracy of the RF, beyond a certain tree number threshold, we achieve a 100% accuracy on the training set. However, given the random feature selection nature of each decision tree in the random forest, we still avoid overfitting and the accuracy on the test set is not decreasing.**\n",
    "\n",
    "**If the number of the trees in the random forest ensemble becomes VERY large, the trees may become more correlated, increasing the variance and decreasing the robustness. As we increase the number of trees, the bias does not change and remains identical to bias of a single randomized tree.**"
   ]
  },
  {
   "cell_type": "markdown",
   "metadata": {},
   "source": [
    "4) Fixing the number of trees to a reasonable value, apply 5-fold cross-validation to choose the optimal value for the number of predictors. How does the test performance of random forest model fitted with the optimal number of trees compare with the dropout approach in Question 2?"
   ]
  },
  {
   "cell_type": "code",
   "execution_count": 361,
   "metadata": {},
   "outputs": [
    {
     "name": "stdout",
     "output_type": "stream",
     "text": [
      "The accuracy of a RF with random feature selection among 9 randomly \n",
      "selected predictors is 0.6804\n"
     ]
    },
    {
     "data": {
      "image/png": "[encoded data removed]",
      "text/plain": [
       "<matplotlib.figure.Figure at 0x114a28c88>"
      ]
     },
     "metadata": {},
     "output_type": "display_data"
    }
   ],
   "source": [
    "#fixing the number of trees to a reasonable value\n",
    "n_trees = 30\n",
    "\n",
    "max_n_predictors = len(x_train_std.columns)\n",
    "\n",
    "#cross val over number of predictors\n",
    "folds = KFold(n_splits=5,shuffle=False)\n",
    "n_rand_features_scores = {}\n",
    "\n",
    "for n_predictors in range(2,max_n_predictors+1):\n",
    "    current_train_score =[]\n",
    "    \n",
    "    for train_idx, val_idx in folds.split(x_train_std):\n",
    "        \n",
    "        rf = RandomForestClassifier(n_estimators=n_trees, max_features=n_predictors)\n",
    "        rf.fit(x_train_std.iloc[train_idx],y_train.iloc[train_idx])\n",
    "        \n",
    "        current_train_score.append(rf.score(x_train_std.iloc[val_idx],y_train.iloc[val_idx]))\n",
    "        \n",
    "    n_rand_features_scores[n_predictors] = np.array(current_train_score).mean()\n",
    "\n",
    "# Now get accuracy with the best number for random subset of predictors on the test set\n",
    "best_n_features = max(n_rand_features_scores,key=n_rand_features_scores.get)\n",
    "\n",
    "best_pred_rf = RandomForestClassifier(n_estimators=n_trees, max_features=best_n_features)\n",
    "best_pred_rf.fit(x_train_std,y_train)\n",
    "print(\"The accuracy of a RF with random feature selection among {} randomly \\nselected predictors is {}\".format(best_n_features,best_pred_rf.score(x_test_std,y_test)))\n",
    "\n",
    "plt.plot([i for i in n_rand_features_scores.keys()], [v for v in n_rand_features_scores.values()], 'b-')\n",
    "plt.ylabel(\"Cross Validation Accuracy\")\n",
    "plt.xlabel(\"Number of random predictors\")\n",
    "plt.show()"
   ]
  },
  {
   "cell_type": "code",
   "execution_count": 339,
   "metadata": {},
   "outputs": [
    {
     "name": "stdout",
     "output_type": "stream",
     "text": [
      "The accuracy of a RF with random feature selection among 5 randomly \n",
      "selected predictors is 0.677\n"
     ]
    }
   ],
   "source": [
    "# Now fit the best number for subset of random predictors on the test set\n",
    "best_n_features = max(n_rand_features_scores,key=n_rand_features_scores.get)\n",
    "\n",
    "best_pred_rf = RandomForestClassifier(n_estimators=n_trees, max_features=best_n_features)\n",
    "best_pred_rf.fit(x_train_std,y_train)\n",
    "print(\"The accuracy of a RF with random feature selection among {} randomly \\nselected predictors is {}\".format(best_n_features,best_pred_rf.score(x_test_std,y_test)))"
   ]
  },
  {
   "cell_type": "code",
   "execution_count": 340,
   "metadata": {},
   "outputs": [
    {
     "data": {
      "text/plain": [
       "<matplotlib.legend.Legend at 0x114a540f0>"
      ]
     },
     "execution_count": 340,
     "metadata": {},
     "output_type": "execute_result"
    },
    {
     "data": {
      "image/png": "[encoded data removed]",
      "text/plain": [
       "<matplotlib.figure.Figure at 0x10ea9b6a0>"
      ]
     },
     "metadata": {},
     "output_type": "display_data"
    }
   ],
   "source": [
    "complete_df = pd.concat([train_df,test_df],axis=0)\n",
    "\n",
    "X = np.array(complete_df.iloc[:, complete_df.columns != 'class'])\n",
    "y = np.array(complete_df['class'])\n",
    "\n",
    "train_sizes, train_scores, test_scores = learning_curve(\n",
    "    RandomForestClassifier(n_estimators=n_trees, max_features=best_n_features), X, y, cv=10, n_jobs=-1, train_sizes=np.linspace(.1, 1., 10), verbose=0)\n",
    " \n",
    "train_scores_mean = np.mean(train_scores, axis=1)\n",
    "train_scores_std = np.std(train_scores, axis=1)\n",
    "test_scores_mean = np.mean(test_scores, axis=1)\n",
    "test_scores_std = np.std(test_scores, axis=1)\n",
    " \n",
    "plt.figure()\n",
    "plt.title(\"Random Forest\")\n",
    "plt.xlabel(\"Training examples\")\n",
    "plt.ylabel(\"Score\")\n",
    "plt.ylim((0.3, 1.01))\n",
    "plt.gca().invert_yaxis()\n",
    " \n",
    "# Plot the average training and test score lines at each training set size\n",
    "plt.plot(train_sizes, train_scores_mean, 'o-', color=\"b\", label=\"Training score\")\n",
    "plt.plot(train_sizes, test_scores_mean, 'o-', color=\"r\", label=\"Test score\")\n",
    "plt.legend(['Training Score', 'Testing Score'], loc = 1)"
   ]
  },
  {
   "cell_type": "markdown",
   "metadata": {},
   "source": [
    "**This looks like our model high variance (overfitting on our data - as our error on the test set is much higher than on the training set), meaning that our model does not generalize well on the test data (reference to standard section 9) but low bias.**\n",
    "\n",
    "How does the test performance of random forest model fitted with the optimal number of trees compare with the dropout approach in Question 2?\n",
    "\n",
    "**Dropout approach test performance: 0.66, RF test performance 0.677.**"
   ]
  },
  {
   "cell_type": "markdown",
   "metadata": {},
   "source": [
    "## Question 4 (15pt): Boosting\n",
    "\n",
    "We next compare the random forest model with the approach of boosting:\n",
    "\n",
    "\n",
    "1. Apply the AdaBoost algorithm to fit an ensemble of decision trees. Set the learning rate to 0.05, and try out different tree depths for the base learners: 1, 2, 10, and unrestricted depth.  Make a plot of the training accuracy of the ensemble classifier as a function of tree depths. Make a similar plot of the test accuracies as a function of number of trees (say $2, 4, 8, 16, \\ldots, 256$).\n",
    "- How does the number of trees influence the training and test performance? Compare and contrast between the trends you see in the training and test performance of AdaBoost and that of the random forest models in Question 3. Give an explanation for your observations.\n",
    "- How does the tree depth of the base learner impact the training and test performance? Recall that with random forests, we allow the depth of the individual trees to be unrestricted. Would you recommend the same strategy for boosting? Explain your answer.\n",
    "- Apply 5-fold cross-validation to choose the optimal number of trees $B$ for the ensemble and the optimal tree depth for the base learners. How does an ensemble classifier fitted with the optimal number of trees and the optimal tree depth compare with the random forest model fitted in Question 3.4? \n",
    "\n"
   ]
  },
  {
   "cell_type": "code",
   "execution_count": 114,
   "metadata": {
    "collapsed": true
   },
   "outputs": [],
   "source": [
    "accuracies_train = []\n",
    "accuracies_test = []\n",
    "trees = [2**x for x in range(9)]\n",
    "\n",
    "for md in [1,2,10,None]:\n",
    "    depth_accuracies_train = []\n",
    "    depth_accuracies_test = []\n",
    "    for n in trees:\n",
    "        ada=AdaBoostClassifier(base_estimator=DecisionTreeClassifier(max_depth=md),n_estimators=n, learning_rate=.05)\n",
    "        depth_accuracies_train.append(metrics.accuracy_score(y_train, ada.fit(x_train_std,y_train).predict(x_train_std)))\n",
    "        depth_accuracies_test.append(metrics.accuracy_score(y_test, ada.fit(x_train_std,y_train).predict(x_test_std)))\n",
    "    accuracies_train.append(depth_accuracies_train)\n",
    "    accuracies_test.append(depth_accuracies_test)"
   ]
  },
  {
   "cell_type": "code",
   "execution_count": 115,
   "metadata": {},
   "outputs": [
    {
     "data": {
      "image/png": "[encoded data removed]",
      "text/plain": [
       "<matplotlib.figure.Figure at 0x11432e128>"
      ]
     },
     "metadata": {},
     "output_type": "display_data"
    }
   ],
   "source": [
    "for i, md in enumerate([1,2,10,None]):\n",
    "    plt.semilogx(trees, accuracies_train[i], label='Max Depth {}'.format(md))\n",
    "plt.legend(loc='best')\n",
    "plt.xlabel('Number of trees')\n",
    "plt.ylabel('Accuracy in the training set')\n",
    "plt.show()"
   ]
  },
  {
   "cell_type": "code",
   "execution_count": 331,
   "metadata": {},
   "outputs": [
    {
     "data": {
      "image/png": "[encoded data removed]",
      "text/plain": [
       "<matplotlib.figure.Figure at 0x10f634c50>"
      ]
     },
     "metadata": {},
     "output_type": "display_data"
    }
   ],
   "source": [
    "for i, md in enumerate([1,2,10,None]):\n",
    "    plt.semilogx(trees, accuracies_test[i], label='Max Depth {}'.format(md))\n",
    "plt.legend(loc='best')\n",
    "plt.xlabel('Number of trees')\n",
    "plt.ylabel('Accuracy in the test set')\n",
    "plt.show()"
   ]
  },
  {
   "cell_type": "markdown",
   "metadata": {},
   "source": [
    "2) How does the number of trees influence the training and test performance? Compare and contrast between the trends you see in the training and test performance of AdaBoost and that of the random forest models in Question 3. Give an explanation for your observations.\n",
    "\n",
    "**Increasing number of trees increases the accuracy of the model in both training and test sets with ADA boost, but can lead to overfitting when we have too many trees or when the max depth of the base classifier is high (see the question below).**\n",
    "\n",
    "**When we have simple trees and the learning rate is not too high to \"overshoot\" the stationary point, adding more trees to the ensemble increases the test set accuracy to a certain threshold - after that we can get overfitting from too many trees, which is marginalized by setting the learning rate very small for the additional unnecessary trees.**\n",
    "\n",
    "**In random forest, increasing the number of trees did not have an effect on the model bias (recall the bias of a single random tree is the same as that of the ensemble) but possibly increased variance if we start having correlations among trees in the ensemble.**"
   ]
  },
  {
   "cell_type": "markdown",
   "metadata": {},
   "source": [
    "3) How does the tree depth of the base learner impact the training and test performance? Recall that with random forests, we allow the depth of the individual trees to be unrestricted. Would you recommend the same strategy for boosting? Explain your answer.\n",
    "\n",
    "**If the maximum depth of the simple decision tree as the base learner is set too high we achieve overfitting. In our case max_depth = 10 starts to overfit  on the training set at ~9 trees in the ensemble and the improvement in accuracy on the test set plateaus. Also, boosting of an ensemble of decision trees with unrestricted depth overfits on the training set from the beginning and the accuracy on the test set does not improve with an increased number of trees in the ensemble. This make intuitive sense as we increase the specificity of our model with increased tree depth thus increasing the general error.**\n",
    "\n",
    "**We would not recommend to use unrestricted depth for ADA boosting as boosting decreases bias and increases expressivity for simple trees and does not work on complex trees. **"
   ]
  },
  {
   "cell_type": "markdown",
   "metadata": {},
   "source": [
    "4) Apply 5-fold cross-validation to choose the optimal number of trees  B\n",
    "  for the ensemble and the optimal tree depth for the base learners. How does an ensemble classifier fitted with the optimal number of trees and the optimal tree depth compare with the random forest model fitted in Question 3.4?"
   ]
  },
  {
   "cell_type": "code",
   "execution_count": 117,
   "metadata": {},
   "outputs": [
    {
     "name": "stderr",
     "output_type": "stream",
     "text": [
      "/Users/filipmichalsky/anaconda/lib/python3.6/site-packages/sklearn/grid_search.py:43: DeprecationWarning: This module was deprecated in version 0.18 in favor of the model_selection module into which all the refactored classes and functions are moved. This module will be removed in 0.20.\n",
      "  DeprecationWarning)\n"
     ]
    },
    {
     "data": {
      "text/plain": [
       "GridSearchCV(cv=None, error_score='raise',\n",
       "       estimator=AdaBoostClassifier(algorithm='SAMME.R',\n",
       "          base_estimator=DecisionTreeClassifier(class_weight=None, criterion='gini', max_depth=None,\n",
       "            max_features=None, max_leaf_nodes=None,\n",
       "            min_impurity_split=1e-07, min_samples_leaf=1,\n",
       "            min_samples_split=2, min_weight_fraction_leaf=0.0,\n",
       "            presort=False, random_state=11, splitter='best'),\n",
       "          learning_rate=0.05, n_estimators=50, random_state=None),\n",
       "       fit_params={}, iid=True, n_jobs=1,\n",
       "       param_grid={'base_estimator__max_depth': [1, 2, 10, None], 'n_estimators': [1, 2, 4, 8, 16, 32, 64, 128, 256]},\n",
       "       pre_dispatch='2*n_jobs', refit=True, scoring='roc_auc', verbose=0)"
      ]
     },
     "execution_count": 117,
     "metadata": {},
     "output_type": "execute_result"
    }
   ],
   "source": [
    "from sklearn.grid_search import GridSearchCV\n",
    "\n",
    "param_grid = {\"base_estimator__max_depth\" : [1,2,10,None],\n",
    "              \"n_estimators\": [2**x for x in range(9)]\n",
    "             }\n",
    "\n",
    "DTC = DecisionTreeClassifier(random_state = 11)\n",
    "\n",
    "ABC = AdaBoostClassifier(base_estimator = DTC,learning_rate=0.05)\n",
    "\n",
    "# run grid search\n",
    "grid_search_ABC = GridSearchCV(ABC, param_grid=param_grid, scoring = 'roc_auc')\n",
    "\n",
    "grid_search_ABC.fit(x_train_std,y_train)"
   ]
  },
  {
   "cell_type": "code",
   "execution_count": 118,
   "metadata": {},
   "outputs": [
    {
     "name": "stderr",
     "output_type": "stream",
     "text": [
      "/Users/filipmichalsky/anaconda/lib/python3.6/site-packages/sklearn/grid_search.py:438: ChangedBehaviorWarning: The long-standing behavior to use the estimator's score function in GridSearchCV.score has changed. The scoring parameter is now used.\n",
      "  ChangedBehaviorWarning)\n"
     ]
    },
    {
     "data": {
      "text/plain": [
       "0.76007266105082516"
      ]
     },
     "execution_count": 118,
     "metadata": {},
     "output_type": "execute_result"
    }
   ],
   "source": [
    "grid_search_ABC.score(x_test_std,y_test)"
   ]
  },
  {
   "cell_type": "code",
   "execution_count": 119,
   "metadata": {},
   "outputs": [
    {
     "data": {
      "text/plain": [
       "{'base_estimator__max_depth': 2, 'n_estimators': 128}"
      ]
     },
     "execution_count": 119,
     "metadata": {},
     "output_type": "execute_result"
    }
   ],
   "source": [
    "grid_search_ABC.best_params_"
   ]
  },
  {
   "cell_type": "code",
   "execution_count": 120,
   "metadata": {},
   "outputs": [
    {
     "name": "stdout",
     "output_type": "stream",
     "text": [
      "The accuracy of a RF with random feature selection among 9 randomly \n",
      "selected predictors is 0.6798\n",
      "\n",
      "\n",
      "The accuracy with the ADA boost with depth 2 of the base learner (Decision tree) \n",
      "and 128 trees in the ensemble is 0.7600726610508252\n"
     ]
    },
    {
     "name": "stderr",
     "output_type": "stream",
     "text": [
      "/Users/filipmichalsky/anaconda/lib/python3.6/site-packages/sklearn/grid_search.py:438: ChangedBehaviorWarning: The long-standing behavior to use the estimator's score function in GridSearchCV.score has changed. The scoring parameter is now used.\n",
      "  ChangedBehaviorWarning)\n"
     ]
    }
   ],
   "source": [
    "print(\"The accuracy of a RF with random feature selection among {} randomly \\nselected predictors is {}\".format(best_n_features,best_pred_rf.score(x_test_std,y_test)))\n",
    "print(\"\\n\")\n",
    "print(\"The accuracy with the ADA boost with depth {} of the base learner (Decision tree) \\nand {} trees in the ensemble is {}\".format(grid_search_ABC.best_params_['base_estimator__max_depth'],grid_search_ABC.best_params_['n_estimators'],\n",
    "                                grid_search_ABC.score(x_test_std,y_test)))"
   ]
  },
  {
   "cell_type": "markdown",
   "metadata": {},
   "source": [
    "**The ADA classifier with optimal number of trees and optimal depth of the base learner achieves a better accuracy than RF in the case of this data set.**"
   ]
  },
  {
   "cell_type": "code",
   "execution_count": 121,
   "metadata": {},
   "outputs": [
    {
     "data": {
      "text/plain": [
       "<matplotlib.legend.Legend at 0x1144e0a58>"
      ]
     },
     "execution_count": 121,
     "metadata": {},
     "output_type": "execute_result"
    },
    {
     "data": {
      "image/png": "[encoded data removed]",
      "text/plain": [
       "<matplotlib.figure.Figure at 0x10f516b70>"
      ]
     },
     "metadata": {},
     "output_type": "display_data"
    }
   ],
   "source": [
    "complete_df = pd.concat([train_df,test_df],axis=0)\n",
    "\n",
    "X = np.array(complete_df.iloc[:, complete_df.columns != 'class'])\n",
    "y = np.array(complete_df['class'])\n",
    "\n",
    "train_sizes, train_scores, test_scores = learning_curve(\n",
    "    AdaBoostClassifier(base_estimator=DecisionTreeClassifier(max_depth=grid_search_ABC.best_params_['base_estimator__max_depth']),n_estimators=grid_search_ABC.best_params_['n_estimators'], learning_rate=.05), X, y, cv=10, n_jobs=-1, train_sizes=np.linspace(.1, 1., 10), verbose=0)\n",
    " \n",
    "train_scores_mean = np.mean(train_scores, axis=1)\n",
    "train_scores_std = np.std(train_scores, axis=1)\n",
    "test_scores_mean = np.mean(test_scores, axis=1)\n",
    "test_scores_std = np.std(test_scores, axis=1)\n",
    "\n",
    "plt.figure()\n",
    "plt.title(\"Adaboost\")\n",
    "plt.xlabel(\"Training examples\")\n",
    "plt.ylabel(\"Score\")\n",
    "plt.ylim((0.3, 1.01))\n",
    "plt.gca().invert_yaxis()\n",
    " \n",
    "# Plot the average training and test score lines at each training set size\n",
    "plt.plot(train_sizes, train_scores_mean, 'o-', color=\"b\", label=\"Training score\")\n",
    "plt.plot(train_sizes, test_scores_mean, 'o-', color=\"r\", label=\"Test score\")\n",
    "plt.legend(['Training Score', 'Testing Score'], loc = 1)"
   ]
  },
  {
   "cell_type": "markdown",
   "metadata": {},
   "source": [
    "**As we can see from the plot above, we achieve lower variance with the ADA boost classifier compared to Random Forest. However, we have higher bias compared to the Random Forest (and bigger error on the training data).**"
   ]
  },
  {
   "cell_type": "markdown",
   "metadata": {},
   "source": [
    "## Question 5 (3pt): Meta-classifier\n",
    "\n",
    "We have so far explored techniques that grow a collection of trees either by creating multiple copies of the original training set, or through a sequential procedure, and then combines these trees into a single classifier. Consider an alternate scenario where you are provided with a pre-trained collection of trees, say from different participants of a data science competition for Higgs boson discovery. What would be a good strategy to combine these pre-fitted trees into a single powerful classifier? Of course, a simple approach would be to take the majority vote from the individual trees. Can we do better than this simple combination strategy?\n",
    "\n",
    "A collection of 100 decision tree classifiers is provided in the file `models.npy` and can be loaded into an array by executing:\n",
    "\n",
    "`models = np.load('models.npy')`\n",
    "\n",
    "You can make predictions using the $i^\\text{th}$ model on an array of predictors `x` by executing:\n",
    "\n",
    "`model[i].predict(x)`  &nbsp;&nbsp;&nbsp;\n",
    "or &nbsp;&nbsp;&nbsp;\n",
    "`model[i].predict_proba(x)`\n",
    "\n",
    "and score the model on predictors `x` and labels `y` by using:\n",
    "\n",
    "`model[i].score(x, y)`.\n",
    "\n",
    "1. Implement a strategy to combine the provided decision tree classifiers, and compare the test perfomance of your approach with the majority vote classifier. Explain your strategy/algorithm.\n",
    "\n"
   ]
  },
  {
   "cell_type": "code",
   "execution_count": 367,
   "metadata": {},
   "outputs": [
    {
     "name": "stdout",
     "output_type": "stream",
     "text": [
      "Accuracy of the ensemble of 100 models using the majority vote is 0.5044\n"
     ]
    }
   ],
   "source": [
    "# Question 5\n",
    "\n",
    "# Load models\n",
    "models = np.load('models.npy', encoding='latin1')\n",
    "\n",
    "#Majority vote\n",
    "predictions = models[0].predict(x_test_std)\n",
    "\n",
    "#gather predictions from each model\n",
    "for model in models[1:]:\n",
    "    predictions = np.vstack((predictions,model.predict(x_test_std)))\n",
    "#average predictions and convert to binary\n",
    "total_pred = np.mean(predictions,axis=0)\n",
    "bool_pred = [np.bool(i) for i in np.round(total_pred,decimals=0)]\n",
    "\n",
    "print(\"Accuracy of the ensemble of {} models using the majority vote is {}\" .format(len(models),metrics.accuracy_score(y_test,bool_pred)))"
   ]
  },
  {
   "cell_type": "code",
   "execution_count": 366,
   "metadata": {
    "scrolled": true
   },
   "outputs": [
    {
     "name": "stdout",
     "output_type": "stream",
     "text": [
      "Accuracy of the stack model (meta-learner: LogisticRegression) without regularization: Cross-val training score: 0.5946106806106807.  Test score:0.6054.\n",
      "Accuracy of the stack model (meta-learner: DecisionTreeClassifier) without regularization: Cross-val training score: 0.5910110746110745.  Test score:0.6064.\n",
      "Accuracy of the stack model (meta-learner: RandomForestClassifier) without regularization: Cross-val training score: 0.5934132784132784.  Test score:0.6044.\n",
      "Accuracy of the stack model (meta-learner: AdaBoostClassifier) without regularization: Cross-val training score: 0.5914110750110749.  Test score:0.6022.\n"
     ]
    }
   ],
   "source": [
    "#we will try several classification models without regularization/CV\n",
    "from sklearn.ensemble import AdaBoostClassifier\n",
    "from mlxtend.classifier import StackingClassifier\n",
    "from sklearn.linear_model import LogisticRegression\n",
    "\n",
    "meta_learners = [LogisticRegression(),DecisionTreeClassifier(),RandomForestClassifier(),AdaBoostClassifier(learning_rate=0.05)]\n",
    "\n",
    "#only grabbing 20 models to decrease time complexity for now\n",
    "for meta in meta_learners:\n",
    "    sclf = StackingClassifier(classifiers=[model for model in models[:20]], use_probas=True, \n",
    "                          meta_classifier=meta)\n",
    "    sclf.fit(x_train_std,y_train)\n",
    "    \n",
    "    #predict without the regularization of the meta-learner\n",
    "    print(\"Accuracy of the stack model (meta-learner: {}) without regularization: Cross-val training score: {}.  Test score:{}.\"\n",
    "          .format(str(meta.__class__).split('.')[-1].strip(\"'>\"),\n",
    "                  cross_val_score(sclf,x_train_std, y_train, cv=5).mean(),\n",
    "                  metrics.accuracy_score(y_test,sclf.predict(x_test_std))))"
   ]
  },
  {
   "cell_type": "code",
   "execution_count": 381,
   "metadata": {},
   "outputs": [
    {
     "name": "stdout",
     "output_type": "stream",
     "text": [
      "Accuracy of the stack model with CV regularized logistic regression meta-learner: Cross-val training score: 0.5952.  Test score: 0.6054\n"
     ]
    }
   ],
   "source": [
    "from mlxtend.classifier import StackingClassifier\n",
    "from sklearn.linear_model import LogisticRegression\n",
    "\n",
    "#Regularized Logistic Regression as the meta-learner\n",
    "\n",
    "lr = LogisticRegression()\n",
    "sclf_lr = StackingClassifier(classifiers=[model for model in models], use_probas=True, \n",
    "                          meta_classifier=lr)\n",
    "\n",
    "params = {'meta-logisticregression__C': np.logspace(-2,3,5)}\n",
    "\n",
    "grid = GridSearchCV(estimator=sclf_lr, param_grid=params, cv=3,refit=True)\n",
    "grid.fit(x_train_std, y_train)\n",
    "print(\"Accuracy of the stack model with CV regularized logistic regression meta-learner: Cross-val training score: {}.  Test score: {}\"\n",
    "      .format(grid.best_score_,\n",
    "          metrics.accuracy_score(y_test,grid.predict(x_test_std))))"
   ]
  },
  {
   "cell_type": "code",
   "execution_count": 384,
   "metadata": {},
   "outputs": [
    {
     "name": "stdout",
     "output_type": "stream",
     "text": [
      "Accuracy of the stack model with regularized Decision Tree Classif. meta-learner 0.5972, Test accuracy:0.6066\n"
     ]
    }
   ],
   "source": [
    "#Decision Tree classifier as meta-learner\n",
    "\n",
    "dt = DecisionTreeClassifier()\n",
    "sclf_dt = StackingClassifier(classifiers=[model for model in models], use_probas=True, \n",
    "                          meta_classifier=dt)\n",
    "\n",
    "sclf_dt.fit(x_train_std,y_train)\n",
    "\n",
    "depths = [i for i in range(3,20)]\n",
    "\n",
    "#select the best depth for the decision tree meta-classifier\n",
    "\n",
    "params = {'meta-decisiontreeclassifier__max_depth': depths}\n",
    "grid = GridSearchCV(estimator=sclf_dt, param_grid=params, cv=3,refit=True)\n",
    "grid.fit(x_train_std, y_train)\n",
    "\n",
    "print(\"Accuracy of the stack model with regularized Decision Tree Classif. meta-learner {}, Test accuracy:{}\"\n",
    "      .format(grid.best_score_,\n",
    "          metrics.accuracy_score(y_test,grid.predict(x_test_std))))"
   ]
  },
  {
   "cell_type": "code",
   "execution_count": 376,
   "metadata": {},
   "outputs": [
    {
     "name": "stdout",
     "output_type": "stream",
     "text": [
      "...........................Accuracy of the stack model with regularized Random Forest Classif. meta-learner CV 0.6042\n"
     ]
    }
   ],
   "source": [
    "max_n_predictors = len(x_train_std.columns)\n",
    "n_trees = 20\n",
    "\n",
    "#cross val over number of predictors\n",
    "folds = KFold(n_splits=5,shuffle=False)\n",
    "n_rand_features_scores = {}\n",
    "\n",
    "for n_predictors in range(2,max_n_predictors+1):\n",
    "    current_train_score =[]\n",
    "    \n",
    "    for train_idx, val_idx in folds.split(x_train_std):\n",
    "        \n",
    "        rf = RandomForestClassifier(n_estimators=n_trees, max_features=n_predictors)\n",
    "\n",
    "        sclf_rf = StackingClassifier(classifiers=[model for model in models], use_probas=True, \n",
    "                          meta_classifier=rf)\n",
    "        \n",
    "        sclf.fit(x_train_std.iloc[train_idx],y_train.iloc[train_idx])\n",
    "        \n",
    "        current_train_score.append(sclf.score(x_train_std.iloc[val_idx],y_train.iloc[val_idx]))\n",
    "        \n",
    "    n_rand_features_scores[n_predictors] = np.array(current_train_score).mean()\n",
    "    print(\".\",end=\"\")\n",
    "    \n",
    "# Now get accuracy with the best number for random subset of predictors on the test set\n",
    "best_n_features = max(n_rand_features_scores,key=n_rand_features_scores.get)\n",
    "\n",
    "#select the random forest with the best number of features\n",
    "\n",
    "best_pred_rf = RandomForestClassifier(n_estimators=n_trees, max_features=best_n_features)\n",
    "\n",
    "sclf_rf_best = StackingClassifier(classifiers=[model for model in models], use_probas=True, \n",
    "                          meta_classifier=best_pred_rf)\n",
    "\n",
    "sclf_rf_best.fit(x_train_std,y_train)\n",
    "\n",
    "print(\"Accuracy of the stack model with regularized Random Forest Classif. meta-learner CV {}\".format(metrics.accuracy_score(y_test,sclf_rf_best.predict(x_test_std))))"
   ]
  },
  {
   "cell_type": "code",
   "execution_count": 379,
   "metadata": {},
   "outputs": [
    {
     "name": "stdout",
     "output_type": "stream",
     "text": [
      "Accuracy of the stack model with ADA Boost meta-learner CV: CV training accuracy: 0.5966.  Test accuracy:0.6036\n"
     ]
    }
   ],
   "source": [
    "#ADA boost as the meta-learner\n",
    "DTC = DecisionTreeClassifier(random_state = 11)\n",
    "\n",
    "ABC = AdaBoostClassifier(base_estimator = DTC,learning_rate=0.05)\n",
    "\n",
    "sclf_ada = StackingClassifier(classifiers=[model for model in models], use_probas=True, \n",
    "                          meta_classifier=ABC)\n",
    "\n",
    "\n",
    "# run grid search\n",
    "param_grid = {\"meta-adaboostclassifier__base_estimator__max_depth\" : [2,3],\n",
    "              \"meta-adaboostclassifier__n_estimators\": [2**x for x in range(4)]\n",
    "             }\n",
    "\n",
    "grid_sclf_ada = GridSearchCV(sclf_ada, param_grid=param_grid, cv=3,refit=True)\n",
    "\n",
    "grid_sclf_ada.fit(x_train_std,y_train)\n",
    "\n",
    "print(\"Accuracy of the stack model with ADA Boost meta-learner CV: CV training accuracy: {}. Test accuracy:{}\"\n",
    "      .format(grid_sclf_ada.best_score_,\n",
    "          metrics.accuracy_score(y_test,grid_sclf_ada.predict(x_test_std))))\n",
    "\n"
   ]
  },
  {
   "cell_type": "markdown",
   "metadata": {},
   "source": [
    "Our strategy was to use cross-validation to choose from a number of ensemble models.  \n",
    "\n",
    "The metaclassifier models we selected (as shown in the code above) are logistic regression, adaboost, randomforest, and a single decision tree.\n",
    "\n",
    "For each metaclassifier, we use cross-validation to fit on the training data, and compare each model performance.  We see that all models are viable (ie, close to each other in terms of accuracy), so we further tune each meteaclassifier model's parameters using cross-validation on the training set.\n",
    "\n",
    "Overall, the highest CV training set performance was found to be ADA Boot, with a CV training accuracy of 0.5966.  The ultimate test set accuracy of this classifier was found to be 0.6036, which is a significant improvement versus the basic voting classifier."
   ]
  },
  {
   "cell_type": "markdown",
   "metadata": {},
   "source": [
    "--- \n",
    "\n",
    "---\n",
    "\n",
    "## APCOMP209a - Homework Question\n",
    "​\n",
    "We've worked with imputation methods on missing data in Homework 6.  We've worked with Decision Trees in HW7 and here.  Now let's see what happens if we try to work with Decision Trees and Missing Data at the same time! We'll be working with a dataset from the UCI Machine Learning Repository that uses a variety of wine chemical predictors to classify wines grown in the same region in Italy.  Each line represents 13 (mostly chemical) predictors of the response variable wine class, including things like alcohol content, hue , and phenols.  Unfortunately some of the predictor values were lost in measurement. Please load `wine_quality_missing.csv`. \n",
    "​\n",
    "*Note*: As in HW6 be careful of reading/treating column names and row names in this data set.\n",
    "​\n",
    "​\n",
    "1. Remove all observations that contain and missing values, split the dataset into a 75-25 train-test split, and fit the sklearn DecisionTreeClassifier and RandomForestClassifier.   Use cross-validation to find the optimal tree depth for each method.  Report the optimal tree-depth, overall classification rate and confusion matrix on the test set for each method.\n",
    "2. Restart with a fresh copy of the data and impute the missing data via mean imputation.  Split the data 75-25 and again fit DecisionTreeClassifier and RandomForestClassifier using cross-validation to find the optimal tree depth.  Report the optimal tree depth, overall classification rate and confusion matrix on the test set for each method.  \n"
   ]
  },
  {
   "cell_type": "code",
   "execution_count": 351,
   "metadata": {},
   "outputs": [
    {
     "name": "stdout",
     "output_type": "stream",
     "text": [
      "Question 1 - Solutions\n",
      "Decision tree:\n",
      "--------------\n",
      "Best performance at max_depth = 3\n",
      "5-Fold CV training accuracy = 0.857142857143\n",
      "Test set accuracy = 0.75\n",
      "Confusion matrix:\n",
      "[[3 1 0]\n",
      " [0 1 1]\n",
      " [0 0 2]]\n",
      "\n",
      "\n",
      "Random Forest:\n",
      "--------------\n",
      "Best performance at max_depth = 6\n",
      "5-Fold CV training accuracy = 0.942857142857\n",
      "Test set accuracy = 1.0\n",
      "Confusion matrix:\n",
      "[[4 0 0]\n",
      " [0 2 0]\n",
      " [0 0 2]]\n"
     ]
    }
   ],
   "source": [
    "# Question 1\n",
    "\n",
    "# Data input\n",
    "# Import train and test set\n",
    "wine = pd.read_csv('wine_quality_missing.csv').dropna()\n",
    "\n",
    "# Split intro train and test\n",
    "np.random.seed(42)\n",
    "msk = np.random.rand(len(wine)) < 0.75\n",
    "wine_train = wine[msk]\n",
    "wine_test = wine[~msk]\n",
    "\n",
    "# Split train and test into x and y\n",
    "wine_train_x = wine_train.drop(['Class'], axis = 1)\n",
    "wine_train_y = wine_train['Class']\n",
    "wine_test_x = wine_test.drop(['Class'], axis = 1)\n",
    "wine_test_y = wine_test['Class']\n",
    "\n",
    "max_depths = range(1, 15)\n",
    "\n",
    "# Set up dec-tree, perform a k-fold cross-validated grid search\n",
    "dt_cv = GridSearchCV(DecisionTreeClassifier(),\n",
    "                        param_grid = dict(max_depth = max_depths),\n",
    "                        cv = 5,\n",
    "                        scoring = 'accuracy')\n",
    "dt_cv.fit(wine_train_x, wine_train_y)\n",
    "\n",
    "# Set up random forest, perform a k-fold cross-validated grid search\n",
    "rf_cv = GridSearchCV(RandomForestClassifier(),\n",
    "                        param_grid = dict(max_depth = max_depths),\n",
    "                        cv = 5,\n",
    "                        scoring = 'accuracy')\n",
    "rf_cv.fit(wine_train_x, wine_train_y)\n",
    "\n",
    "# Output results\n",
    "print(\"Question 1 - Solutions\")\n",
    "print(\"Decision tree:\")\n",
    "print(\"--------------\")\n",
    "print(\"Best performance at max_depth =\", dt_cv.best_params_['max_depth'])\n",
    "print(\"5-Fold CV training accuracy =\", dt_cv.best_score_)\n",
    "print(\"Test set accuracy =\", dt_cv.score(wine_test_x, wine_test_y))\n",
    "print(\"Confusion matrix:\")\n",
    "print(confusion_matrix(wine_test_y, dt_cv.predict(wine_test_x)))\n",
    "print(\"\\n\")\n",
    "print(\"Random Forest:\")\n",
    "print(\"--------------\")\n",
    "print(\"Best performance at max_depth =\", rf_cv.best_params_['max_depth'])\n",
    "print(\"5-Fold CV training accuracy =\", rf_cv.best_score_)\n",
    "print(\"Test set accuracy =\", rf_cv.score(wine_test_x, wine_test_y))\n",
    "print(\"Confusion matrix:\")\n",
    "print(confusion_matrix(wine_test_y, rf_cv.predict(wine_test_x)))"
   ]
  },
  {
   "cell_type": "code",
   "execution_count": 350,
   "metadata": {},
   "outputs": [
    {
     "name": "stdout",
     "output_type": "stream",
     "text": [
      "Question 2 - solutions\n",
      "Decision tree:\n",
      "--------------\n",
      "Best performance at max_depth = 5\n",
      "5-Fold CV training accuracy = 0.869918699187\n",
      "Test set accuracy = 0.836363636364\n",
      "Confusion matrix:\n",
      "[[15  5  0]\n",
      " [ 1 16  1]\n",
      " [ 1  1 15]]\n",
      "\n",
      "\n",
      "Random Forest:\n",
      "--------------\n",
      "Best performance at max_depth = 12\n",
      "5-Fold CV training accuracy = 0.951219512195\n",
      "Test set accuracy = 0.963636363636\n",
      "Confusion matrix:\n",
      "[[18  2  0]\n",
      " [ 0 18  0]\n",
      " [ 0  0 17]]\n"
     ]
    }
   ],
   "source": [
    "# Question 2\n",
    "\n",
    "# Data input\n",
    "# Import train and test set\n",
    "wine = pd.read_csv('wine_quality_missing.csv')\n",
    "\n",
    "# Perform mean imputation\n",
    "imputer = Imputer(strategy='mean')\n",
    "for col in wine.columns:\n",
    "    imputed = imputer.fit_transform(wine[col].values.reshape(-1,1))\n",
    "    wine[col] = imputed\n",
    "\n",
    "# Split intro train and test\n",
    "np.random.seed(9001) # Random seed 9001, I CAN'T QUIT YOU\n",
    "msk = np.random.rand(len(wine)) < 0.75\n",
    "wine_train = wine[msk]\n",
    "wine_test = wine[~msk]\n",
    "\n",
    "# Split train and test into x and y\n",
    "wine_train_x = wine_train.drop(['Class'], axis = 1)\n",
    "wine_train_y = wine_train['Class']\n",
    "wine_test_x = wine_test.drop(['Class'], axis = 1)\n",
    "wine_test_y = wine_test['Class']\n",
    "\n",
    "max_depths = range(1, 15)\n",
    "\n",
    "# Set up dec-tree, perform a k-fold cross-validated grid search\n",
    "dt_cv = GridSearchCV(DecisionTreeClassifier(),\n",
    "                        param_grid = dict(max_depth = max_depths),\n",
    "                        cv = 5,\n",
    "                        scoring = 'accuracy')\n",
    "dt_cv.fit(wine_train_x, wine_train_y)\n",
    "\n",
    "# Set up random forest, perform a k-fold cross-validated grid search\n",
    "rf_cv = GridSearchCV(RandomForestClassifier(),\n",
    "                        param_grid = dict(max_depth = max_depths),\n",
    "                        cv = 5,\n",
    "                        scoring = 'accuracy')\n",
    "rf_cv.fit(wine_train_x, wine_train_y)\n",
    "\n",
    "# Output results\n",
    "print(\"Question 2 - solutions\")\n",
    "print(\"Decision tree:\")\n",
    "print(\"--------------\")\n",
    "print(\"Best performance at max_depth =\", dt_cv.best_params_['max_depth'])\n",
    "print(\"5-Fold CV training accuracy =\", dt_cv.best_score_)\n",
    "print(\"Test set accuracy =\", dt_cv.score(wine_test_x, wine_test_y))\n",
    "print(\"Confusion matrix:\")\n",
    "print(confusion_matrix(wine_test_y, dt_cv.predict(wine_test_x)))\n",
    "print(\"\\n\")\n",
    "print(\"Random Forest:\")\n",
    "print(\"--------------\")\n",
    "print(\"Best performance at max_depth =\", rf_cv.best_params_['max_depth'])\n",
    "print(\"5-Fold CV training accuracy =\", rf_cv.best_score_)\n",
    "print(\"Test set accuracy =\", rf_cv.score(wine_test_x, wine_test_y))\n",
    "print(\"Confusion matrix:\")\n",
    "print(confusion_matrix(wine_test_y, rf_cv.predict(wine_test_x)))"
   ]
  },
  {
   "cell_type": "code",
   "execution_count": null,
   "metadata": {
    "collapsed": true
   },
   "outputs": [],
   "source": []
  }
 ],
 "metadata": {
  "anaconda-cloud": {},
  "kernelspec": {
   "display_name": "Python 3",
   "language": "python",
   "name": "python3"
  },
  "language_info": {
   "codemirror_mode": {
    "name": "ipython",
    "version": 3
   },
   "file_extension": ".py",
   "mimetype": "text/x-python",
   "name": "python",
   "nbconvert_exporter": "python",
   "pygments_lexer": "ipython3",
   "version": "3.6.1"
  },
  "latex_envs": {
   "bibliofile": "biblio.bib",
   "cite_by": "apalike",
   "current_citInitial": 1,
   "eqLabelWithNumbers": true,
   "eqNumInitial": 0
  }
 },
 "nbformat": 4,
 "nbformat_minor": 1
}
