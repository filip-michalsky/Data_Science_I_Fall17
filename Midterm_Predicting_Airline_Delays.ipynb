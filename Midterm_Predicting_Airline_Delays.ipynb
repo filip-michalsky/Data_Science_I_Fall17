{
 "cells": [
  {
   "cell_type": "markdown",
   "metadata": {},
   "source": [
    "# CS 109A/STAT 121A/AC 209A/CSCI E-109A: \n",
    "# Midterm - 2017\n",
    "\n",
    "**Harvard University**<br/>\n",
    "**Fall 2017**<br/>\n",
    "**Instructors**: Pavlos Protopapas, Kevin Rader, Rahul Dave, Margo Levine\n",
    "\n",
    "---\n",
    "\n",
    "### INSTRUCTIONS\n",
    "\n",
    "\n",
    "- You must submit the Midterm on your own. ** No group submissions are allowed**. You may use any print or online resources but ** you may not work or consult with others**.\n",
    "- Restart the kernel and run the whole notebook again before you submit. \n",
    "- Please submit both a notebook and a pdf.\n",
    " \n",
    "\n",
    "---"
   ]
  },
  {
   "cell_type": "markdown",
   "metadata": {},
   "source": [
    "\n",
    "## Flight Delays\n",
    "\n",
    "The U.S. Department of Transportation's (DOT) Bureau of Transportation Statistics tracks the on-time performance of domestic flights operated by large air carriers. Summary information on the number of on-time, delayed, canceled, and diverted flights are published in DOT's monthly Air Travel Consumer Report and in this dataset of 2015 flight delays and cancellations.\n",
    "\n",
    "\n",
    "## Data\n",
    "Each entry of the flights.csv file corresponds to a flight.  More than 5,800,000 flights were recorded in 2015. These flights are described according to 31 variables. Further details of these variables can be found <a href='https://www.transtats.bts.gov/DL_SelectFields.asp?Table_ID=236&DB_Short_Name=On-Time'>here</a>, if you are interested (not needed to answer these questions). \n",
    "\n",
    "\n",
    " \n",
    "\n",
    "|          Name          | Type | DESCRIPTION |\n",
    "|--------------------------------|---|----------------------------------------------------------------------|\n",
    "| DATE                     | object | The date in python datetime format |\n",
    "| MONTH                     | int64 | The month of the year(1-12) |\n",
    "| DAY                       | int64 | The day of the month |\n",
    "| DAY_OF_WEEK               | int64 | The day of the week(1-7, MON-SUN) |\n",
    "| AIRLINE                  | object | An identifier for the airline |\n",
    "| FLIGHT_NUMBER             | int64 | The flight number |\n",
    "| TAIL_NUMBER              | object | The tail number (aircraft) corresponding to this flight |\n",
    "| ORIGIN_AIRPORT           | object | The code for origin airport |\n",
    "| DESTINATION_AIRPORT      | object | The code for destination airport |\n",
    "| SCHED_DEP                | object | The departure time in python datetime.time format |\n",
    "| SCHED_ARR                | object | The arrival time in python datetime.time format |\n",
    "| DEPARTURE_DELAY         |  float64| The delay incurred at the origin  (mins) |\n",
    "| ARRIVAL_DELAY           | float64 | The delay when the flight reached the (mins) destination |\n",
    "| DISTANCE                  | int64 | Distance in miles between origin and destination |\n",
    "| SCHEDULED_TIME          | float64 | Scheduled time of flight (minutes) |\n",
    "| ELAPSED_TIME            | float64 | Actual time of flight (minutes) |\n",
    "| AIR_SYSTEM_DELAY        | float64 | What part of the delay was NASD?(mins) |\n",
    "| SECURITY_DELAY          | float64 | What part of the delay was due to security problems? (mins) |\n",
    "| AIRLINE_DELAY           | float64 | What part of the delay is due to the airline? (mins) |\n",
    "| LATE_AIRCRAFT_DELAY     | float64 | What part of the delay is due to previous flight(s) being late(mins) |\n",
    "| WEATHER_DELAY           | float64 | Delay due to extreme weather events(min) |\n",
    "\n",
    "You can read more about the various weather delays [here](https://www.rita.dot.gov/bts/help/aviation/html/understanding.html) if you are so inclined.\n",
    "\n",
    "\n",
    "\n",
    "## Data/Caveats\n",
    "\n",
    "The data file, flights.csv, is found <a href=\"https://drive.google.com/file/d/0B9dVesTppCgHY0IwZHk3SGhjd00/view?usp=sharing\">here</a> (note, it is about 70MB). \n",
    "\n",
    "This data is already preprocessed, reduced, partially cleaned and therefore not identical to the original dataset."
   ]
  },
  {
   "cell_type": "code",
   "execution_count": 81,
   "metadata": {
    "collapsed": true
   },
   "outputs": [],
   "source": [
    "import numpy as np\n",
    "import pandas as pd\n",
    "from datetime import datetime\n",
    "import time\n",
    "import matplotlib\n",
    "import matplotlib.pyplot as plt\n",
    "from sklearn.pipeline import Pipeline\n",
    "from sklearn.linear_model import LogisticRegression\n",
    "from sklearn.linear_model import LogisticRegressionCV\n",
    "import sklearn.metrics as metrics\n",
    "from sklearn.preprocessing import PolynomialFeatures\n",
    "from sklearn.discriminant_analysis import LinearDiscriminantAnalysis as LDA\n",
    "from sklearn.discriminant_analysis import QuadraticDiscriminantAnalysis as QDA\n",
    "from sklearn.neighbors import KNeighborsClassifier as KNN\n",
    "from sklearn.tree import DecisionTreeClassifier as DecisionTree\n",
    "from sklearn.model_selection import cross_val_score\n",
    "from sklearn.metrics import accuracy_score\n",
    "from sklearn import preprocessing\n",
    "from sklearn.tree import export_graphviz\n",
    "from IPython.display import Image\n",
    "from IPython.display import display\n",
    "from sklearn.linear_model import LinearRegression\n",
    "from sklearn.linear_model import LassoCV\n",
    "from sklearn.linear_model import RidgeCV\n",
    "from sklearn.decomposition import PCA\n",
    "from sklearn.model_selection import train_test_split\n",
    "import warnings\n",
    "warnings.filterwarnings(\"ignore\")\n",
    "%matplotlib inline"
   ]
  },
  {
   "cell_type": "markdown",
   "metadata": {},
   "source": [
    "## Problem Description"
   ]
  },
  {
   "cell_type": "markdown",
   "metadata": {},
   "source": [
    "We will build two separate models: one model that classifies whether a flight will be delayed and a second model that predicts the length of delay given that a flight is truly delayed. Only consider models taught in class so far. \n",
    "\n",
    "** Consider the following: **\n",
    "This is a large dataset; think of strategies on how to solve this problem. Create a manageable subsample of the data that you can use to train and test/validate, but eventually you should predict on all the data (excluding the training set).\n",
    "\n",
    "### Questions\n",
    "1. (5pts) Create a new variable, `DELAY_OR_NOT`: a boolean/indicator variable which indicates any arrival delay under 15 mins as a 0, and any delay at or above 15 mins as a 1 (`ARRIVAL_DELAY >= 15`).\n",
    "2. (5pts) Make sure you understand the data variable descriptions before you start the analysis. Consider all the columns and determine and list which of these predictors should not be used. \n",
    "3. (15pts) Perform EDA to gain intuition of the factors that affect delay and provide visuals: do delays vary across airlines, or time of departure, or airport (do, at the very least, Chicago (ORD), Boston (BOS), and your favorite another airport), or airport traffic?\n",
    "4. (20pts) Build a classification model that classifies delays according to `DELAY_OR_NOT`. This is an unbalanced dataset, thus consider the appropriate performance metric when reporting your results. \n",
    "5. (5pts) Given your model, comment on the importance of factors as related to whether a flight is delayed.\n",
    "6. (5pts) Evaluate your model(s) on your test set, and finally provide a visual to show which airlines are predicted to have the most delays using all the data excluding the training and test set. \n",
    "7. (15pts) Build a regression model that predicts the length of delay (on the log scale) given that a flight is truly delayed.\n",
    "8. (20pts) Write a report (in the last markdown cell in your notebook with your findings (without code)). Describe the main design decisions you have made with justifications. Clearly explain your methodology and results. This should not be more than 300 words. You may use up to 5 diagrams.\n",
    "\n"
   ]
  },
  {
   "cell_type": "markdown",
   "metadata": {},
   "source": [
    "**Question 1**<br>\n",
    "(5pts) Create a new variable, DELAY_OR_NOT: a boolean/indicator variable which indicates any arrival delay under 15 mins as a 0, and any delay at or above 15 mins as a 1 (ARRIVAL_DELAY >= 15)."
   ]
  },
  {
   "cell_type": "code",
   "execution_count": 82,
   "metadata": {
    "collapsed": true
   },
   "outputs": [],
   "source": [
    "#Load the data\n",
    "df = pd.read_csv(\"cs109a_midterm.csv\")"
   ]
  },
  {
   "cell_type": "code",
   "execution_count": 83,
   "metadata": {},
   "outputs": [
    {
     "data": {
      "text/html": [
       "<div>\n",
       "<style>\n",
       "    .dataframe thead tr:only-child th {\n",
       "        text-align: right;\n",
       "    }\n",
       "\n",
       "    .dataframe thead th {\n",
       "        text-align: left;\n",
       "    }\n",
       "\n",
       "    .dataframe tbody tr th {\n",
       "        vertical-align: top;\n",
       "    }\n",
       "</style>\n",
       "<table border=\"1\" class=\"dataframe\">\n",
       "  <thead>\n",
       "    <tr style=\"text-align: right;\">\n",
       "      <th></th>\n",
       "      <th>DATE</th>\n",
       "      <th>MONTH</th>\n",
       "      <th>DAY</th>\n",
       "      <th>DAY_OF_WEEK</th>\n",
       "      <th>AIRLINE</th>\n",
       "      <th>FLIGHT_NUMBER</th>\n",
       "      <th>TAIL_NUMBER</th>\n",
       "      <th>ORIGIN_AIRPORT</th>\n",
       "      <th>DESTINATION_AIRPORT</th>\n",
       "      <th>SCHED_DEP</th>\n",
       "      <th>...</th>\n",
       "      <th>DEPARTURE_DELAY</th>\n",
       "      <th>ARRIVAL_DELAY</th>\n",
       "      <th>DISTANCE</th>\n",
       "      <th>SCHEDULED_TIME</th>\n",
       "      <th>ELAPSED_TIME</th>\n",
       "      <th>AIR_SYSTEM_DELAY</th>\n",
       "      <th>SECURITY_DELAY</th>\n",
       "      <th>AIRLINE_DELAY</th>\n",
       "      <th>LATE_AIRCRAFT_DELAY</th>\n",
       "      <th>WEATHER_DELAY</th>\n",
       "    </tr>\n",
       "  </thead>\n",
       "  <tbody>\n",
       "    <tr>\n",
       "      <th>0</th>\n",
       "      <td>2015-09-19</td>\n",
       "      <td>9</td>\n",
       "      <td>19</td>\n",
       "      <td>6</td>\n",
       "      <td>AA</td>\n",
       "      <td>394</td>\n",
       "      <td>N3FMAA</td>\n",
       "      <td>ORD</td>\n",
       "      <td>LGA</td>\n",
       "      <td>07:15:00</td>\n",
       "      <td>...</td>\n",
       "      <td>9.0</td>\n",
       "      <td>1.0</td>\n",
       "      <td>733</td>\n",
       "      <td>135.0</td>\n",
       "      <td>127.0</td>\n",
       "      <td>NaN</td>\n",
       "      <td>NaN</td>\n",
       "      <td>NaN</td>\n",
       "      <td>NaN</td>\n",
       "      <td>NaN</td>\n",
       "    </tr>\n",
       "    <tr>\n",
       "      <th>1</th>\n",
       "      <td>2015-10-28</td>\n",
       "      <td>10</td>\n",
       "      <td>28</td>\n",
       "      <td>3</td>\n",
       "      <td>AA</td>\n",
       "      <td>375</td>\n",
       "      <td>N4YDAA</td>\n",
       "      <td>11298</td>\n",
       "      <td>13342</td>\n",
       "      <td>20:15:00</td>\n",
       "      <td>...</td>\n",
       "      <td>0.0</td>\n",
       "      <td>-31.0</td>\n",
       "      <td>853</td>\n",
       "      <td>149.0</td>\n",
       "      <td>118.0</td>\n",
       "      <td>NaN</td>\n",
       "      <td>NaN</td>\n",
       "      <td>NaN</td>\n",
       "      <td>NaN</td>\n",
       "      <td>NaN</td>\n",
       "    </tr>\n",
       "    <tr>\n",
       "      <th>2</th>\n",
       "      <td>2015-08-19</td>\n",
       "      <td>8</td>\n",
       "      <td>19</td>\n",
       "      <td>3</td>\n",
       "      <td>MQ</td>\n",
       "      <td>3648</td>\n",
       "      <td>N512MQ</td>\n",
       "      <td>XNA</td>\n",
       "      <td>ORD</td>\n",
       "      <td>12:22:00</td>\n",
       "      <td>...</td>\n",
       "      <td>-1.0</td>\n",
       "      <td>-21.0</td>\n",
       "      <td>522</td>\n",
       "      <td>108.0</td>\n",
       "      <td>88.0</td>\n",
       "      <td>NaN</td>\n",
       "      <td>NaN</td>\n",
       "      <td>NaN</td>\n",
       "      <td>NaN</td>\n",
       "      <td>NaN</td>\n",
       "    </tr>\n",
       "    <tr>\n",
       "      <th>3</th>\n",
       "      <td>2015-12-01</td>\n",
       "      <td>12</td>\n",
       "      <td>1</td>\n",
       "      <td>2</td>\n",
       "      <td>WN</td>\n",
       "      <td>4096</td>\n",
       "      <td>N912WN</td>\n",
       "      <td>PHX</td>\n",
       "      <td>BWI</td>\n",
       "      <td>11:20:00</td>\n",
       "      <td>...</td>\n",
       "      <td>11.0</td>\n",
       "      <td>-14.0</td>\n",
       "      <td>1999</td>\n",
       "      <td>260.0</td>\n",
       "      <td>235.0</td>\n",
       "      <td>NaN</td>\n",
       "      <td>NaN</td>\n",
       "      <td>NaN</td>\n",
       "      <td>NaN</td>\n",
       "      <td>NaN</td>\n",
       "    </tr>\n",
       "    <tr>\n",
       "      <th>4</th>\n",
       "      <td>2015-09-15</td>\n",
       "      <td>9</td>\n",
       "      <td>15</td>\n",
       "      <td>2</td>\n",
       "      <td>WN</td>\n",
       "      <td>285</td>\n",
       "      <td>N7718B</td>\n",
       "      <td>MCI</td>\n",
       "      <td>DEN</td>\n",
       "      <td>14:10:00</td>\n",
       "      <td>...</td>\n",
       "      <td>-4.0</td>\n",
       "      <td>-12.0</td>\n",
       "      <td>533</td>\n",
       "      <td>105.0</td>\n",
       "      <td>97.0</td>\n",
       "      <td>NaN</td>\n",
       "      <td>NaN</td>\n",
       "      <td>NaN</td>\n",
       "      <td>NaN</td>\n",
       "      <td>NaN</td>\n",
       "    </tr>\n",
       "  </tbody>\n",
       "</table>\n",
       "<p>5 rows × 21 columns</p>\n",
       "</div>"
      ],
      "text/plain": [
       "         DATE  MONTH  DAY  DAY_OF_WEEK AIRLINE  FLIGHT_NUMBER TAIL_NUMBER  \\\n",
       "0  2015-09-19      9   19            6      AA            394      N3FMAA   \n",
       "1  2015-10-28     10   28            3      AA            375      N4YDAA   \n",
       "2  2015-08-19      8   19            3      MQ           3648      N512MQ   \n",
       "3  2015-12-01     12    1            2      WN           4096      N912WN   \n",
       "4  2015-09-15      9   15            2      WN            285      N7718B   \n",
       "\n",
       "  ORIGIN_AIRPORT DESTINATION_AIRPORT SCHED_DEP      ...       DEPARTURE_DELAY  \\\n",
       "0            ORD                 LGA  07:15:00      ...                   9.0   \n",
       "1          11298               13342  20:15:00      ...                   0.0   \n",
       "2            XNA                 ORD  12:22:00      ...                  -1.0   \n",
       "3            PHX                 BWI  11:20:00      ...                  11.0   \n",
       "4            MCI                 DEN  14:10:00      ...                  -4.0   \n",
       "\n",
       "   ARRIVAL_DELAY  DISTANCE  SCHEDULED_TIME  ELAPSED_TIME  AIR_SYSTEM_DELAY  \\\n",
       "0            1.0       733           135.0         127.0               NaN   \n",
       "1          -31.0       853           149.0         118.0               NaN   \n",
       "2          -21.0       522           108.0          88.0               NaN   \n",
       "3          -14.0      1999           260.0         235.0               NaN   \n",
       "4          -12.0       533           105.0          97.0               NaN   \n",
       "\n",
       "   SECURITY_DELAY  AIRLINE_DELAY  LATE_AIRCRAFT_DELAY  WEATHER_DELAY  \n",
       "0             NaN            NaN                  NaN            NaN  \n",
       "1             NaN            NaN                  NaN            NaN  \n",
       "2             NaN            NaN                  NaN            NaN  \n",
       "3             NaN            NaN                  NaN            NaN  \n",
       "4             NaN            NaN                  NaN            NaN  \n",
       "\n",
       "[5 rows x 21 columns]"
      ]
     },
     "execution_count": 83,
     "metadata": {},
     "output_type": "execute_result"
    }
   ],
   "source": [
    "#Display the first couple columns\n",
    "df.head()"
   ]
  },
  {
   "cell_type": "code",
   "execution_count": 84,
   "metadata": {},
   "outputs": [
    {
     "data": {
      "text/plain": [
       "Index(['AIR_SYSTEM_DELAY', 'SECURITY_DELAY', 'AIRLINE_DELAY',\n",
       "       'LATE_AIRCRAFT_DELAY', 'WEATHER_DELAY'],\n",
       "      dtype='object')"
      ]
     },
     "execution_count": 84,
     "metadata": {},
     "output_type": "execute_result"
    }
   ],
   "source": [
    "#Let's first clean our dataframe\n",
    "#See where the missing values are\n",
    "cols_missing_values = df.columns[df.isnull().any()]\n",
    "cols_missing_values"
   ]
  },
  {
   "cell_type": "code",
   "execution_count": 85,
   "metadata": {},
   "outputs": [
    {
     "data": {
      "text/plain": [
       "0"
      ]
     },
     "execution_count": 85,
     "metadata": {},
     "output_type": "execute_result"
    }
   ],
   "source": [
    "#Let's see if we have any missing values in the 'ARRIVAL_DELAY' column\n",
    "np.sum([df.ARRIVAL_DELAY.isnull()])"
   ]
  },
  {
   "cell_type": "code",
   "execution_count": 160,
   "metadata": {},
   "outputs": [],
   "source": [
    "#Create the variable 'DELAY_OR_NOT' in our DataFrame based on if 'ARRIVAL_DELAY_>=15 (min)\n",
    "#Since we saw we do not have any missing values in ARRIVAL_DELAY column, we can proceed.\n",
    "DELAY_OR_NOT = (df.ARRIVAL_DELAY >= 15).astype(int)\n",
    "df['DELAY_OR_NOT'] = DELAY_OR_NOT\n"
   ]
  },
  {
   "cell_type": "markdown",
   "metadata": {},
   "source": [
    "**Question 2**<br>(5pts) Make sure you understand the data variable descriptions before you start the analysis. Consider all the columns and determine and list which of these predictors should not be used."
   ]
  },
  {
   "cell_type": "markdown",
   "metadata": {},
   "source": [
    "**I believe there is several columns which do not help in our analysis**\n",
    "\n",
    "# DATE \n",
    "since we already have variables MONTH and DAY and we know all the data points are from 2015\n",
    "# SCHEDULED_TIME\n",
    "is duplicate information since SCHEDULED_TIME = SCHED_ARRIVAL -  SCHED_DEPARTURE\n",
    "# ELAPSED_TIME \n",
    "is duplicate information since ELAPSED_TIME = SCHED_ARRIVAL + ARRIVAL_DELAY - (SCHED_DEPARTURE + DEPARTURE DELAY)\n",
    "# FLIGHT NUMBER\n",
    "It is redundant since we have info about origin/destination and scheduled dep/arr time\n",
    "# TAIL NUMBER\n",
    "This is indicative of each unique plane. When we have a dataset with 800,000 observations and 4819 planes, it is very unlikely our regression model would be able to recognize if there is a particular plane which causes delay.\n",
    "\n",
    "# All the delay features\n",
    "Given the fact we already have a \"delay_or_not\" response we are seeking, our \"types\" of delays are not predictors of whether there will be a delay or not. In other words, a type of \"delay\" will predict the length of the delay but not whether there will be an event of a delay. "
   ]
  },
  {
   "cell_type": "markdown",
   "metadata": {},
   "source": [
    "**So, we will get rid of those in our analysis in this subproblem. I already looked for missing values in the previous subquestion and the missing values happen to be only in the columns I am dropping.**"
   ]
  },
  {
   "cell_type": "code",
   "execution_count": 87,
   "metadata": {
    "collapsed": true
   },
   "outputs": [],
   "source": [
    "#We copy the dataframe, since it's 2017 and we all have enough memory,right? \n",
    "\n",
    "new_df = df.copy(deep=True)\n",
    "\n",
    "#drop all the columns based on the analysis in the cell above\n",
    "del new_df['DATE']\n",
    "del new_df['SCHEDULED_TIME']\n",
    "del new_df['ELAPSED_TIME']\n",
    "del new_df['FLIGHT_NUMBER']\n",
    "del new_df['TAIL_NUMBER']\n",
    "\n",
    "del new_df['ARRIVAL_DELAY']\n",
    "del new_df['DEPARTURE_DELAY']\n",
    "del new_df['AIR_SYSTEM_DELAY']\n",
    "del new_df['AIRLINE_DELAY']\n",
    "del new_df['SECURITY_DELAY']\n",
    "del new_df['LATE_AIRCRAFT_DELAY']\n",
    "del new_df['WEATHER_DELAY']"
   ]
  },
  {
   "cell_type": "markdown",
   "metadata": {},
   "source": [
    "**Question 3** <br>\n",
    "(15pts) Perform EDA to gain intuition of the factors that affect delay and provide visuals: do delays vary across airlines, or time of departure, or airport (do, at the very least, Chicago (ORD), Boston (BOS), and your favorite another airport), or airport traffic?"
   ]
  },
  {
   "cell_type": "code",
   "execution_count": 89,
   "metadata": {
    "collapsed": true
   },
   "outputs": [],
   "source": [
    "#We will ONLY look at the visualisation in the training data we will later use to build our model\n",
    "#(I am splitting train/test here just for purposes for visualisation, I am later using the same random seed \n",
    "#to do it again after preproccessing)\n",
    "\n",
    "#Subsample the data to reduce the # of observations.\n",
    "np.random.seed(9001)\n",
    "new_df_for_viz = new_df.sample(n=100000,random_state=6)\n",
    "#Split the data in test and training (see Lecture 5)\n",
    "train_df_viz, data_test_NOT_USE = train_test_split(new_df_for_viz,test_size=0.33, random_state=0)"
   ]
  },
  {
   "cell_type": "code",
   "execution_count": 90,
   "metadata": {},
   "outputs": [
    {
     "data": {
      "image/png": "[encoded data removed]",
      "text/plain": [
       "<matplotlib.figure.Figure at 0x11a45a860>"
      ]
     },
     "metadata": {},
     "output_type": "display_data"
    }
   ],
   "source": [
    "#Let's see what airlines had the highest percentage of delays in 2015\n",
    "list_of_airlines = [i for i in train_df_viz.AIRLINE.value_counts().index]\n",
    "airlines_delays = []\n",
    "\n",
    "for i in list_of_airlines:\n",
    "    delayed = train_df_viz[train_df_viz.AIRLINE==i][train_df_viz.DELAY_OR_NOT==1].shape[0]\n",
    "    not_delayed = train_df_viz[train_df_viz.AIRLINE==i][train_df_viz.DELAY_OR_NOT==0].shape[0]\n",
    "    airlines_delays.append(delayed/(delayed+not_delayed))\n",
    "\n",
    "plt.figure(figsize=(20,10))\n",
    "plt.bar([i for i in range(len(airlines_delays))],airlines_delays,color='red',label = \"Percentage of delayed flights by Airline\")\n",
    "plt.xticks([i for i in range(len(airlines_delays))],list_of_airlines);\n",
    "mean_delays=np.mean(airlines_delays)\n",
    "plt.axhline(mean_delays,label='Mean percentage of delay accross airlines')\n",
    "plt.legend();\n",
    "plt.xlabel(\"Airline\")\n",
    "plt.ylabel(\"Ratio of delayed flights\");"
   ]
  },
  {
   "cell_type": "markdown",
   "metadata": {},
   "source": [
    "**We see significant differences in the ratio of delayed flights among airlines. For example, \"HA\" seems to have relatively less delayed flights than \"NK\"**"
   ]
  },
  {
   "cell_type": "code",
   "execution_count": 91,
   "metadata": {},
   "outputs": [
    {
     "data": {
      "image/png": "[encoded data removed]",
      "text/plain": [
       "<matplotlib.figure.Figure at 0x277380be0>"
      ]
     },
     "metadata": {},
     "output_type": "display_data"
    }
   ],
   "source": [
    "#Let's see which airline had the most delays in 2015 as well as how many flights were not delayed for that airlines (total number)\n",
    "import seaborn as sns\n",
    "plt.figure(figsize=(20,10))\n",
    "sns.set(style=\"darkgrid\")\n",
    "sns.countplot(x='AIRLINE',hue='DELAY_OR_NOT',data=train_df_viz,palette=\"Set2\");"
   ]
  },
  {
   "cell_type": "markdown",
   "metadata": {},
   "source": [
    "**This graph is related to the one above. However, we are just plotting the absolute number of flights here.**"
   ]
  },
  {
   "cell_type": "code",
   "execution_count": 92,
   "metadata": {},
   "outputs": [
    {
     "data": {
      "image/png": "[encoded data removed]",
      "text/plain": [
       "<matplotlib.figure.Figure at 0x11c00af28>"
      ]
     },
     "metadata": {},
     "output_type": "display_data"
    }
   ],
   "source": [
    "#Let's see what days of the week had the most delays in 2015\n",
    "weekday_delays = []\n",
    "for i in range(1,8):\n",
    "    delays = train_df_viz[train_df_viz.DAY_OF_WEEK==i][train_df_viz.DELAY_OR_NOT==1].shape[0]\n",
    "    total = train_df_viz[train_df_viz.DAY_OF_WEEK==i].shape[0]\n",
    "    weekday_delays.append(delays/total)\n",
    "    \n",
    "plt.figure(figsize=(20,10))\n",
    "plt.bar([i for i in range(7)],weekday_delays,color='green',label = \"Delay in a weekday\")\n",
    "plt.xticks([i for i in range(7)],['Monday','Tuesday','Wednesday','Thursday','Friday','Saturday','Sunday']);\n",
    "mean_delays=np.mean(weekday_delays)\n",
    "plt.axhline(mean_delays,label='Mean delay across weekdays',color='gold')\n",
    "plt.legend();\n",
    "plt.xlabel(\"Day of the week\")\n",
    "plt.ylabel(\"Percentage of delays\");"
   ]
  },
  {
   "cell_type": "markdown",
   "metadata": {},
   "source": [
    "**This visualisation indicates that certain days have a higher ratio of delayed flights than others. For example, Thursdays have the highest percentage of delayed flights while Saturdays the smallest.**"
   ]
  },
  {
   "cell_type": "code",
   "execution_count": 93,
   "metadata": {},
   "outputs": [
    {
     "data": {
      "image/png": "[encoded data removed]",
      "text/plain": [
       "<matplotlib.figure.Figure at 0x11a45a550>"
      ]
     },
     "metadata": {},
     "output_type": "display_data"
    }
   ],
   "source": [
    "#Let's visualize the total delays per day of the week\n",
    "sns.set(style=\"darkgrid\")\n",
    "plt.figure(figsize=(20,10))\n",
    "sns.countplot(x='DAY_OF_WEEK',hue='DELAY_OR_NOT',data=train_df_viz,palette=\"Set1\")\n",
    "plt.xticks([i for i in range(7)],['Monday','Tuesday','Wednesday','Thursday','Friday','Saturday','Sunday']);"
   ]
  },
  {
   "cell_type": "markdown",
   "metadata": {},
   "source": [
    "**This graph is related to the one above. However, we are just plotting the absolute number of flights per day of the week here.**\n"
   ]
  },
  {
   "cell_type": "code",
   "execution_count": 94,
   "metadata": {},
   "outputs": [
    {
     "data": {
      "image/png": "[encoded data removed]",
      "text/plain": [
       "<matplotlib.figure.Figure at 0x11c43c748>"
      ]
     },
     "metadata": {},
     "output_type": "display_data"
    }
   ],
   "source": [
    "#Let's take a look at how many flights in total were delayed in each month \n",
    "sns.set(style=\"darkgrid\")\n",
    "plt.figure(figsize=(20,10))\n",
    "sns.countplot(x='MONTH',data=train_df_viz[train_df_viz.DELAY_OR_NOT==1],palette=\"Set1\");"
   ]
  },
  {
   "cell_type": "markdown",
   "metadata": {},
   "source": [
    "**In this graph, we plot the absolute number of delayed flights in any given month. We see that the lowest number of delayed flights is in September/October, while the most delayed flights are in June/July timeframe.**"
   ]
  },
  {
   "cell_type": "code",
   "execution_count": 95,
   "metadata": {},
   "outputs": [
    {
     "data": {
      "image/png": "[encoded data removed]",
      "text/plain": [
       "<matplotlib.figure.Figure at 0x11a57dd30>"
      ]
     },
     "metadata": {},
     "output_type": "display_data"
    }
   ],
   "source": [
    "#Let's take a look at the percentage of flights delayed in each month \n",
    "months = train_df_viz.groupby('MONTH').mean()\n",
    "plt.figure(figsize=(20,10))\n",
    "plt.bar(months.index,months.DELAY_OR_NOT,color='gray',label = \"Percentage delay in a month\")\n",
    "plt.axhline(mean_delays,label='Mean percentage delay across months',color='gold')\n",
    "plt.legend(bbox_to_anchor=(1, 1));\n",
    "plt.xlabel(\"Month\")\n",
    "plt.ylabel(\"Percentage of delays\");"
   ]
  },
  {
   "cell_type": "markdown",
   "metadata": {},
   "source": [
    "**Here, we plot the ratio of flights delayed each month. The trends reflect what the previous graph with absolute numbers displayed.**"
   ]
  },
  {
   "cell_type": "code",
   "execution_count": 96,
   "metadata": {},
   "outputs": [
    {
     "data": {
      "image/png": "[encoded data removed]",
      "text/plain": [
       "<matplotlib.figure.Figure at 0x119db9080>"
      ]
     },
     "metadata": {},
     "output_type": "display_data"
    }
   ],
   "source": [
    "#Number of delayed/not delayed flights departing every hour, also showing the overall traffic at the airports at a given hour\n",
    "\n",
    "from datetime import datetime\n",
    "import time\n",
    "\n",
    "# string to time tuple\n",
    "date_str = list(train_df_viz.SCHED_DEP)\n",
    "time_tuples = []\n",
    "for i in date_str:\n",
    "    time_tuple = time.strptime(i, \"%H:%M:%S\")\n",
    "    time_tuples.append(time_tuple.tm_hour)\n",
    "train_df_viz['hour_of_dep'] = np.array(time_tuples)\n",
    "\n",
    "plt.figure(figsize=(20,10))\n",
    "\n",
    "sns.countplot(x='hour_of_dep',hue='DELAY_OR_NOT',data=train_df_viz,palette=\"Set1\");\n",
    "plt.xlabel(\"hour of the day\");"
   ]
  },
  {
   "cell_type": "markdown",
   "metadata": {},
   "source": [
    "**Here we can see the highest number of flights departs in the morning while being the lest delayed, while evening flights are the most delayed and there is less of them than in the morning hours**"
   ]
  },
  {
   "cell_type": "code",
   "execution_count": 97,
   "metadata": {},
   "outputs": [
    {
     "data": {
      "image/png": "[encoded data removed]",
      "text/plain": [
       "<matplotlib.figure.Figure at 0x11c4309e8>"
      ]
     },
     "metadata": {},
     "output_type": "display_data"
    }
   ],
   "source": [
    "#Now, let's plot the percentage of delayed flights dependent on the time departure\n",
    "\n",
    "hour_delays=[]\n",
    "for i in range(24):\n",
    "    delays = train_df_viz[train_df_viz.hour_of_dep==i][train_df_viz.DELAY_OR_NOT==1].shape[0]\n",
    "    total = train_df_viz[train_df_viz.hour_of_dep==i].shape[0]\n",
    "    hour_delays.append(delays/total)\n",
    "\n",
    "plt.figure(figsize=(20,10))\n",
    "plt.bar([i for i in range(24)],hour_delays,color='gray',label = \"Percentage delay in a month\")\n",
    "plt.xticks([i for i in range(24)],[i for i in range(24)]);\n",
    "mean_delays=np.mean(weekday_delays)\n",
    "\n",
    "\n",
    "plt.axhline(mean_delays,label='Mean percentage delay across day hours',color='gold')\n",
    "plt.legend();\n",
    "plt.xlabel(\"Hour of the day\")\n",
    "plt.ylabel(\"Percentage of delays\")\n",
    "del train_df_viz['hour_of_dep'];\n"
   ]
  },
  {
   "cell_type": "markdown",
   "metadata": {},
   "source": [
    "**Seems like most flights are delayed in the evening hours with the peak around 8pm, while morning flights have the least delays.**"
   ]
  },
  {
   "cell_type": "code",
   "execution_count": 98,
   "metadata": {},
   "outputs": [
    {
     "data": {
      "image/png": "[encoded data removed]",
      "text/plain": [
       "<matplotlib.figure.Figure at 0x11f3fc7f0>"
      ]
     },
     "metadata": {},
     "output_type": "display_data"
    }
   ],
   "source": [
    "#Let's look at delays at 15 most busy airports (from left as the busiest)\n",
    "\n",
    "frequent_airports = train_df_viz.ORIGIN_AIRPORT.value_counts().index[0:15]\n",
    "airport_delays = []\n",
    "for i in frequent_airports:\n",
    "    delays = train_df_viz[train_df_viz.ORIGIN_AIRPORT==i][train_df_viz.DELAY_OR_NOT==1].shape[0]\n",
    "    total = train_df_viz[train_df_viz.ORIGIN_AIRPORT==i].shape[0]\n",
    "    airport_delays.append(delays/total)\n",
    "\n",
    "plt.figure(figsize=(20,10))\n",
    "plt.bar([i for i in range(len(frequent_airports))],airport_delays,color='orange',label = \"Percentage delay origin aiport\")\n",
    "plt.xticks([i for i in range(len(frequent_airports))],[i for i in frequent_airports]);\n",
    "mean_delays=np.mean(weekday_delays)\n",
    "plt.axhline(mean_delays,label='Mean percentage delay across {} most frequent airports'.format(len(frequent_airports)),color='black')\n",
    "plt.legend();\n",
    "plt.xlabel(\"Origin airport\")\n",
    "plt.ylabel(\"Percentage of delays\");"
   ]
  },
  {
   "cell_type": "markdown",
   "metadata": {},
   "source": [
    "**Here, we look at the 15 busiest airports (defined as how many flights depart from it in total in 2015). We can see that ORD or MCO have a high percentage of delayed flights while ATL or SEA have a low percentage of delayed flights.**"
   ]
  },
  {
   "cell_type": "markdown",
   "metadata": {},
   "source": [
    "**Question 4**<br>\n",
    "(20pts) Build a classification model that classifies delays according to DELAY_OR_NOT. This is an unbalanced dataset, thus consider the appropriate performance metric when reporting your results."
   ]
  },
  {
   "cell_type": "code",
   "execution_count": 161,
   "metadata": {},
   "outputs": [
    {
     "name": "stdout",
     "output_type": "stream",
     "text": [
      "(100000, 1323) (804941, 22) (67000, 1323) (33000, 1323)\n"
     ]
    }
   ],
   "source": [
    "#Now, we need to convert our categorical variables\n",
    "cols_to_change =['MONTH','DAY','DAY_OF_WEEK','AIRLINE','ORIGIN_AIRPORT','DESTINATION_AIRPORT']\n",
    "\n",
    "#hot-encode\n",
    "new_df_dummy = pd.get_dummies(new_df,columns=cols_to_change)\n",
    "\n",
    "#Subsample the data to reduce the # of observations. \n",
    "new_df_sample = new_df_dummy.sample(n=100000,random_state=6)\n",
    "\n",
    "#Split the data in test and training (see Lecture 5)\n",
    "np.random.seed(9001)\n",
    "data_train, data_test = train_test_split(new_df_sample,test_size=0.33, random_state=0)\n",
    "\n",
    "#Check we actually got the right shapes\n",
    "print(new_df_sample.shape,df.shape,data_train.shape,data_test.shape)\n"
   ]
  },
  {
   "cell_type": "code",
   "execution_count": 100,
   "metadata": {
    "collapsed": true
   },
   "outputs": [],
   "source": [
    "#now create a remaining df to test in Question 6\n",
    "remaining_df = new_df_dummy.drop(new_df_sample.index)"
   ]
  },
  {
   "cell_type": "markdown",
   "metadata": {},
   "source": [
    "**Change the scheduled time of dep and arr to decimals**"
   ]
  },
  {
   "cell_type": "code",
   "execution_count": 101,
   "metadata": {
    "collapsed": true
   },
   "outputs": [],
   "source": [
    "# string to time tuple TRAIN\n",
    "date_str_dep = list(data_train.SCHED_DEP)\n",
    "date_str_arr = list(data_train.SCHED_ARR)\n",
    "time_tuples_dep = []\n",
    "time_tuples_arr = []\n",
    "for i,j in zip(date_str_dep,date_str_arr):\n",
    "    time_tuple_dep = time.strptime(i, \"%H:%M:%S\")\n",
    "    time_tuple_arr = time.strptime(j, \"%H:%M:%S\")\n",
    "    time_tuples_dep.append(time_tuple_dep.tm_hour+time_tuple_dep.tm_min/60)\n",
    "    time_tuples_arr.append(time_tuple_arr.tm_hour+time_tuple_arr.tm_min/60)\n",
    "data_train['SCHED_DEP'] = np.array(time_tuples_dep)\n",
    "data_train['SCHED_ARR'] = np.array(time_tuples_arr)"
   ]
  },
  {
   "cell_type": "code",
   "execution_count": 102,
   "metadata": {
    "collapsed": true
   },
   "outputs": [],
   "source": [
    "# string to time tuple TEST\n",
    "date_str_dep = list(data_test.SCHED_DEP)\n",
    "date_str_arr = list(data_test.SCHED_ARR)\n",
    "time_tuples_dep = []\n",
    "time_tuples_arr = []\n",
    "for i,j in zip(date_str_dep,date_str_arr):\n",
    "    time_tuple_dep = time.strptime(i, \"%H:%M:%S\")\n",
    "    time_tuple_arr = time.strptime(j, \"%H:%M:%S\")\n",
    "    time_tuples_dep.append(time_tuple_dep.tm_hour+time_tuple_dep.tm_min/60)\n",
    "    time_tuples_arr.append(time_tuple_arr.tm_hour+time_tuple_arr.tm_min/60)\n",
    "data_test['SCHED_DEP'] = np.array(time_tuples_dep)\n",
    "data_test['SCHED_ARR'] = np.array(time_tuples_arr)"
   ]
  },
  {
   "cell_type": "code",
   "execution_count": 103,
   "metadata": {
    "collapsed": true
   },
   "outputs": [],
   "source": [
    "# string to time REMAINING df\n",
    "date_str_dep = list(remaining_df.SCHED_DEP)\n",
    "date_str_arr = list(remaining_df.SCHED_ARR)\n",
    "time_tuples_dep = []\n",
    "time_tuples_arr = []\n",
    "for i,j in zip(date_str_dep,date_str_arr):\n",
    "    time_tuple_dep = time.strptime(i, \"%H:%M:%S\")\n",
    "    time_tuple_arr = time.strptime(j, \"%H:%M:%S\")\n",
    "    time_tuples_dep.append(time_tuple_dep.tm_hour+time_tuple_dep.tm_min/60)\n",
    "    time_tuples_arr.append(time_tuple_arr.tm_hour+time_tuple_arr.tm_min/60)\n",
    "remaining_df['SCHED_DEP'] = np.array(time_tuples_dep)\n",
    "remaining_df['SCHED_ARR'] = np.array(time_tuples_arr)"
   ]
  },
  {
   "cell_type": "code",
   "execution_count": 104,
   "metadata": {},
   "outputs": [
    {
     "data": {
      "text/html": [
       "<div>\n",
       "<style>\n",
       "    .dataframe thead tr:only-child th {\n",
       "        text-align: right;\n",
       "    }\n",
       "\n",
       "    .dataframe thead th {\n",
       "        text-align: left;\n",
       "    }\n",
       "\n",
       "    .dataframe tbody tr th {\n",
       "        vertical-align: top;\n",
       "    }\n",
       "</style>\n",
       "<table border=\"1\" class=\"dataframe\">\n",
       "  <thead>\n",
       "    <tr style=\"text-align: right;\">\n",
       "      <th></th>\n",
       "      <th>SCHED_DEP</th>\n",
       "      <th>SCHED_ARR</th>\n",
       "      <th>DISTANCE</th>\n",
       "      <th>DELAY_OR_NOT</th>\n",
       "      <th>MONTH_1</th>\n",
       "      <th>MONTH_2</th>\n",
       "      <th>MONTH_3</th>\n",
       "      <th>MONTH_4</th>\n",
       "      <th>MONTH_5</th>\n",
       "      <th>MONTH_6</th>\n",
       "      <th>...</th>\n",
       "      <th>DESTINATION_AIRPORT_TYS</th>\n",
       "      <th>DESTINATION_AIRPORT_UST</th>\n",
       "      <th>DESTINATION_AIRPORT_VEL</th>\n",
       "      <th>DESTINATION_AIRPORT_VLD</th>\n",
       "      <th>DESTINATION_AIRPORT_VPS</th>\n",
       "      <th>DESTINATION_AIRPORT_WRG</th>\n",
       "      <th>DESTINATION_AIRPORT_WYS</th>\n",
       "      <th>DESTINATION_AIRPORT_XNA</th>\n",
       "      <th>DESTINATION_AIRPORT_YAK</th>\n",
       "      <th>DESTINATION_AIRPORT_YUM</th>\n",
       "    </tr>\n",
       "  </thead>\n",
       "  <tbody>\n",
       "    <tr>\n",
       "      <th>492825</th>\n",
       "      <td>17.450000</td>\n",
       "      <td>18.883333</td>\n",
       "      <td>460</td>\n",
       "      <td>1</td>\n",
       "      <td>0</td>\n",
       "      <td>0</td>\n",
       "      <td>0</td>\n",
       "      <td>0</td>\n",
       "      <td>0</td>\n",
       "      <td>1</td>\n",
       "      <td>...</td>\n",
       "      <td>0</td>\n",
       "      <td>0</td>\n",
       "      <td>0</td>\n",
       "      <td>0</td>\n",
       "      <td>0</td>\n",
       "      <td>0</td>\n",
       "      <td>0</td>\n",
       "      <td>0</td>\n",
       "      <td>0</td>\n",
       "      <td>0</td>\n",
       "    </tr>\n",
       "    <tr>\n",
       "      <th>152130</th>\n",
       "      <td>12.816667</td>\n",
       "      <td>15.550000</td>\n",
       "      <td>867</td>\n",
       "      <td>0</td>\n",
       "      <td>0</td>\n",
       "      <td>1</td>\n",
       "      <td>0</td>\n",
       "      <td>0</td>\n",
       "      <td>0</td>\n",
       "      <td>0</td>\n",
       "      <td>...</td>\n",
       "      <td>0</td>\n",
       "      <td>0</td>\n",
       "      <td>0</td>\n",
       "      <td>0</td>\n",
       "      <td>0</td>\n",
       "      <td>0</td>\n",
       "      <td>0</td>\n",
       "      <td>0</td>\n",
       "      <td>0</td>\n",
       "      <td>0</td>\n",
       "    </tr>\n",
       "    <tr>\n",
       "      <th>108541</th>\n",
       "      <td>15.750000</td>\n",
       "      <td>17.700000</td>\n",
       "      <td>867</td>\n",
       "      <td>0</td>\n",
       "      <td>0</td>\n",
       "      <td>0</td>\n",
       "      <td>0</td>\n",
       "      <td>1</td>\n",
       "      <td>0</td>\n",
       "      <td>0</td>\n",
       "      <td>...</td>\n",
       "      <td>0</td>\n",
       "      <td>0</td>\n",
       "      <td>0</td>\n",
       "      <td>0</td>\n",
       "      <td>0</td>\n",
       "      <td>0</td>\n",
       "      <td>0</td>\n",
       "      <td>0</td>\n",
       "      <td>0</td>\n",
       "      <td>0</td>\n",
       "    </tr>\n",
       "    <tr>\n",
       "      <th>508329</th>\n",
       "      <td>12.866667</td>\n",
       "      <td>18.300000</td>\n",
       "      <td>1452</td>\n",
       "      <td>0</td>\n",
       "      <td>0</td>\n",
       "      <td>0</td>\n",
       "      <td>0</td>\n",
       "      <td>0</td>\n",
       "      <td>0</td>\n",
       "      <td>0</td>\n",
       "      <td>...</td>\n",
       "      <td>0</td>\n",
       "      <td>0</td>\n",
       "      <td>0</td>\n",
       "      <td>0</td>\n",
       "      <td>0</td>\n",
       "      <td>0</td>\n",
       "      <td>0</td>\n",
       "      <td>0</td>\n",
       "      <td>0</td>\n",
       "      <td>0</td>\n",
       "    </tr>\n",
       "    <tr>\n",
       "      <th>422830</th>\n",
       "      <td>5.500000</td>\n",
       "      <td>6.616667</td>\n",
       "      <td>201</td>\n",
       "      <td>0</td>\n",
       "      <td>0</td>\n",
       "      <td>0</td>\n",
       "      <td>1</td>\n",
       "      <td>0</td>\n",
       "      <td>0</td>\n",
       "      <td>0</td>\n",
       "      <td>...</td>\n",
       "      <td>0</td>\n",
       "      <td>0</td>\n",
       "      <td>0</td>\n",
       "      <td>0</td>\n",
       "      <td>0</td>\n",
       "      <td>0</td>\n",
       "      <td>0</td>\n",
       "      <td>0</td>\n",
       "      <td>0</td>\n",
       "      <td>0</td>\n",
       "    </tr>\n",
       "  </tbody>\n",
       "</table>\n",
       "<p>5 rows × 1323 columns</p>\n",
       "</div>"
      ],
      "text/plain": [
       "        SCHED_DEP  SCHED_ARR  DISTANCE  DELAY_OR_NOT  MONTH_1  MONTH_2  \\\n",
       "492825  17.450000  18.883333       460             1        0        0   \n",
       "152130  12.816667  15.550000       867             0        0        1   \n",
       "108541  15.750000  17.700000       867             0        0        0   \n",
       "508329  12.866667  18.300000      1452             0        0        0   \n",
       "422830   5.500000   6.616667       201             0        0        0   \n",
       "\n",
       "        MONTH_3  MONTH_4  MONTH_5  MONTH_6           ...             \\\n",
       "492825        0        0        0        1           ...              \n",
       "152130        0        0        0        0           ...              \n",
       "108541        0        1        0        0           ...              \n",
       "508329        0        0        0        0           ...              \n",
       "422830        1        0        0        0           ...              \n",
       "\n",
       "        DESTINATION_AIRPORT_TYS  DESTINATION_AIRPORT_UST  \\\n",
       "492825                        0                        0   \n",
       "152130                        0                        0   \n",
       "108541                        0                        0   \n",
       "508329                        0                        0   \n",
       "422830                        0                        0   \n",
       "\n",
       "        DESTINATION_AIRPORT_VEL  DESTINATION_AIRPORT_VLD  \\\n",
       "492825                        0                        0   \n",
       "152130                        0                        0   \n",
       "108541                        0                        0   \n",
       "508329                        0                        0   \n",
       "422830                        0                        0   \n",
       "\n",
       "        DESTINATION_AIRPORT_VPS  DESTINATION_AIRPORT_WRG  \\\n",
       "492825                        0                        0   \n",
       "152130                        0                        0   \n",
       "108541                        0                        0   \n",
       "508329                        0                        0   \n",
       "422830                        0                        0   \n",
       "\n",
       "        DESTINATION_AIRPORT_WYS  DESTINATION_AIRPORT_XNA  \\\n",
       "492825                        0                        0   \n",
       "152130                        0                        0   \n",
       "108541                        0                        0   \n",
       "508329                        0                        0   \n",
       "422830                        0                        0   \n",
       "\n",
       "        DESTINATION_AIRPORT_YAK  DESTINATION_AIRPORT_YUM  \n",
       "492825                        0                        0  \n",
       "152130                        0                        0  \n",
       "108541                        0                        0  \n",
       "508329                        0                        0  \n",
       "422830                        0                        0  \n",
       "\n",
       "[5 rows x 1323 columns]"
      ]
     },
     "execution_count": 104,
     "metadata": {},
     "output_type": "execute_result"
    }
   ],
   "source": [
    "#check we converted time to decimals correctly in SCHED_DEP and SCHED_ARR features\n",
    "data_train.head()"
   ]
  },
  {
   "cell_type": "markdown",
   "metadata": {},
   "source": [
    "**Let's take a look at how unbalanced our data (delayed/not delayed) is - I see that only ~10% of observations are delayed flights.**"
   ]
  },
  {
   "cell_type": "code",
   "execution_count": 105,
   "metadata": {},
   "outputs": [
    {
     "name": "stdout",
     "output_type": "stream",
     "text": [
      "(6929, 1323)\n",
      "(60071, 1323)\n"
     ]
    }
   ],
   "source": [
    "print(data_train[data_train.DELAY_OR_NOT==1].shape)\n",
    "print(data_train[data_train.DELAY_OR_NOT==0].shape)"
   ]
  },
  {
   "cell_type": "markdown",
   "metadata": {},
   "source": [
    "**Finally, before I start building out models, I need to standardize all of our continuous variables**"
   ]
  },
  {
   "cell_type": "code",
   "execution_count": 106,
   "metadata": {
    "collapsed": true
   },
   "outputs": [],
   "source": [
    "p_data_train=data_train.copy(deep=True)\n",
    "p_data_train.loc[:,\"SCHED_DEP\":\"DISTANCE\"]=(data_train.loc[:,\"SCHED_DEP\":\"DISTANCE\"]-data_train.loc[:,\"SCHED_DEP\":\"DISTANCE\"].mean())/data_train.loc[:,\"SCHED_DEP\":\"DISTANCE\"].std()\n",
    "\n",
    "#test set - use mean and std of the training set\n",
    "p_data_test=data_test.copy(deep=True)\n",
    "p_data_test.loc[:,\"SCHED_DEP\":\"DISTANCE\"]=(data_test.loc[:,\"SCHED_DEP\":\"DISTANCE\"]-data_train.loc[:,\"SCHED_DEP\":\"DISTANCE\"].mean())/data_train.loc[:,\"SCHED_DEP\":\"DISTANCE\"].std()\n",
    "\n",
    "p_remaining_df = remaining_df.copy(deep=True)\n",
    "p_remaining_df.loc[:,\"SCHED_DEP\":\"DISTANCE\"]=(remaining_df.loc[:,\"SCHED_DEP\":\"DISTANCE\"]-data_train.loc[:,\"SCHED_DEP\":\"DISTANCE\"].mean())/data_train.loc[:,\"SCHED_DEP\":\"DISTANCE\"].std()"
   ]
  },
  {
   "cell_type": "code",
   "execution_count": 162,
   "metadata": {},
   "outputs": [
    {
     "data": {
      "text/plain": [
       "(67000, 1323)"
      ]
     },
     "execution_count": 162,
     "metadata": {},
     "output_type": "execute_result"
    }
   ],
   "source": [
    "p_data_train.shape"
   ]
  },
  {
   "cell_type": "markdown",
   "metadata": {},
   "source": [
    "**Now, I am ready to try different classification models** <br>"
   ]
  },
  {
   "cell_type": "code",
   "execution_count": 108,
   "metadata": {
    "collapsed": true
   },
   "outputs": [],
   "source": [
    "x_train = p_data_train.copy(deep=True).drop('DELAY_OR_NOT',axis=1)\n",
    "y_train = p_data_train.DELAY_OR_NOT\n",
    "\n",
    "x_test = p_data_test.copy(deep=True).drop('DELAY_OR_NOT',axis=1)\n",
    "y_test = p_data_test.DELAY_OR_NOT"
   ]
  },
  {
   "cell_type": "markdown",
   "metadata": {},
   "source": [
    "**I will use the classification models comparison code from Tuesday section 8 which reviewed last years midterm. However, I will throw out the kNN classification since calculating Euclidean distances between over 1000 predictors would be too computationally expensive**"
   ]
  },
  {
   "cell_type": "code",
   "execution_count": 109,
   "metadata": {
    "collapsed": true
   },
   "outputs": [],
   "source": [
    "#following lamda function scores predictions for two-way classifier\n",
    "score = lambda model, x_train, y_train: pd.Series([model.score(x_train, y_train), \n",
    "                                                 model.score(x_train[y_train==0], y_train[y_train==0]),\n",
    "                                                 model.score(x_train[y_train==1], y_train[y_train==1])], \n",
    "                                                index=['overall accuracy', 'accuracy on class 0', 'accuracy on class 1'])\n",
    "def out_of_box_class(x,y):\n",
    "    \n",
    "\n",
    "    #Unweighted logistic regression\n",
    "    unweighted_logistic = LogisticRegression(C=1000)\n",
    "    unweighted_logistic.fit(x, y)\n",
    "\n",
    "    unweighted_log_scores = score(unweighted_logistic, x, y)\n",
    "    print('unweighted log')\n",
    "\n",
    "\n",
    "    #Weighted logistic regression\n",
    "    weighted_logistic = LogisticRegression(C=1000, class_weight='balanced')\n",
    "    weighted_logistic.fit(x, y)\n",
    "\n",
    "    weighted_log_scores = score(weighted_logistic, x, y)\n",
    "    print('weighted log')\n",
    "\n",
    "\n",
    "    #LDA\n",
    "    lda = LDA()\n",
    "    lda.fit(x, y)\n",
    "\n",
    "    lda_scores = score(lda, x, y)\n",
    "    print('lda')\n",
    "\n",
    "    #QDA\n",
    "    qda = QDA()\n",
    "    qda.fit(x, y)\n",
    "\n",
    "    qda_scores = score(qda, x, y)\n",
    "    print('qda')\n",
    "\n",
    "    #Decision Tree\n",
    "    tree = DecisionTree(max_depth=50, class_weight='balanced', criterion='entropy')\n",
    "    tree.fit(x, y)\n",
    "\n",
    "    tree_scores = score(tree, x, y)\n",
    "    print('tree')\n",
    "\n",
    "    score_df = pd.DataFrame({'unweighted logistic': unweighted_log_scores,\n",
    "                             'weighted logistic': weighted_log_scores,\n",
    "                             'lda': lda_scores,\n",
    "                             'qda': qda_scores,\n",
    "                             'tree': tree_scores})\n",
    "    return score_df"
   ]
  },
  {
   "cell_type": "code",
   "execution_count": 110,
   "metadata": {},
   "outputs": [
    {
     "name": "stdout",
     "output_type": "stream",
     "text": [
      "unweighted log\n",
      "weighted log\n",
      "lda\n",
      "qda\n",
      "tree\n"
     ]
    },
    {
     "data": {
      "text/html": [
       "<div>\n",
       "<style>\n",
       "    .dataframe thead tr:only-child th {\n",
       "        text-align: right;\n",
       "    }\n",
       "\n",
       "    .dataframe thead th {\n",
       "        text-align: left;\n",
       "    }\n",
       "\n",
       "    .dataframe tbody tr th {\n",
       "        vertical-align: top;\n",
       "    }\n",
       "</style>\n",
       "<table border=\"1\" class=\"dataframe\">\n",
       "  <thead>\n",
       "    <tr style=\"text-align: right;\">\n",
       "      <th></th>\n",
       "      <th>lda</th>\n",
       "      <th>qda</th>\n",
       "      <th>tree</th>\n",
       "      <th>unweighted logistic</th>\n",
       "      <th>weighted logistic</th>\n",
       "    </tr>\n",
       "  </thead>\n",
       "  <tbody>\n",
       "    <tr>\n",
       "      <th>overall accuracy</th>\n",
       "      <td>0.91197</td>\n",
       "      <td>0.152701</td>\n",
       "      <td>0.982910</td>\n",
       "      <td>0.915209</td>\n",
       "      <td>0.756463</td>\n",
       "    </tr>\n",
       "    <tr>\n",
       "      <th>accuracy on class 0</th>\n",
       "      <td>0.98615</td>\n",
       "      <td>0.054968</td>\n",
       "      <td>0.983569</td>\n",
       "      <td>0.989363</td>\n",
       "      <td>0.755140</td>\n",
       "    </tr>\n",
       "    <tr>\n",
       "      <th>accuracy on class 1</th>\n",
       "      <td>0.26887</td>\n",
       "      <td>1.000000</td>\n",
       "      <td>0.977197</td>\n",
       "      <td>0.272334</td>\n",
       "      <td>0.767932</td>\n",
       "    </tr>\n",
       "  </tbody>\n",
       "</table>\n",
       "</div>"
      ],
      "text/plain": [
       "                         lda       qda      tree  unweighted logistic  \\\n",
       "overall accuracy     0.91197  0.152701  0.982910             0.915209   \n",
       "accuracy on class 0  0.98615  0.054968  0.983569             0.989363   \n",
       "accuracy on class 1  0.26887  1.000000  0.977197             0.272334   \n",
       "\n",
       "                     weighted logistic  \n",
       "overall accuracy              0.756463  \n",
       "accuracy on class 0           0.755140  \n",
       "accuracy on class 1           0.767932  "
      ]
     },
     "execution_count": 110,
     "metadata": {},
     "output_type": "execute_result"
    }
   ],
   "source": [
    "out_of_box_class(x_train,y_train)"
   ]
  },
  {
   "cell_type": "markdown",
   "metadata": {},
   "source": [
    "**From running these accuracy tests, I can see that the data is likely not multivariate normally (MVN) distributed (see LDA/QDA accuracy score on the class 0/1). Thus, LDA/QDA is not a good fit given the fact they require MVN property. Additionally, the decision tree is clearly overfitting. Thus we will choose weighted logistic regression as our classification model. Further justification is that only ~10% of my training data has DELAY==1 response, thus there needs to be weight assigned to the \"positive DELAY\" samples to ensure better accuracy of our model. Finally, the overall score of the weighted logit regression (still with non-tuned C parameter) is fairly high.**"
   ]
  },
  {
   "cell_type": "code",
   "execution_count": 111,
   "metadata": {},
   "outputs": [
    {
     "name": "stdout",
     "output_type": "stream",
     "text": [
      "Training set prediction accuracy of logistic regression = 0.757880597015\n"
     ]
    }
   ],
   "source": [
    "# Fit cross-validated weighted L2 logistic regression \n",
    "clf = LogisticRegressionCV(fit_intercept=True, penalty='l2',class_weight='balanced')\n",
    "clf.fit(x_train, y_train)\n",
    "\n",
    "y_train_hat = clf.predict(x_train)\n",
    "\n",
    "print(\"Training set prediction accuracy of logistic regression =\", accuracy_score(y_train, y_train_hat))"
   ]
  },
  {
   "cell_type": "code",
   "execution_count": 112,
   "metadata": {},
   "outputs": [
    {
     "data": {
      "text/plain": [
       "10"
      ]
     },
     "execution_count": 112,
     "metadata": {},
     "output_type": "execute_result"
    }
   ],
   "source": [
    "clf.Cs"
   ]
  },
  {
   "cell_type": "markdown",
   "metadata": {},
   "source": [
    "**After tuning the hyperparameter C on my weighted logistic regression, we got C = 10. In logistic regression, as seen in the class, C is the inverse of the regularization parameter $\\lambda$.**"
   ]
  },
  {
   "cell_type": "code",
   "execution_count": 113,
   "metadata": {},
   "outputs": [
    {
     "name": "stdout",
     "output_type": "stream",
     "text": [
      "(33000, 1322) (67000, 1322)\n"
     ]
    }
   ],
   "source": [
    "print(x_test.shape,x_train.shape)"
   ]
  },
  {
   "cell_type": "code",
   "execution_count": 114,
   "metadata": {},
   "outputs": [
    {
     "name": "stdout",
     "output_type": "stream",
     "text": [
      "Accuracy on the test set achieved:\n",
      "overall accuracy       0.751939\n",
      "accuracy on class 0    0.753893\n",
      "accuracy on class 1    0.734535\n",
      "dtype: float64\n"
     ]
    }
   ],
   "source": [
    "clf_test_score = score(clf,x_test,y_test)\n",
    "print(\"Accuracy on the test set achieved:\")\n",
    "print(clf_test_score)"
   ]
  },
  {
   "cell_type": "code",
   "execution_count": 115,
   "metadata": {},
   "outputs": [
    {
     "name": "stdout",
     "output_type": "stream",
     "text": [
      "The AUC score on the test set auc_logreg 0.820862632096\n"
     ]
    }
   ],
   "source": [
    "auc_logreg_test = metrics.roc_auc_score(y_test, clf.predict_proba(x_test)[:,1])\n",
    "print(\"The AUC score on the test set auc_logreg\",auc_logreg_test)"
   ]
  },
  {
   "cell_type": "markdown",
   "metadata": {},
   "source": [
    "**I was able to beat the 60% benchmark AUC accuracy on the test set with the chosen weighted logistic model (C=10).**"
   ]
  },
  {
   "cell_type": "markdown",
   "metadata": {},
   "source": [
    "**Question 5**<br>\n",
    "(5pts) Given your model, comment on the importance of factors as related to whether a flight is delayed."
   ]
  },
  {
   "cell_type": "code",
   "execution_count": 116,
   "metadata": {},
   "outputs": [
    {
     "data": {
      "text/plain": [
       "array([ 0.94856692,  0.03805954,  0.02356447,  0.42227514,  0.60139052,\n",
       "        0.11210393, -0.21800069])"
      ]
     },
     "execution_count": 116,
     "metadata": {},
     "output_type": "execute_result"
    }
   ],
   "source": [
    "#Let's display some coefficients of our weighted logistic regression\n",
    "clf.coef_[0][0:7]"
   ]
  },
  {
   "cell_type": "code",
   "execution_count": 117,
   "metadata": {},
   "outputs": [
    {
     "data": {
      "text/html": [
       "<div>\n",
       "<style>\n",
       "    .dataframe thead tr:only-child th {\n",
       "        text-align: right;\n",
       "    }\n",
       "\n",
       "    .dataframe thead th {\n",
       "        text-align: left;\n",
       "    }\n",
       "\n",
       "    .dataframe tbody tr th {\n",
       "        vertical-align: top;\n",
       "    }\n",
       "</style>\n",
       "<table border=\"1\" class=\"dataframe\">\n",
       "  <thead>\n",
       "    <tr style=\"text-align: right;\">\n",
       "      <th></th>\n",
       "      <th>SCHED_DEP</th>\n",
       "      <th>SCHED_ARR</th>\n",
       "      <th>DISTANCE</th>\n",
       "      <th>MONTH_1</th>\n",
       "      <th>MONTH_2</th>\n",
       "      <th>MONTH_3</th>\n",
       "      <th>MONTH_4</th>\n",
       "      <th>MONTH_5</th>\n",
       "      <th>MONTH_6</th>\n",
       "      <th>MONTH_7</th>\n",
       "      <th>...</th>\n",
       "      <th>DESTINATION_AIRPORT_TYS</th>\n",
       "      <th>DESTINATION_AIRPORT_UST</th>\n",
       "      <th>DESTINATION_AIRPORT_VEL</th>\n",
       "      <th>DESTINATION_AIRPORT_VLD</th>\n",
       "      <th>DESTINATION_AIRPORT_VPS</th>\n",
       "      <th>DESTINATION_AIRPORT_WRG</th>\n",
       "      <th>DESTINATION_AIRPORT_WYS</th>\n",
       "      <th>DESTINATION_AIRPORT_XNA</th>\n",
       "      <th>DESTINATION_AIRPORT_YAK</th>\n",
       "      <th>DESTINATION_AIRPORT_YUM</th>\n",
       "    </tr>\n",
       "  </thead>\n",
       "  <tbody>\n",
       "    <tr>\n",
       "      <th>492825</th>\n",
       "      <td>0.965907</td>\n",
       "      <td>0.848591</td>\n",
       "      <td>-0.594743</td>\n",
       "      <td>0</td>\n",
       "      <td>0</td>\n",
       "      <td>0</td>\n",
       "      <td>0</td>\n",
       "      <td>0</td>\n",
       "      <td>1</td>\n",
       "      <td>0</td>\n",
       "      <td>...</td>\n",
       "      <td>0</td>\n",
       "      <td>0</td>\n",
       "      <td>0</td>\n",
       "      <td>0</td>\n",
       "      <td>0</td>\n",
       "      <td>0</td>\n",
       "      <td>0</td>\n",
       "      <td>0</td>\n",
       "      <td>0</td>\n",
       "      <td>0</td>\n",
       "    </tr>\n",
       "    <tr>\n",
       "      <th>152130</th>\n",
       "      <td>-0.016644</td>\n",
       "      <td>0.164565</td>\n",
       "      <td>0.084816</td>\n",
       "      <td>0</td>\n",
       "      <td>1</td>\n",
       "      <td>0</td>\n",
       "      <td>0</td>\n",
       "      <td>0</td>\n",
       "      <td>0</td>\n",
       "      <td>0</td>\n",
       "      <td>...</td>\n",
       "      <td>0</td>\n",
       "      <td>0</td>\n",
       "      <td>0</td>\n",
       "      <td>0</td>\n",
       "      <td>0</td>\n",
       "      <td>0</td>\n",
       "      <td>0</td>\n",
       "      <td>0</td>\n",
       "      <td>0</td>\n",
       "      <td>0</td>\n",
       "    </tr>\n",
       "    <tr>\n",
       "      <th>108541</th>\n",
       "      <td>0.605403</td>\n",
       "      <td>0.605762</td>\n",
       "      <td>0.084816</td>\n",
       "      <td>0</td>\n",
       "      <td>0</td>\n",
       "      <td>0</td>\n",
       "      <td>1</td>\n",
       "      <td>0</td>\n",
       "      <td>0</td>\n",
       "      <td>0</td>\n",
       "      <td>...</td>\n",
       "      <td>0</td>\n",
       "      <td>0</td>\n",
       "      <td>0</td>\n",
       "      <td>0</td>\n",
       "      <td>0</td>\n",
       "      <td>0</td>\n",
       "      <td>0</td>\n",
       "      <td>0</td>\n",
       "      <td>0</td>\n",
       "      <td>0</td>\n",
       "    </tr>\n",
       "    <tr>\n",
       "      <th>508329</th>\n",
       "      <td>-0.006041</td>\n",
       "      <td>0.728886</td>\n",
       "      <td>1.061577</td>\n",
       "      <td>0</td>\n",
       "      <td>0</td>\n",
       "      <td>0</td>\n",
       "      <td>0</td>\n",
       "      <td>0</td>\n",
       "      <td>0</td>\n",
       "      <td>1</td>\n",
       "      <td>...</td>\n",
       "      <td>0</td>\n",
       "      <td>0</td>\n",
       "      <td>0</td>\n",
       "      <td>0</td>\n",
       "      <td>0</td>\n",
       "      <td>0</td>\n",
       "      <td>0</td>\n",
       "      <td>0</td>\n",
       "      <td>0</td>\n",
       "      <td>0</td>\n",
       "    </tr>\n",
       "    <tr>\n",
       "      <th>422830</th>\n",
       "      <td>-1.568225</td>\n",
       "      <td>-1.668623</td>\n",
       "      <td>-1.027189</td>\n",
       "      <td>0</td>\n",
       "      <td>0</td>\n",
       "      <td>1</td>\n",
       "      <td>0</td>\n",
       "      <td>0</td>\n",
       "      <td>0</td>\n",
       "      <td>0</td>\n",
       "      <td>...</td>\n",
       "      <td>0</td>\n",
       "      <td>0</td>\n",
       "      <td>0</td>\n",
       "      <td>0</td>\n",
       "      <td>0</td>\n",
       "      <td>0</td>\n",
       "      <td>0</td>\n",
       "      <td>0</td>\n",
       "      <td>0</td>\n",
       "      <td>0</td>\n",
       "    </tr>\n",
       "  </tbody>\n",
       "</table>\n",
       "<p>5 rows × 1322 columns</p>\n",
       "</div>"
      ],
      "text/plain": [
       "        SCHED_DEP  SCHED_ARR  DISTANCE  MONTH_1  MONTH_2  MONTH_3  MONTH_4  \\\n",
       "492825   0.965907   0.848591 -0.594743        0        0        0        0   \n",
       "152130  -0.016644   0.164565  0.084816        0        1        0        0   \n",
       "108541   0.605403   0.605762  0.084816        0        0        0        1   \n",
       "508329  -0.006041   0.728886  1.061577        0        0        0        0   \n",
       "422830  -1.568225  -1.668623 -1.027189        0        0        1        0   \n",
       "\n",
       "        MONTH_5  MONTH_6  MONTH_7           ...             \\\n",
       "492825        0        1        0           ...              \n",
       "152130        0        0        0           ...              \n",
       "108541        0        0        0           ...              \n",
       "508329        0        0        1           ...              \n",
       "422830        0        0        0           ...              \n",
       "\n",
       "        DESTINATION_AIRPORT_TYS  DESTINATION_AIRPORT_UST  \\\n",
       "492825                        0                        0   \n",
       "152130                        0                        0   \n",
       "108541                        0                        0   \n",
       "508329                        0                        0   \n",
       "422830                        0                        0   \n",
       "\n",
       "        DESTINATION_AIRPORT_VEL  DESTINATION_AIRPORT_VLD  \\\n",
       "492825                        0                        0   \n",
       "152130                        0                        0   \n",
       "108541                        0                        0   \n",
       "508329                        0                        0   \n",
       "422830                        0                        0   \n",
       "\n",
       "        DESTINATION_AIRPORT_VPS  DESTINATION_AIRPORT_WRG  \\\n",
       "492825                        0                        0   \n",
       "152130                        0                        0   \n",
       "108541                        0                        0   \n",
       "508329                        0                        0   \n",
       "422830                        0                        0   \n",
       "\n",
       "        DESTINATION_AIRPORT_WYS  DESTINATION_AIRPORT_XNA  \\\n",
       "492825                        0                        0   \n",
       "152130                        0                        0   \n",
       "108541                        0                        0   \n",
       "508329                        0                        0   \n",
       "422830                        0                        0   \n",
       "\n",
       "        DESTINATION_AIRPORT_YAK  DESTINATION_AIRPORT_YUM  \n",
       "492825                        0                        0  \n",
       "152130                        0                        0  \n",
       "108541                        0                        0  \n",
       "508329                        0                        0  \n",
       "422830                        0                        0  \n",
       "\n",
       "[5 rows x 1322 columns]"
      ]
     },
     "execution_count": 117,
     "metadata": {},
     "output_type": "execute_result"
    }
   ],
   "source": [
    "#the order of coefficients is the same as the order of columns in my x_train data set\n",
    "x_train.head()"
   ]
  },
  {
   "cell_type": "markdown",
   "metadata": {},
   "source": [
    "**The importance of each feature on flight delays can be shown from the coefficient values. We have 1322 coefficients for each of 1322 features. Each coefficient should represent how important each feature is in predicting whether the flight will be delayed or not. For example, looking at the first 6 coefficients, we have **<br>\n",
    "\n",
    "\n",
    "| SCHED_DEP |SCHED_ARR|DISTANCE|MONTH_1|MONTH_2|MONTH_3|MONTH_4\n",
    "|---|---|---|\n",
    "| 0.94856692|0.03805954| 0.02356447|0.42227514|0.60139052|0.11210393|-0.21800069\n",
    "<br>\n",
    "\n",
    "**And we can clearly see that the SCHED_DEP time is the most important predictor for the events of delayed flights among the displayed features while SCHED_ARR and DISTANCE are not that important and MONTH_4 is the least important. This makes sense with my visualisation that the percentage of delayed flights is much higher in the evening than in the morning. If the coefficient is negative, that means that the particular predictor is the least important (the least contribution of the beta coefficient in the exponential form) **\n",
    "\n",
    "**We could do a bootstrapping of our train data to get e.g. 100 values for each coefficient to get confidence intervals for our coefficients, but this would be too computationally expensive (we have >1,300 features and doing a LogisticRegressionCV one time takes ~10 minutes and I have only 36 hours (960 minutes) to complete the midterm!!)**"
   ]
  },
  {
   "cell_type": "code",
   "execution_count": 118,
   "metadata": {},
   "outputs": [
    {
     "name": "stdout",
     "output_type": "stream",
     "text": [
      "Several features the least important for prediction of delay \n",
      "(chose most negative coefficients in the logit regression)\n",
      "['DESTINATION_AIRPORT_LFT', 'DESTINATION_AIRPORT_12191', 'ORIGIN_AIRPORT_11697', 'MONTH_9', 'ORIGIN_AIRPORT_TLH', 'DESTINATION_AIRPORT_DLH', 'ORIGIN_AIRPORT_MGM', 'ORIGIN_AIRPORT_15016', 'ORIGIN_AIRPORT_ABI', 'ORIGIN_AIRPORT_11618']\n",
      "\n",
      "\n",
      "Most important features predicting delay events (chose most positive coefficients in the logit regression)\n",
      "['DESTINATION_AIRPORT_14842', 'ORIGIN_AIRPORT_10529', 'ORIGIN_AIRPORT_13244', 'ORIGIN_AIRPORT_12441', 'ORIGIN_AIRPORT_12954', 'DESTINATION_AIRPORT_11057', 'DESTINATION_AIRPORT_12173', 'AIRLINE_NK', 'DESTINATION_AIRPORT_LGA', 'DESTINATION_AIRPORT_12478']\n"
     ]
    }
   ],
   "source": [
    "#Now let's take a look at which predictors are most important in predicting a delay\n",
    "#and which ones are the least importnat\n",
    "X = x_train.columns\n",
    "Y= clf.coef_[0]\n",
    "\n",
    "Z = [x for _,x in sorted(zip(Y,X))]\n",
    "\n",
    "print(\"Several features the least important for prediction of delay \\n(chose most negative coefficients in the logit regression)\")\n",
    "print(Z[0:10])\n",
    "print(\"\\n\")\n",
    "print(\"Most important features predicting delay events (chose most positive coefficients in the logit regression)\")\n",
    "print(Z[-10:])"
   ]
  },
  {
   "cell_type": "markdown",
   "metadata": {},
   "source": [
    "**As we can see from above, we again confirm our visualisation that month 9 has little importance in predicting delay events (on par with month 10) in accordance with the outcome of the weighted logistic model.**"
   ]
  },
  {
   "cell_type": "markdown",
   "metadata": {},
   "source": [
    "**QUESTION 6**<br>\n",
    "(5pts) Evaluate your model(s) on your test set, and finally provide a visual to show which airlines are predicted to have the most delays using all the data excluding the training and test set."
   ]
  },
  {
   "cell_type": "markdown",
   "metadata": {},
   "source": [
    "**The model was already evaluated on the test set in the end of questions 4 but I will list it here again.**"
   ]
  },
  {
   "cell_type": "code",
   "execution_count": 119,
   "metadata": {},
   "outputs": [
    {
     "name": "stdout",
     "output_type": "stream",
     "text": [
      "Accuracy on the test set achieved:\n",
      "Accuracy overall accuracy       0.751939\n",
      "accuracy on class 0    0.753893\n",
      "accuracy on class 1    0.734535\n",
      "dtype: float64\n",
      "The AUC score on the test set auc_logreg 0.820862632096\n"
     ]
    }
   ],
   "source": [
    "clf_test_score = score(clf,x_test,y_test)\n",
    "print(\"Accuracy on the test set achieved:\")\n",
    "print(\"Accuracy\", clf_test_score)\n",
    "print(\"The AUC score on the test set auc_logreg\",auc_logreg_test)"
   ]
  },
  {
   "cell_type": "code",
   "execution_count": 120,
   "metadata": {
    "collapsed": true
   },
   "outputs": [],
   "source": [
    "#Visual showing which airlines are predicted to have the most delays using all data except training and test set\n",
    "\n",
    "p_remaining_df.head()\n",
    "y_test_remain = p_remaining_df.DELAY_OR_NOT\n",
    "x_test_remain = p_remaining_df.drop('DELAY_OR_NOT',axis=1)\n",
    "\n",
    "#now predict on the full remaining data_set\n",
    "y_pred_remain = clf.predict(x_test_remain)"
   ]
  },
  {
   "cell_type": "code",
   "execution_count": 121,
   "metadata": {},
   "outputs": [
    {
     "data": {
      "text/plain": [
       "overall accuracy       0.754205\n",
       "accuracy on class 0    0.755761\n",
       "accuracy on class 1    0.740494\n",
       "dtype: float64"
      ]
     },
     "execution_count": 121,
     "metadata": {},
     "output_type": "execute_result"
    }
   ],
   "source": [
    "score(clf,x_test_remain,y_test_remain)"
   ]
  },
  {
   "cell_type": "code",
   "execution_count": 122,
   "metadata": {
    "collapsed": true
   },
   "outputs": [],
   "source": [
    "auc_logreg_rem = metrics.roc_auc_score(y_test_remain, clf.predict_proba(x_test_remain)[:,1])"
   ]
  },
  {
   "cell_type": "code",
   "execution_count": 123,
   "metadata": {},
   "outputs": [
    {
     "name": "stdout",
     "output_type": "stream",
     "text": [
      "The AUC score for the remaining whole data set is 0.823005059613\n"
     ]
    }
   ],
   "source": [
    "print(\"The AUC score for the remaining whole data set is\",auc_logreg_rem)"
   ]
  },
  {
   "cell_type": "markdown",
   "metadata": {},
   "source": [
    "**The accuracy of prediction achieved on the remaining full dataset is 0.754205 and AUC is 0.823**"
   ]
  },
  {
   "cell_type": "code",
   "execution_count": 124,
   "metadata": {},
   "outputs": [
    {
     "name": "stdout",
     "output_type": "stream",
     "text": [
      "Predicted delayed 207829 ; true delayed 71848\n"
     ]
    }
   ],
   "source": [
    "print(\"Predicted delayed\",sum(y_pred_remain==1),\"; true delayed\",sum(y_test_remain))"
   ]
  },
  {
   "cell_type": "code",
   "execution_count": 163,
   "metadata": {},
   "outputs": [],
   "source": [
    "original_dataframe = new_df.drop(new_df_sample.index) #getting the rest of indices not used in train/test\n",
    "predicted_dataframe = new_df.drop(new_df_sample.index) #getting the rest of indices not used in train/test\n"
   ]
  },
  {
   "cell_type": "code",
   "execution_count": 126,
   "metadata": {},
   "outputs": [
    {
     "data": {
      "image/png": "[encoded data removed]",
      "text/plain": [
       "<matplotlib.figure.Figure at 0x11c645b70>"
      ]
     },
     "metadata": {},
     "output_type": "display_data"
    }
   ],
   "source": [
    "sns.countplot(x='AIRLINE',hue='DELAY_OR_NOT',data=original_dataframe, palette=\"Set1\");\n",
    "plt.xlabel(\"Airline\")\n",
    "plt.ylabel(\"Truth value count of delayed flights\")\n",
    "plt.title(\"Truth values\");"
   ]
  },
  {
   "cell_type": "code",
   "execution_count": 127,
   "metadata": {},
   "outputs": [
    {
     "data": {
      "text/html": [
       "<div>\n",
       "<style>\n",
       "    .dataframe thead tr:only-child th {\n",
       "        text-align: right;\n",
       "    }\n",
       "\n",
       "    .dataframe thead th {\n",
       "        text-align: left;\n",
       "    }\n",
       "\n",
       "    .dataframe tbody tr th {\n",
       "        vertical-align: top;\n",
       "    }\n",
       "</style>\n",
       "<table border=\"1\" class=\"dataframe\">\n",
       "  <thead>\n",
       "    <tr style=\"text-align: right;\">\n",
       "      <th></th>\n",
       "      <th>MONTH</th>\n",
       "      <th>DAY</th>\n",
       "      <th>DAY_OF_WEEK</th>\n",
       "      <th>DISTANCE</th>\n",
       "      <th>DELAY_OR_NOT</th>\n",
       "    </tr>\n",
       "    <tr>\n",
       "      <th>AIRLINE</th>\n",
       "      <th></th>\n",
       "      <th></th>\n",
       "      <th></th>\n",
       "      <th></th>\n",
       "      <th></th>\n",
       "    </tr>\n",
       "  </thead>\n",
       "  <tbody>\n",
       "    <tr>\n",
       "      <th>AA</th>\n",
       "      <td>7.492990</td>\n",
       "      <td>15.702702</td>\n",
       "      <td>3.982537</td>\n",
       "      <td>1030.405972</td>\n",
       "      <td>0.089200</td>\n",
       "    </tr>\n",
       "    <tr>\n",
       "      <th>AS</th>\n",
       "      <td>6.629149</td>\n",
       "      <td>15.660970</td>\n",
       "      <td>3.995075</td>\n",
       "      <td>1192.081374</td>\n",
       "      <td>0.039059</td>\n",
       "    </tr>\n",
       "    <tr>\n",
       "      <th>B6</th>\n",
       "      <td>6.703424</td>\n",
       "      <td>15.844847</td>\n",
       "      <td>4.025519</td>\n",
       "      <td>1015.396872</td>\n",
       "      <td>0.158610</td>\n",
       "    </tr>\n",
       "    <tr>\n",
       "      <th>DL</th>\n",
       "      <td>6.685036</td>\n",
       "      <td>15.696274</td>\n",
       "      <td>3.925031</td>\n",
       "      <td>844.871481</td>\n",
       "      <td>0.044208</td>\n",
       "    </tr>\n",
       "    <tr>\n",
       "      <th>EV</th>\n",
       "      <td>6.509722</td>\n",
       "      <td>15.658871</td>\n",
       "      <td>3.946517</td>\n",
       "      <td>460.424663</td>\n",
       "      <td>0.117134</td>\n",
       "    </tr>\n",
       "    <tr>\n",
       "      <th>F9</th>\n",
       "      <td>6.882463</td>\n",
       "      <td>15.616551</td>\n",
       "      <td>4.031876</td>\n",
       "      <td>955.874779</td>\n",
       "      <td>0.227183</td>\n",
       "    </tr>\n",
       "    <tr>\n",
       "      <th>HA</th>\n",
       "      <td>6.579478</td>\n",
       "      <td>15.765392</td>\n",
       "      <td>3.996642</td>\n",
       "      <td>576.001119</td>\n",
       "      <td>0.033209</td>\n",
       "    </tr>\n",
       "    <tr>\n",
       "      <th>MQ</th>\n",
       "      <td>6.390953</td>\n",
       "      <td>15.747458</td>\n",
       "      <td>3.986414</td>\n",
       "      <td>420.250085</td>\n",
       "      <td>0.136017</td>\n",
       "    </tr>\n",
       "    <tr>\n",
       "      <th>NK</th>\n",
       "      <td>6.885886</td>\n",
       "      <td>15.925957</td>\n",
       "      <td>4.067474</td>\n",
       "      <td>972.141610</td>\n",
       "      <td>0.373686</td>\n",
       "    </tr>\n",
       "    <tr>\n",
       "      <th>OO</th>\n",
       "      <td>6.616568</td>\n",
       "      <td>15.796285</td>\n",
       "      <td>3.984926</td>\n",
       "      <td>499.221382</td>\n",
       "      <td>0.088079</td>\n",
       "    </tr>\n",
       "    <tr>\n",
       "      <th>UA</th>\n",
       "      <td>6.813442</td>\n",
       "      <td>15.678594</td>\n",
       "      <td>3.927925</td>\n",
       "      <td>1250.790349</td>\n",
       "      <td>0.134221</td>\n",
       "    </tr>\n",
       "    <tr>\n",
       "      <th>US</th>\n",
       "      <td>3.554527</td>\n",
       "      <td>15.768366</td>\n",
       "      <td>3.994843</td>\n",
       "      <td>902.372263</td>\n",
       "      <td>0.102545</td>\n",
       "    </tr>\n",
       "    <tr>\n",
       "      <th>VX</th>\n",
       "      <td>6.860329</td>\n",
       "      <td>15.750209</td>\n",
       "      <td>3.971146</td>\n",
       "      <td>1395.228464</td>\n",
       "      <td>0.125871</td>\n",
       "    </tr>\n",
       "    <tr>\n",
       "      <th>WN</th>\n",
       "      <td>6.686855</td>\n",
       "      <td>15.730658</td>\n",
       "      <td>3.932331</td>\n",
       "      <td>744.438116</td>\n",
       "      <td>0.109115</td>\n",
       "    </tr>\n",
       "  </tbody>\n",
       "</table>\n",
       "</div>"
      ],
      "text/plain": [
       "            MONTH        DAY  DAY_OF_WEEK     DISTANCE  DELAY_OR_NOT\n",
       "AIRLINE                                                             \n",
       "AA       7.492990  15.702702     3.982537  1030.405972      0.089200\n",
       "AS       6.629149  15.660970     3.995075  1192.081374      0.039059\n",
       "B6       6.703424  15.844847     4.025519  1015.396872      0.158610\n",
       "DL       6.685036  15.696274     3.925031   844.871481      0.044208\n",
       "EV       6.509722  15.658871     3.946517   460.424663      0.117134\n",
       "F9       6.882463  15.616551     4.031876   955.874779      0.227183\n",
       "HA       6.579478  15.765392     3.996642   576.001119      0.033209\n",
       "MQ       6.390953  15.747458     3.986414   420.250085      0.136017\n",
       "NK       6.885886  15.925957     4.067474   972.141610      0.373686\n",
       "OO       6.616568  15.796285     3.984926   499.221382      0.088079\n",
       "UA       6.813442  15.678594     3.927925  1250.790349      0.134221\n",
       "US       3.554527  15.768366     3.994843   902.372263      0.102545\n",
       "VX       6.860329  15.750209     3.971146  1395.228464      0.125871\n",
       "WN       6.686855  15.730658     3.932331   744.438116      0.109115"
      ]
     },
     "execution_count": 127,
     "metadata": {},
     "output_type": "execute_result"
    }
   ],
   "source": [
    "#Let's look at the mean delay % for each airline (truth)\n",
    "original_dataframe.groupby(\"AIRLINE\").mean()"
   ]
  },
  {
   "cell_type": "code",
   "execution_count": 128,
   "metadata": {},
   "outputs": [
    {
     "data": {
      "image/png": "[encoded data removed]",
      "text/plain": [
       "<matplotlib.figure.Figure at 0x11c154e48>"
      ]
     },
     "metadata": {},
     "output_type": "display_data"
    }
   ],
   "source": [
    "predicted_dataframe['DELAY_OR_NOT'] = y_pred_remain\n",
    "sns.countplot(x='AIRLINE',hue='DELAY_OR_NOT',data=predicted_dataframe,palette=\"Set1\");\n",
    "plt.xlabel(\"Airline\")\n",
    "plt.ylabel(\"Predicted count of delayed flights\")\n",
    "plt.title(\"Prediction\"); "
   ]
  },
  {
   "cell_type": "code",
   "execution_count": 129,
   "metadata": {},
   "outputs": [
    {
     "data": {
      "text/html": [
       "<div>\n",
       "<style>\n",
       "    .dataframe thead tr:only-child th {\n",
       "        text-align: right;\n",
       "    }\n",
       "\n",
       "    .dataframe thead th {\n",
       "        text-align: left;\n",
       "    }\n",
       "\n",
       "    .dataframe tbody tr th {\n",
       "        vertical-align: top;\n",
       "    }\n",
       "</style>\n",
       "<table border=\"1\" class=\"dataframe\">\n",
       "  <thead>\n",
       "    <tr style=\"text-align: right;\">\n",
       "      <th></th>\n",
       "      <th>MONTH</th>\n",
       "      <th>DAY</th>\n",
       "      <th>DAY_OF_WEEK</th>\n",
       "      <th>DISTANCE</th>\n",
       "      <th>DELAY_OR_NOT</th>\n",
       "    </tr>\n",
       "    <tr>\n",
       "      <th>AIRLINE</th>\n",
       "      <th></th>\n",
       "      <th></th>\n",
       "      <th></th>\n",
       "      <th></th>\n",
       "      <th></th>\n",
       "    </tr>\n",
       "  </thead>\n",
       "  <tbody>\n",
       "    <tr>\n",
       "      <th>AA</th>\n",
       "      <td>7.492990</td>\n",
       "      <td>15.702702</td>\n",
       "      <td>3.982537</td>\n",
       "      <td>1030.405972</td>\n",
       "      <td>0.278279</td>\n",
       "    </tr>\n",
       "    <tr>\n",
       "      <th>AS</th>\n",
       "      <td>6.629149</td>\n",
       "      <td>15.660970</td>\n",
       "      <td>3.995075</td>\n",
       "      <td>1192.081374</td>\n",
       "      <td>0.138678</td>\n",
       "    </tr>\n",
       "    <tr>\n",
       "      <th>B6</th>\n",
       "      <td>6.703424</td>\n",
       "      <td>15.844847</td>\n",
       "      <td>4.025519</td>\n",
       "      <td>1015.396872</td>\n",
       "      <td>0.469872</td>\n",
       "    </tr>\n",
       "    <tr>\n",
       "      <th>DL</th>\n",
       "      <td>6.685036</td>\n",
       "      <td>15.696274</td>\n",
       "      <td>3.925031</td>\n",
       "      <td>844.871481</td>\n",
       "      <td>0.124195</td>\n",
       "    </tr>\n",
       "    <tr>\n",
       "      <th>EV</th>\n",
       "      <td>6.509722</td>\n",
       "      <td>15.658871</td>\n",
       "      <td>3.946517</td>\n",
       "      <td>460.424663</td>\n",
       "      <td>0.325175</td>\n",
       "    </tr>\n",
       "    <tr>\n",
       "      <th>F9</th>\n",
       "      <td>6.882463</td>\n",
       "      <td>15.616551</td>\n",
       "      <td>4.031876</td>\n",
       "      <td>955.874779</td>\n",
       "      <td>0.602014</td>\n",
       "    </tr>\n",
       "    <tr>\n",
       "      <th>HA</th>\n",
       "      <td>6.579478</td>\n",
       "      <td>15.765392</td>\n",
       "      <td>3.996642</td>\n",
       "      <td>576.001119</td>\n",
       "      <td>0.073881</td>\n",
       "    </tr>\n",
       "    <tr>\n",
       "      <th>MQ</th>\n",
       "      <td>6.390953</td>\n",
       "      <td>15.747458</td>\n",
       "      <td>3.986414</td>\n",
       "      <td>420.250085</td>\n",
       "      <td>0.402238</td>\n",
       "    </tr>\n",
       "    <tr>\n",
       "      <th>NK</th>\n",
       "      <td>6.885886</td>\n",
       "      <td>15.925957</td>\n",
       "      <td>4.067474</td>\n",
       "      <td>972.141610</td>\n",
       "      <td>0.766610</td>\n",
       "    </tr>\n",
       "    <tr>\n",
       "      <th>OO</th>\n",
       "      <td>6.616568</td>\n",
       "      <td>15.796285</td>\n",
       "      <td>3.984926</td>\n",
       "      <td>499.221382</td>\n",
       "      <td>0.274254</td>\n",
       "    </tr>\n",
       "    <tr>\n",
       "      <th>UA</th>\n",
       "      <td>6.813442</td>\n",
       "      <td>15.678594</td>\n",
       "      <td>3.927925</td>\n",
       "      <td>1250.790349</td>\n",
       "      <td>0.378367</td>\n",
       "    </tr>\n",
       "    <tr>\n",
       "      <th>US</th>\n",
       "      <td>3.554527</td>\n",
       "      <td>15.768366</td>\n",
       "      <td>3.994843</td>\n",
       "      <td>902.372263</td>\n",
       "      <td>0.350917</td>\n",
       "    </tr>\n",
       "    <tr>\n",
       "      <th>VX</th>\n",
       "      <td>6.860329</td>\n",
       "      <td>15.750209</td>\n",
       "      <td>3.971146</td>\n",
       "      <td>1395.228464</td>\n",
       "      <td>0.285336</td>\n",
       "    </tr>\n",
       "    <tr>\n",
       "      <th>WN</th>\n",
       "      <td>6.686855</td>\n",
       "      <td>15.730658</td>\n",
       "      <td>3.932331</td>\n",
       "      <td>744.438116</td>\n",
       "      <td>0.321640</td>\n",
       "    </tr>\n",
       "  </tbody>\n",
       "</table>\n",
       "</div>"
      ],
      "text/plain": [
       "            MONTH        DAY  DAY_OF_WEEK     DISTANCE  DELAY_OR_NOT\n",
       "AIRLINE                                                             \n",
       "AA       7.492990  15.702702     3.982537  1030.405972      0.278279\n",
       "AS       6.629149  15.660970     3.995075  1192.081374      0.138678\n",
       "B6       6.703424  15.844847     4.025519  1015.396872      0.469872\n",
       "DL       6.685036  15.696274     3.925031   844.871481      0.124195\n",
       "EV       6.509722  15.658871     3.946517   460.424663      0.325175\n",
       "F9       6.882463  15.616551     4.031876   955.874779      0.602014\n",
       "HA       6.579478  15.765392     3.996642   576.001119      0.073881\n",
       "MQ       6.390953  15.747458     3.986414   420.250085      0.402238\n",
       "NK       6.885886  15.925957     4.067474   972.141610      0.766610\n",
       "OO       6.616568  15.796285     3.984926   499.221382      0.274254\n",
       "UA       6.813442  15.678594     3.927925  1250.790349      0.378367\n",
       "US       3.554527  15.768366     3.994843   902.372263      0.350917\n",
       "VX       6.860329  15.750209     3.971146  1395.228464      0.285336\n",
       "WN       6.686855  15.730658     3.932331   744.438116      0.321640"
      ]
     },
     "execution_count": 129,
     "metadata": {},
     "output_type": "execute_result"
    }
   ],
   "source": [
    "#Let's look at the mean delay % for each airline (PREDICTION)\n",
    "predicted_dataframe.groupby(\"AIRLINE\").mean()"
   ]
  },
  {
   "cell_type": "code",
   "execution_count": 130,
   "metadata": {},
   "outputs": [
    {
     "name": "stdout",
     "output_type": "stream",
     "text": [
      "[[478467 154626]\n",
      " [ 18645  53203]]\n",
      "\n",
      "The true positive rate for the weighted logistic regression model: 0.740493820287\n"
     ]
    }
   ],
   "source": [
    "#Now take a look at how many flights we classify FALSE POSITIVE and FALSE NEGATIVE\n",
    "from sklearn.metrics import confusion_matrix\n",
    "from sklearn.metrics import roc_curve\n",
    "print(confusion_matrix(y_test_remain,y_pred_remain))\n",
    "\n",
    "tn_logreg1, fp_logreg1, fn_logreg1, tp_logreg1 = metrics.confusion_matrix(y_test_remain,y_pred_remain).astype('float').ravel()\n",
    "\n",
    "print(\"\\nThe true positive rate for the weighted logistic regression model:\",tp_logreg1/(tp_logreg1 + fn_logreg1))"
   ]
  },
  {
   "cell_type": "markdown",
   "metadata": {},
   "source": [
    "**Comparing the two plots above (truth and prediction, respectively) we see that our model predicts more delayed flights than there actually are: Predicted delayed 207829 (TP:53203,FP:154626), True delayed total 71,848 out of 700,000 flights in the remaining dataset (see the confusion matrix above). In other words, we have more FPRs than FNRs which makes sense as our data is highly unbalanced towards not delayed flights and our model is balanced in a way to put extra weight on the positive classification.** <br>\n",
    "\n",
    "**E.g. for airlines \"NK\" and \"F9\", more flights are predicted to be delayed than on time, than in the truth baseline. However, this is to be expected given our AUC of the classification model is ~80%.**\n",
    "\n",
    "**Airlines with most delays: 'NK' has 76%/37% delayed flights (predicted/ground truth) followed by 'F9': 60%/22% and 'B6': 47%/16% . We can see that the percentage of delayed flights predicted is higher than ground truth in all cases, which is consistent with the high false positive ratio I have with my model.**\n",
    "\n",
    "**Speculation: if the user of my model preferred to get more false positives/false negatives (depending whether the user is more concerned about learning that a flight is predicted to be delayed when it's on time (FPR) or a flight is predicted to be on time when it is delayed - FNR. I would imagine for e.g., a businessman, being on the side of caution and having more FPRs than FNRs and taking precations to not e.g., miss a business meeting, might be a more useful use-case.**"
   ]
  },
  {
   "cell_type": "markdown",
   "metadata": {},
   "source": [
    "**Question 7**<br>\n",
    "(15pts) Build a regression model that predicts the length of delay (on the log scale) given that a flight is truly delayed."
   ]
  },
  {
   "cell_type": "code",
   "execution_count": 131,
   "metadata": {
    "collapsed": true
   },
   "outputs": [],
   "source": [
    "#First, we want to look at lenght of flight GIVEN the flight is delayed - only select observations when a flight is truly delayed\n",
    "new_df_regre = df.copy(deep=True)[df.DELAY_OR_NOT==1]\n",
    "#drop everything as it was, but keep ARRIVAL_TIME as that will be our response variable\n",
    "\n",
    "del new_df_regre['DATE']\n",
    "del new_df_regre['SCHEDULED_TIME']\n",
    "del new_df_regre['ELAPSED_TIME']\n",
    "del new_df_regre['FLIGHT_NUMBER']\n",
    "del new_df_regre['TAIL_NUMBER']\n",
    "\n",
    "del new_df_regre['DEPARTURE_DELAY']\n",
    "del new_df_regre['AIR_SYSTEM_DELAY']\n",
    "del new_df_regre['AIRLINE_DELAY']\n",
    "del new_df_regre['SECURITY_DELAY']\n",
    "del new_df_regre['LATE_AIRCRAFT_DELAY']\n",
    "del new_df_regre['WEATHER_DELAY']"
   ]
  },
  {
   "cell_type": "code",
   "execution_count": 132,
   "metadata": {},
   "outputs": [
    {
     "data": {
      "text/html": [
       "<div>\n",
       "<style>\n",
       "    .dataframe thead tr:only-child th {\n",
       "        text-align: right;\n",
       "    }\n",
       "\n",
       "    .dataframe thead th {\n",
       "        text-align: left;\n",
       "    }\n",
       "\n",
       "    .dataframe tbody tr th {\n",
       "        vertical-align: top;\n",
       "    }\n",
       "</style>\n",
       "<table border=\"1\" class=\"dataframe\">\n",
       "  <thead>\n",
       "    <tr style=\"text-align: right;\">\n",
       "      <th></th>\n",
       "      <th>MONTH</th>\n",
       "      <th>DAY</th>\n",
       "      <th>DAY_OF_WEEK</th>\n",
       "      <th>AIRLINE</th>\n",
       "      <th>ORIGIN_AIRPORT</th>\n",
       "      <th>DESTINATION_AIRPORT</th>\n",
       "      <th>SCHED_DEP</th>\n",
       "      <th>SCHED_ARR</th>\n",
       "      <th>ARRIVAL_DELAY</th>\n",
       "      <th>DISTANCE</th>\n",
       "      <th>DELAY_OR_NOT</th>\n",
       "    </tr>\n",
       "  </thead>\n",
       "  <tbody>\n",
       "    <tr>\n",
       "      <th>19</th>\n",
       "      <td>1</td>\n",
       "      <td>4</td>\n",
       "      <td>7</td>\n",
       "      <td>WN</td>\n",
       "      <td>PHL</td>\n",
       "      <td>ATL</td>\n",
       "      <td>18:35:00</td>\n",
       "      <td>20:50:00</td>\n",
       "      <td>132.0</td>\n",
       "      <td>666</td>\n",
       "      <td>1</td>\n",
       "    </tr>\n",
       "    <tr>\n",
       "      <th>25</th>\n",
       "      <td>7</td>\n",
       "      <td>22</td>\n",
       "      <td>3</td>\n",
       "      <td>EV</td>\n",
       "      <td>BRO</td>\n",
       "      <td>DFW</td>\n",
       "      <td>17:33:00</td>\n",
       "      <td>19:20:00</td>\n",
       "      <td>98.0</td>\n",
       "      <td>482</td>\n",
       "      <td>1</td>\n",
       "    </tr>\n",
       "    <tr>\n",
       "      <th>28</th>\n",
       "      <td>3</td>\n",
       "      <td>23</td>\n",
       "      <td>1</td>\n",
       "      <td>OO</td>\n",
       "      <td>LAS</td>\n",
       "      <td>SEA</td>\n",
       "      <td>18:15:00</td>\n",
       "      <td>21:02:00</td>\n",
       "      <td>128.0</td>\n",
       "      <td>867</td>\n",
       "      <td>1</td>\n",
       "    </tr>\n",
       "    <tr>\n",
       "      <th>54</th>\n",
       "      <td>3</td>\n",
       "      <td>12</td>\n",
       "      <td>4</td>\n",
       "      <td>US</td>\n",
       "      <td>LGA</td>\n",
       "      <td>BOS</td>\n",
       "      <td>14:00:00</td>\n",
       "      <td>15:03:00</td>\n",
       "      <td>38.0</td>\n",
       "      <td>184</td>\n",
       "      <td>1</td>\n",
       "    </tr>\n",
       "    <tr>\n",
       "      <th>59</th>\n",
       "      <td>4</td>\n",
       "      <td>27</td>\n",
       "      <td>1</td>\n",
       "      <td>EV</td>\n",
       "      <td>SHV</td>\n",
       "      <td>DFW</td>\n",
       "      <td>16:41:00</td>\n",
       "      <td>17:45:00</td>\n",
       "      <td>148.0</td>\n",
       "      <td>190</td>\n",
       "      <td>1</td>\n",
       "    </tr>\n",
       "  </tbody>\n",
       "</table>\n",
       "</div>"
      ],
      "text/plain": [
       "    MONTH  DAY  DAY_OF_WEEK AIRLINE ORIGIN_AIRPORT DESTINATION_AIRPORT  \\\n",
       "19      1    4            7      WN            PHL                 ATL   \n",
       "25      7   22            3      EV            BRO                 DFW   \n",
       "28      3   23            1      OO            LAS                 SEA   \n",
       "54      3   12            4      US            LGA                 BOS   \n",
       "59      4   27            1      EV            SHV                 DFW   \n",
       "\n",
       "   SCHED_DEP SCHED_ARR  ARRIVAL_DELAY  DISTANCE  DELAY_OR_NOT  \n",
       "19  18:35:00  20:50:00          132.0       666             1  \n",
       "25  17:33:00  19:20:00           98.0       482             1  \n",
       "28  18:15:00  21:02:00          128.0       867             1  \n",
       "54  14:00:00  15:03:00           38.0       184             1  \n",
       "59  16:41:00  17:45:00          148.0       190             1  "
      ]
     },
     "execution_count": 132,
     "metadata": {},
     "output_type": "execute_result"
    }
   ],
   "source": [
    "new_df_regre.head()"
   ]
  },
  {
   "cell_type": "code",
   "execution_count": 133,
   "metadata": {},
   "outputs": [
    {
     "data": {
      "text/plain": [
       "(82107, 11)"
      ]
     },
     "execution_count": 133,
     "metadata": {},
     "output_type": "execute_result"
    }
   ],
   "source": [
    "new_df_regre.shape"
   ]
  },
  {
   "cell_type": "code",
   "execution_count": 134,
   "metadata": {
    "collapsed": true
   },
   "outputs": [],
   "source": [
    "#Change time to decimal in scheduled dep and arr\n",
    "date_str_dep = list(new_df_regre.SCHED_DEP)\n",
    "date_str_arr = list(new_df_regre.SCHED_ARR)\n",
    "time_tuples_dep = []\n",
    "time_tuples_arr = []\n",
    "for i,j in zip(date_str_dep,date_str_arr):\n",
    "    time_tuple_dep = time.strptime(i, \"%H:%M:%S\")\n",
    "    time_tuple_arr = time.strptime(j, \"%H:%M:%S\")\n",
    "    time_tuples_dep.append(time_tuple_dep.tm_hour+time_tuple_dep.tm_min/60)\n",
    "    time_tuples_arr.append(time_tuple_arr.tm_hour+time_tuple_arr.tm_min/60)\n",
    "new_df_regre['SCHED_DEP'] = np.array(time_tuples_dep)\n",
    "new_df_regre['SCHED_ARR'] = np.array(time_tuples_arr)"
   ]
  },
  {
   "cell_type": "code",
   "execution_count": 135,
   "metadata": {},
   "outputs": [
    {
     "data": {
      "text/html": [
       "<div>\n",
       "<style>\n",
       "    .dataframe thead tr:only-child th {\n",
       "        text-align: right;\n",
       "    }\n",
       "\n",
       "    .dataframe thead th {\n",
       "        text-align: left;\n",
       "    }\n",
       "\n",
       "    .dataframe tbody tr th {\n",
       "        vertical-align: top;\n",
       "    }\n",
       "</style>\n",
       "<table border=\"1\" class=\"dataframe\">\n",
       "  <thead>\n",
       "    <tr style=\"text-align: right;\">\n",
       "      <th></th>\n",
       "      <th>MONTH</th>\n",
       "      <th>DAY</th>\n",
       "      <th>DAY_OF_WEEK</th>\n",
       "      <th>AIRLINE</th>\n",
       "      <th>ORIGIN_AIRPORT</th>\n",
       "      <th>DESTINATION_AIRPORT</th>\n",
       "      <th>SCHED_DEP</th>\n",
       "      <th>SCHED_ARR</th>\n",
       "      <th>ARRIVAL_DELAY</th>\n",
       "      <th>DISTANCE</th>\n",
       "      <th>DELAY_OR_NOT</th>\n",
       "    </tr>\n",
       "  </thead>\n",
       "  <tbody>\n",
       "    <tr>\n",
       "      <th>19</th>\n",
       "      <td>1</td>\n",
       "      <td>4</td>\n",
       "      <td>7</td>\n",
       "      <td>WN</td>\n",
       "      <td>PHL</td>\n",
       "      <td>ATL</td>\n",
       "      <td>18.583333</td>\n",
       "      <td>20.833333</td>\n",
       "      <td>132.0</td>\n",
       "      <td>666</td>\n",
       "      <td>1</td>\n",
       "    </tr>\n",
       "    <tr>\n",
       "      <th>25</th>\n",
       "      <td>7</td>\n",
       "      <td>22</td>\n",
       "      <td>3</td>\n",
       "      <td>EV</td>\n",
       "      <td>BRO</td>\n",
       "      <td>DFW</td>\n",
       "      <td>17.550000</td>\n",
       "      <td>19.333333</td>\n",
       "      <td>98.0</td>\n",
       "      <td>482</td>\n",
       "      <td>1</td>\n",
       "    </tr>\n",
       "    <tr>\n",
       "      <th>28</th>\n",
       "      <td>3</td>\n",
       "      <td>23</td>\n",
       "      <td>1</td>\n",
       "      <td>OO</td>\n",
       "      <td>LAS</td>\n",
       "      <td>SEA</td>\n",
       "      <td>18.250000</td>\n",
       "      <td>21.033333</td>\n",
       "      <td>128.0</td>\n",
       "      <td>867</td>\n",
       "      <td>1</td>\n",
       "    </tr>\n",
       "    <tr>\n",
       "      <th>54</th>\n",
       "      <td>3</td>\n",
       "      <td>12</td>\n",
       "      <td>4</td>\n",
       "      <td>US</td>\n",
       "      <td>LGA</td>\n",
       "      <td>BOS</td>\n",
       "      <td>14.000000</td>\n",
       "      <td>15.050000</td>\n",
       "      <td>38.0</td>\n",
       "      <td>184</td>\n",
       "      <td>1</td>\n",
       "    </tr>\n",
       "    <tr>\n",
       "      <th>59</th>\n",
       "      <td>4</td>\n",
       "      <td>27</td>\n",
       "      <td>1</td>\n",
       "      <td>EV</td>\n",
       "      <td>SHV</td>\n",
       "      <td>DFW</td>\n",
       "      <td>16.683333</td>\n",
       "      <td>17.750000</td>\n",
       "      <td>148.0</td>\n",
       "      <td>190</td>\n",
       "      <td>1</td>\n",
       "    </tr>\n",
       "  </tbody>\n",
       "</table>\n",
       "</div>"
      ],
      "text/plain": [
       "    MONTH  DAY  DAY_OF_WEEK AIRLINE ORIGIN_AIRPORT DESTINATION_AIRPORT  \\\n",
       "19      1    4            7      WN            PHL                 ATL   \n",
       "25      7   22            3      EV            BRO                 DFW   \n",
       "28      3   23            1      OO            LAS                 SEA   \n",
       "54      3   12            4      US            LGA                 BOS   \n",
       "59      4   27            1      EV            SHV                 DFW   \n",
       "\n",
       "    SCHED_DEP  SCHED_ARR  ARRIVAL_DELAY  DISTANCE  DELAY_OR_NOT  \n",
       "19  18.583333  20.833333          132.0       666             1  \n",
       "25  17.550000  19.333333           98.0       482             1  \n",
       "28  18.250000  21.033333          128.0       867             1  \n",
       "54  14.000000  15.050000           38.0       184             1  \n",
       "59  16.683333  17.750000          148.0       190             1  "
      ]
     },
     "execution_count": 135,
     "metadata": {},
     "output_type": "execute_result"
    }
   ],
   "source": [
    "#Check we have continuos time in decimals (hours) and that we only have DELAYED == True observations\n",
    "new_df_regre.head()"
   ]
  },
  {
   "cell_type": "code",
   "execution_count": 136,
   "metadata": {
    "collapsed": true
   },
   "outputs": [],
   "source": [
    "#create a log response variable ARRIVAL TIME\n",
    "new_df_regre['ARRIVAL_DELAY']=np.log(new_df_regre['ARRIVAL_DELAY'])"
   ]
  },
  {
   "cell_type": "code",
   "execution_count": 164,
   "metadata": {},
   "outputs": [
    {
     "name": "stdout",
     "output_type": "stream",
     "text": [
      "(16000, 1091) (804941, 22) (10720, 1091) (5280, 1091)\n"
     ]
    },
    {
     "data": {
      "text/html": [
       "<div>\n",
       "<style>\n",
       "    .dataframe thead tr:only-child th {\n",
       "        text-align: right;\n",
       "    }\n",
       "\n",
       "    .dataframe thead th {\n",
       "        text-align: left;\n",
       "    }\n",
       "\n",
       "    .dataframe tbody tr th {\n",
       "        vertical-align: top;\n",
       "    }\n",
       "</style>\n",
       "<table border=\"1\" class=\"dataframe\">\n",
       "  <thead>\n",
       "    <tr style=\"text-align: right;\">\n",
       "      <th></th>\n",
       "      <th>SCHED_DEP</th>\n",
       "      <th>SCHED_ARR</th>\n",
       "      <th>ARRIVAL_DELAY</th>\n",
       "      <th>DISTANCE</th>\n",
       "      <th>DELAY_OR_NOT</th>\n",
       "      <th>MONTH_1</th>\n",
       "      <th>MONTH_2</th>\n",
       "      <th>MONTH_3</th>\n",
       "      <th>MONTH_4</th>\n",
       "      <th>MONTH_5</th>\n",
       "      <th>...</th>\n",
       "      <th>DESTINATION_AIRPORT_TYS</th>\n",
       "      <th>DESTINATION_AIRPORT_UST</th>\n",
       "      <th>DESTINATION_AIRPORT_VEL</th>\n",
       "      <th>DESTINATION_AIRPORT_VLD</th>\n",
       "      <th>DESTINATION_AIRPORT_VPS</th>\n",
       "      <th>DESTINATION_AIRPORT_WRG</th>\n",
       "      <th>DESTINATION_AIRPORT_WYS</th>\n",
       "      <th>DESTINATION_AIRPORT_XNA</th>\n",
       "      <th>DESTINATION_AIRPORT_YAK</th>\n",
       "      <th>DESTINATION_AIRPORT_YUM</th>\n",
       "    </tr>\n",
       "  </thead>\n",
       "  <tbody>\n",
       "    <tr>\n",
       "      <th>1506</th>\n",
       "      <td>12.383333</td>\n",
       "      <td>12.566667</td>\n",
       "      <td>4.919981</td>\n",
       "      <td>177</td>\n",
       "      <td>1</td>\n",
       "      <td>0</td>\n",
       "      <td>0</td>\n",
       "      <td>0</td>\n",
       "      <td>0</td>\n",
       "      <td>0</td>\n",
       "      <td>...</td>\n",
       "      <td>0</td>\n",
       "      <td>0</td>\n",
       "      <td>0</td>\n",
       "      <td>0</td>\n",
       "      <td>0</td>\n",
       "      <td>0</td>\n",
       "      <td>0</td>\n",
       "      <td>0</td>\n",
       "      <td>0</td>\n",
       "      <td>0</td>\n",
       "    </tr>\n",
       "    <tr>\n",
       "      <th>710891</th>\n",
       "      <td>22.333333</td>\n",
       "      <td>23.833333</td>\n",
       "      <td>4.615121</td>\n",
       "      <td>414</td>\n",
       "      <td>1</td>\n",
       "      <td>0</td>\n",
       "      <td>0</td>\n",
       "      <td>0</td>\n",
       "      <td>0</td>\n",
       "      <td>0</td>\n",
       "      <td>...</td>\n",
       "      <td>0</td>\n",
       "      <td>0</td>\n",
       "      <td>0</td>\n",
       "      <td>0</td>\n",
       "      <td>0</td>\n",
       "      <td>0</td>\n",
       "      <td>0</td>\n",
       "      <td>0</td>\n",
       "      <td>0</td>\n",
       "      <td>0</td>\n",
       "    </tr>\n",
       "    <tr>\n",
       "      <th>576919</th>\n",
       "      <td>15.250000</td>\n",
       "      <td>16.466667</td>\n",
       "      <td>3.295837</td>\n",
       "      <td>280</td>\n",
       "      <td>1</td>\n",
       "      <td>1</td>\n",
       "      <td>0</td>\n",
       "      <td>0</td>\n",
       "      <td>0</td>\n",
       "      <td>0</td>\n",
       "      <td>...</td>\n",
       "      <td>0</td>\n",
       "      <td>0</td>\n",
       "      <td>0</td>\n",
       "      <td>0</td>\n",
       "      <td>0</td>\n",
       "      <td>0</td>\n",
       "      <td>0</td>\n",
       "      <td>0</td>\n",
       "      <td>0</td>\n",
       "      <td>0</td>\n",
       "    </tr>\n",
       "    <tr>\n",
       "      <th>754464</th>\n",
       "      <td>15.650000</td>\n",
       "      <td>19.583333</td>\n",
       "      <td>2.708050</td>\n",
       "      <td>1599</td>\n",
       "      <td>1</td>\n",
       "      <td>0</td>\n",
       "      <td>0</td>\n",
       "      <td>0</td>\n",
       "      <td>0</td>\n",
       "      <td>0</td>\n",
       "      <td>...</td>\n",
       "      <td>0</td>\n",
       "      <td>0</td>\n",
       "      <td>0</td>\n",
       "      <td>0</td>\n",
       "      <td>0</td>\n",
       "      <td>0</td>\n",
       "      <td>0</td>\n",
       "      <td>0</td>\n",
       "      <td>0</td>\n",
       "      <td>0</td>\n",
       "    </tr>\n",
       "    <tr>\n",
       "      <th>55146</th>\n",
       "      <td>18.250000</td>\n",
       "      <td>21.000000</td>\n",
       "      <td>4.043051</td>\n",
       "      <td>861</td>\n",
       "      <td>1</td>\n",
       "      <td>0</td>\n",
       "      <td>1</td>\n",
       "      <td>0</td>\n",
       "      <td>0</td>\n",
       "      <td>0</td>\n",
       "      <td>...</td>\n",
       "      <td>0</td>\n",
       "      <td>0</td>\n",
       "      <td>0</td>\n",
       "      <td>0</td>\n",
       "      <td>0</td>\n",
       "      <td>0</td>\n",
       "      <td>0</td>\n",
       "      <td>0</td>\n",
       "      <td>0</td>\n",
       "      <td>0</td>\n",
       "    </tr>\n",
       "  </tbody>\n",
       "</table>\n",
       "<p>5 rows × 1091 columns</p>\n",
       "</div>"
      ],
      "text/plain": [
       "        SCHED_DEP  SCHED_ARR  ARRIVAL_DELAY  DISTANCE  DELAY_OR_NOT  MONTH_1  \\\n",
       "1506    12.383333  12.566667       4.919981       177             1        0   \n",
       "710891  22.333333  23.833333       4.615121       414             1        0   \n",
       "576919  15.250000  16.466667       3.295837       280             1        1   \n",
       "754464  15.650000  19.583333       2.708050      1599             1        0   \n",
       "55146   18.250000  21.000000       4.043051       861             1        0   \n",
       "\n",
       "        MONTH_2  MONTH_3  MONTH_4  MONTH_5           ...             \\\n",
       "1506          0        0        0        0           ...              \n",
       "710891        0        0        0        0           ...              \n",
       "576919        0        0        0        0           ...              \n",
       "754464        0        0        0        0           ...              \n",
       "55146         1        0        0        0           ...              \n",
       "\n",
       "        DESTINATION_AIRPORT_TYS  DESTINATION_AIRPORT_UST  \\\n",
       "1506                          0                        0   \n",
       "710891                        0                        0   \n",
       "576919                        0                        0   \n",
       "754464                        0                        0   \n",
       "55146                         0                        0   \n",
       "\n",
       "        DESTINATION_AIRPORT_VEL  DESTINATION_AIRPORT_VLD  \\\n",
       "1506                          0                        0   \n",
       "710891                        0                        0   \n",
       "576919                        0                        0   \n",
       "754464                        0                        0   \n",
       "55146                         0                        0   \n",
       "\n",
       "        DESTINATION_AIRPORT_VPS  DESTINATION_AIRPORT_WRG  \\\n",
       "1506                          0                        0   \n",
       "710891                        0                        0   \n",
       "576919                        0                        0   \n",
       "754464                        0                        0   \n",
       "55146                         0                        0   \n",
       "\n",
       "        DESTINATION_AIRPORT_WYS  DESTINATION_AIRPORT_XNA  \\\n",
       "1506                          0                        0   \n",
       "710891                        0                        0   \n",
       "576919                        0                        0   \n",
       "754464                        0                        0   \n",
       "55146                         0                        0   \n",
       "\n",
       "        DESTINATION_AIRPORT_YAK  DESTINATION_AIRPORT_YUM  \n",
       "1506                          0                        0  \n",
       "710891                        0                        0  \n",
       "576919                        0                        0  \n",
       "754464                        0                        0  \n",
       "55146                         0                        0  \n",
       "\n",
       "[5 rows x 1091 columns]"
      ]
     },
     "execution_count": 164,
     "metadata": {},
     "output_type": "execute_result"
    }
   ],
   "source": [
    "#Now, we need to convert our categorical variables\n",
    "cols_to_change =['MONTH','DAY','DAY_OF_WEEK','AIRLINE','ORIGIN_AIRPORT','DESTINATION_AIRPORT']\n",
    "\n",
    "new_df_dummy_regre = pd.get_dummies(new_df_regre,columns=cols_to_change)\n",
    "\n",
    "#Subsample the data to reduce the # of observations. \n",
    "new_df_sample_regre = new_df_dummy_regre.sample(n=16000,random_state=6)\n",
    "\n",
    "#Split the data in test and training (see Lecture 5)\n",
    "np.random.seed(9001)\n",
    "data_train_regre, data_test_regre = train_test_split(new_df_sample_regre,test_size=0.33, random_state=0)\n",
    "\n",
    "#Check we actually got the right shapes\n",
    "print(new_df_sample_regre.shape,df.shape,data_train_regre.shape,data_test_regre.shape)\n",
    "data_train_regre.head()"
   ]
  },
  {
   "cell_type": "code",
   "execution_count": 138,
   "metadata": {
    "collapsed": true
   },
   "outputs": [],
   "source": [
    "#now we standardize our continuous variables\n",
    "p_data_train_regre = data_train_regre.copy(deep=True)\n",
    "\n",
    "p_data_train_regre.loc[:,\"SCHED_DEP\":\"DISTANCE\"] = (data_train_regre.loc[:,\"SCHED_DEP\":\"DISTANCE\"] - data_train_regre.loc[:,\"SCHED_DEP\":\"DISTANCE\"].mean())/data_train_regre.loc[:,\"SCHED_DEP\":\"DISTANCE\"].std()\n",
    "\n",
    "#test set - use mean and std of the training set\n",
    "p_data_test_regre=data_test_regre.copy(deep=True)\n",
    "p_data_test_regre.loc[:,\"SCHED_DEP\":\"DISTANCE\"]=(data_test_regre.loc[:,\"SCHED_DEP\":\"DISTANCE\"]-data_train_regre.loc[:,\"SCHED_DEP\":\"DISTANCE\"].mean())/data_train_regre.loc[:,\"SCHED_DEP\":\"DISTANCE\"].std()"
   ]
  },
  {
   "cell_type": "code",
   "execution_count": 139,
   "metadata": {
    "collapsed": true
   },
   "outputs": [],
   "source": [
    "#create x-train, y-train\n",
    "x_train_regre = p_data_train_regre.copy(deep=True).drop('ARRIVAL_DELAY',axis=1)\n",
    "y_train_regre = p_data_train_regre.ARRIVAL_DELAY\n",
    "\n",
    "x_test_regre = p_data_test_regre.copy(deep=True).drop('ARRIVAL_DELAY',axis=1)\n",
    "y_test_regre = p_data_test_regre.ARRIVAL_DELAY"
   ]
  },
  {
   "cell_type": "code",
   "execution_count": 140,
   "metadata": {},
   "outputs": [
    {
     "data": {
      "text/plain": [
       "Pipeline(steps=[('mlr', LassoCV(alphas=None, copy_X=True, cv=3, eps=0.001, fit_intercept=True,\n",
       "    max_iter=1000, n_alphas=100, n_jobs=1, normalize=False, positive=False,\n",
       "    precompute='auto', random_state=None, selection='cyclic', tol=0.0001,\n",
       "    verbose=False))])"
      ]
     },
     "execution_count": 140,
     "metadata": {},
     "output_type": "execute_result"
    }
   ],
   "source": [
    "#We create our regression model by performing regularized linear regression - Lasso.\n",
    "\n",
    "Lasso_pipe = Pipeline([ ('mlr', LassoCV(cv=3)\n",
    "                           )])\n",
    "Lasso_pipe.fit(x_train_regre, y_train_regre)"
   ]
  },
  {
   "cell_type": "code",
   "execution_count": 141,
   "metadata": {
    "scrolled": true
   },
   "outputs": [
    {
     "name": "stdout",
     "output_type": "stream",
     "text": [
      "R^2 accuracy prediction on the training set\n",
      "0.0538784085414\n",
      "R^2 accuracy prediction on the test set\n",
      "0.0327098717967\n"
     ]
    }
   ],
   "source": [
    "from sklearn.metrics import r2_score\n",
    "\n",
    "y_pred_train = Lasso_pipe.predict(x_train_regre)\n",
    "y_pred = Lasso_pipe.predict(x_test_regre)\n",
    "\n",
    "print(\"R^2 accuracy prediction on the training set\")\n",
    "print(r2_score(y_train_regre,y_pred_train))\n",
    "print(\"R^2 accuracy prediction on the test set\")\n",
    "print(r2_score(y_test_regre,y_pred))"
   ]
  },
  {
   "cell_type": "markdown",
   "metadata": {},
   "source": [
    "**I achieved R^2 over 3% on the test set so I am in the clear! I used Lasso regression with cross validation as it allows to regularize features coefficients and also removes not-significant coefficients.**"
   ]
  },
  {
   "cell_type": "markdown",
   "metadata": {},
   "source": [
    "# 209 Additional questions\n",
    "(10pts) Engineer two additional features that will help improve the classification model's performance.<br>\n",
    "\n",
    "\n"
   ]
  },
  {
   "cell_type": "markdown",
   "metadata": {},
   "source": [
    "# First engineered feature"
   ]
  },
  {
   "cell_type": "code",
   "execution_count": 142,
   "metadata": {},
   "outputs": [
    {
     "data": {
      "image/png": "[encoded data removed]",
      "text/plain": [
       "<matplotlib.figure.Figure at 0x10db52f98>"
      ]
     },
     "metadata": {},
     "output_type": "display_data"
    }
   ],
   "source": [
    "#Let's take a look to find how some of my features are correlated.\n",
    "x_train.columns[53:67]\n",
    "add = [i for i in range(53,100)]\n",
    "\n",
    "features_to_look_at = [i for i in range(15)]\n",
    "for i in add:\n",
    "    features_to_look_at.append(i)\n",
    "a=np.corrcoef(x_train.iloc[:,features_to_look_at].T)\n",
    "plt.figure(figsize=(20,15))\n",
    "sns.heatmap(a,xticklabels=list(x_train.iloc[:,features_to_look_at].columns), yticklabels=list(x_train.iloc[:,features_to_look_at].columns));"
   ]
  },
  {
   "cell_type": "markdown",
   "metadata": {},
   "source": [
    "**It is hard to tell which features are correlated from the correlation matrix above (we can only display a small subset of the predictors given our predictor space is too large. We get some blank values since certain airports do not have enough flights to calculate the correlation matrix**"
   ]
  },
  {
   "cell_type": "code",
   "execution_count": 143,
   "metadata": {
    "collapsed": true
   },
   "outputs": [],
   "source": [
    "#We will add the interaction feature between day of the week - Thursday and scheduled departure time. \n",
    "#We saw in the visualisation that Thursday has the largest % of delayed flights\n",
    "#and also that evening-hours flights have a higher percentage of delayed than morning ones\n",
    "#It is computationally not viable to go through all the different interaction terms (even of degree 2), given our large feature space\n",
    "#So we have to think about which combinations might make logical sense.\n",
    "\n",
    "x_train_eng1 = p_data_train.copy(deep=True).drop('DELAY_OR_NOT',axis=1)\n",
    "y_train_eng1 = p_data_train.DELAY_OR_NOT\n",
    "\n",
    "x_test_eng1 = p_data_test.copy(deep=True).drop('DELAY_OR_NOT',axis=1)\n",
    "y_test_eng1 = p_data_test.DELAY_OR_NOT"
   ]
  },
  {
   "cell_type": "code",
   "execution_count": 146,
   "metadata": {
    "collapsed": true
   },
   "outputs": [],
   "source": [
    "#Creating the interaction featured between Thursday and time of departure\n",
    "x_train_eng1['inter_time_day']= x_train_eng1.DAY_OF_WEEK_4*x_train_eng1.SCHED_DEP\n",
    "x_test_eng1['inter_time_day']= x_test_eng1.DAY_OF_WEEK_4*x_test_eng1.SCHED_DEP"
   ]
  },
  {
   "cell_type": "code",
   "execution_count": 147,
   "metadata": {},
   "outputs": [
    {
     "name": "stdout",
     "output_type": "stream",
     "text": [
      "Training set prediction accuracy of logistic regression = 0.760253731343\n"
     ]
    }
   ],
   "source": [
    "# Fit cross-validated weighted 'L2'-penalized logistic regression \n",
    "clf_eng = LogisticRegressionCV(fit_intercept=True, penalty='l2',class_weight='balanced')\n",
    "clf_eng.fit(x_train_eng1, y_train_eng1)\n",
    "\n",
    "y_train_hat = clf_eng.predict(x_train_eng1)\n",
    "\n",
    "print(\"Training set prediction accuracy of logistic regression =\", accuracy_score(y_train_eng1, y_train_hat))"
   ]
  },
  {
   "cell_type": "code",
   "execution_count": 148,
   "metadata": {},
   "outputs": [
    {
     "name": "stdout",
     "output_type": "stream",
     "text": [
      "The AUC score without engineered features on the test set  0.820862632096\n",
      "The AUC score with a engineered feature on the test set 0.821622046718\n"
     ]
    }
   ],
   "source": [
    "auc_logreg_eng = metrics.roc_auc_score(y_test_eng1, clf_eng.predict_proba(x_test_eng1)[:,1])\n",
    "print(\"The AUC score without engineered features on the test set \",auc_logreg_test)\n",
    "print(\"The AUC score with a engineered feature on the test set\",auc_logreg_eng)"
   ]
  },
  {
   "cell_type": "markdown",
   "metadata": {},
   "source": [
    "**We achieved slight improvemenent from AUC of 0.821 to 0.822 on the test set, which may be small, but given the fact we have over 1300 features, this interaction feature still adds a bit of accuracy. I observed most delayed flights happen on Thursdays and also in the evening from the visualisation, thus combining these two features added a bit of classification accuracy makes a logical sense.**"
   ]
  },
  {
   "cell_type": "code",
   "execution_count": 149,
   "metadata": {
    "collapsed": true
   },
   "outputs": [],
   "source": [
    "#Now test the model with the engineered feature on the entire dataset\n",
    "x_test_remain['inter_time_day'] = x_test_remain.DAY_OF_WEEK_4*x_test_remain.SCHED_DEP"
   ]
  },
  {
   "cell_type": "code",
   "execution_count": 150,
   "metadata": {
    "collapsed": true
   },
   "outputs": [],
   "source": [
    "#Calculate the AUC score\n",
    "auc_logreg_eng_rem = metrics.roc_auc_score(y_test_remain, clf_eng.predict_proba(x_test_remain)[:,1])"
   ]
  },
  {
   "cell_type": "code",
   "execution_count": 151,
   "metadata": {},
   "outputs": [
    {
     "name": "stdout",
     "output_type": "stream",
     "text": [
      "AUC on the remaining data without engineered features 0.823005059613\n",
      "AUC on the remaining data WITH a engineered features 0.822875047292\n"
     ]
    }
   ],
   "source": [
    "print(\"AUC on the remaining data without engineered features\",auc_logreg_rem)\n",
    "print(\"AUC on the remaining data WITH a engineered features\",auc_logreg_eng_rem)"
   ]
  },
  {
   "cell_type": "markdown",
   "metadata": {},
   "source": [
    "**Despite achieving a minimal improvement with the first engineered feature on the test set, we actually did slightly worse on the remaining dataset.**"
   ]
  },
  {
   "cell_type": "markdown",
   "metadata": {},
   "source": [
    "# Second engineered feature"
   ]
  },
  {
   "cell_type": "code",
   "execution_count": 152,
   "metadata": {
    "collapsed": true
   },
   "outputs": [],
   "source": [
    "#Let's get rid of the airports which have less than 100 flights in a year\n",
    "# - to reduce the complexity of our model by engineering the ORIGIN_AIRPORT feature\n",
    "\n",
    "new_df_eng = df.copy(deep=True)\n",
    "del new_df_eng['DATE']\n",
    "del new_df_eng['SCHEDULED_TIME']\n",
    "del new_df_eng['ELAPSED_TIME']\n",
    "del new_df_eng['FLIGHT_NUMBER']\n",
    "del new_df_eng['TAIL_NUMBER']\n",
    "del new_df_eng['ARRIVAL_DELAY']\n",
    "del new_df_eng['DEPARTURE_DELAY']\n",
    "del new_df_eng['AIR_SYSTEM_DELAY']\n",
    "del new_df_eng['AIRLINE_DELAY']\n",
    "del new_df_eng['SECURITY_DELAY']\n",
    "del new_df_eng['LATE_AIRCRAFT_DELAY']\n",
    "del new_df_eng['WEATHER_DELAY']"
   ]
  },
  {
   "cell_type": "code",
   "execution_count": 153,
   "metadata": {
    "collapsed": true
   },
   "outputs": [],
   "source": [
    "#Change time to decimal in scheduled dep and arr\n",
    "date_str_dep = list(new_df_eng.SCHED_DEP)\n",
    "date_str_arr = list(new_df_eng.SCHED_ARR)\n",
    "time_tuples_dep = []\n",
    "time_tuples_arr = []\n",
    "for i,j in zip(date_str_dep,date_str_arr):\n",
    "    time_tuple_dep = time.strptime(i, \"%H:%M:%S\")\n",
    "    time_tuple_arr = time.strptime(j, \"%H:%M:%S\")\n",
    "    time_tuples_dep.append(time_tuple_dep.tm_hour+time_tuple_dep.tm_min/60)\n",
    "    time_tuples_arr.append(time_tuple_arr.tm_hour+time_tuple_arr.tm_min/60)\n",
    "new_df_eng['SCHED_DEP'] = np.array(time_tuples_dep)\n",
    "new_df_eng['SCHED_ARR'] = np.array(time_tuples_arr)"
   ]
  },
  {
   "cell_type": "code",
   "execution_count": 154,
   "metadata": {},
   "outputs": [
    {
     "name": "stdout",
     "output_type": "stream",
     "text": [
      "(100000, 784) (804941, 22) (67000, 784) (33000, 784)\n"
     ]
    },
    {
     "data": {
      "text/html": [
       "<div>\n",
       "<style>\n",
       "    .dataframe thead tr:only-child th {\n",
       "        text-align: right;\n",
       "    }\n",
       "\n",
       "    .dataframe thead th {\n",
       "        text-align: left;\n",
       "    }\n",
       "\n",
       "    .dataframe tbody tr th {\n",
       "        vertical-align: top;\n",
       "    }\n",
       "</style>\n",
       "<table border=\"1\" class=\"dataframe\">\n",
       "  <thead>\n",
       "    <tr style=\"text-align: right;\">\n",
       "      <th></th>\n",
       "      <th>SCHED_DEP</th>\n",
       "      <th>SCHED_ARR</th>\n",
       "      <th>DISTANCE</th>\n",
       "      <th>DELAY_OR_NOT</th>\n",
       "      <th>MONTH_1</th>\n",
       "      <th>MONTH_2</th>\n",
       "      <th>MONTH_3</th>\n",
       "      <th>MONTH_4</th>\n",
       "      <th>MONTH_5</th>\n",
       "      <th>MONTH_6</th>\n",
       "      <th>...</th>\n",
       "      <th>DESTINATION_AIRPORT_TWF</th>\n",
       "      <th>DESTINATION_AIRPORT_TXK</th>\n",
       "      <th>DESTINATION_AIRPORT_TYR</th>\n",
       "      <th>DESTINATION_AIRPORT_TYS</th>\n",
       "      <th>DESTINATION_AIRPORT_VLD</th>\n",
       "      <th>DESTINATION_AIRPORT_VPS</th>\n",
       "      <th>DESTINATION_AIRPORT_WRG</th>\n",
       "      <th>DESTINATION_AIRPORT_XNA</th>\n",
       "      <th>DESTINATION_AIRPORT_YAK</th>\n",
       "      <th>DESTINATION_AIRPORT_YUM</th>\n",
       "    </tr>\n",
       "  </thead>\n",
       "  <tbody>\n",
       "    <tr>\n",
       "      <th>492825</th>\n",
       "      <td>17.450000</td>\n",
       "      <td>18.883333</td>\n",
       "      <td>460</td>\n",
       "      <td>1</td>\n",
       "      <td>0</td>\n",
       "      <td>0</td>\n",
       "      <td>0</td>\n",
       "      <td>0</td>\n",
       "      <td>0</td>\n",
       "      <td>1</td>\n",
       "      <td>...</td>\n",
       "      <td>0</td>\n",
       "      <td>0</td>\n",
       "      <td>0</td>\n",
       "      <td>0</td>\n",
       "      <td>0</td>\n",
       "      <td>0</td>\n",
       "      <td>0</td>\n",
       "      <td>0</td>\n",
       "      <td>0</td>\n",
       "      <td>0</td>\n",
       "    </tr>\n",
       "    <tr>\n",
       "      <th>152130</th>\n",
       "      <td>12.816667</td>\n",
       "      <td>15.550000</td>\n",
       "      <td>867</td>\n",
       "      <td>0</td>\n",
       "      <td>0</td>\n",
       "      <td>1</td>\n",
       "      <td>0</td>\n",
       "      <td>0</td>\n",
       "      <td>0</td>\n",
       "      <td>0</td>\n",
       "      <td>...</td>\n",
       "      <td>0</td>\n",
       "      <td>0</td>\n",
       "      <td>0</td>\n",
       "      <td>0</td>\n",
       "      <td>0</td>\n",
       "      <td>0</td>\n",
       "      <td>0</td>\n",
       "      <td>0</td>\n",
       "      <td>0</td>\n",
       "      <td>0</td>\n",
       "    </tr>\n",
       "    <tr>\n",
       "      <th>108541</th>\n",
       "      <td>15.750000</td>\n",
       "      <td>17.700000</td>\n",
       "      <td>867</td>\n",
       "      <td>0</td>\n",
       "      <td>0</td>\n",
       "      <td>0</td>\n",
       "      <td>0</td>\n",
       "      <td>1</td>\n",
       "      <td>0</td>\n",
       "      <td>0</td>\n",
       "      <td>...</td>\n",
       "      <td>0</td>\n",
       "      <td>0</td>\n",
       "      <td>0</td>\n",
       "      <td>0</td>\n",
       "      <td>0</td>\n",
       "      <td>0</td>\n",
       "      <td>0</td>\n",
       "      <td>0</td>\n",
       "      <td>0</td>\n",
       "      <td>0</td>\n",
       "    </tr>\n",
       "    <tr>\n",
       "      <th>508329</th>\n",
       "      <td>12.866667</td>\n",
       "      <td>18.300000</td>\n",
       "      <td>1452</td>\n",
       "      <td>0</td>\n",
       "      <td>0</td>\n",
       "      <td>0</td>\n",
       "      <td>0</td>\n",
       "      <td>0</td>\n",
       "      <td>0</td>\n",
       "      <td>0</td>\n",
       "      <td>...</td>\n",
       "      <td>0</td>\n",
       "      <td>0</td>\n",
       "      <td>0</td>\n",
       "      <td>0</td>\n",
       "      <td>0</td>\n",
       "      <td>0</td>\n",
       "      <td>0</td>\n",
       "      <td>0</td>\n",
       "      <td>0</td>\n",
       "      <td>0</td>\n",
       "    </tr>\n",
       "    <tr>\n",
       "      <th>422830</th>\n",
       "      <td>5.500000</td>\n",
       "      <td>6.616667</td>\n",
       "      <td>201</td>\n",
       "      <td>0</td>\n",
       "      <td>0</td>\n",
       "      <td>0</td>\n",
       "      <td>1</td>\n",
       "      <td>0</td>\n",
       "      <td>0</td>\n",
       "      <td>0</td>\n",
       "      <td>...</td>\n",
       "      <td>0</td>\n",
       "      <td>0</td>\n",
       "      <td>0</td>\n",
       "      <td>0</td>\n",
       "      <td>0</td>\n",
       "      <td>0</td>\n",
       "      <td>0</td>\n",
       "      <td>0</td>\n",
       "      <td>0</td>\n",
       "      <td>0</td>\n",
       "    </tr>\n",
       "  </tbody>\n",
       "</table>\n",
       "<p>5 rows × 784 columns</p>\n",
       "</div>"
      ],
      "text/plain": [
       "        SCHED_DEP  SCHED_ARR  DISTANCE  DELAY_OR_NOT  MONTH_1  MONTH_2  \\\n",
       "492825  17.450000  18.883333       460             1        0        0   \n",
       "152130  12.816667  15.550000       867             0        0        1   \n",
       "108541  15.750000  17.700000       867             0        0        0   \n",
       "508329  12.866667  18.300000      1452             0        0        0   \n",
       "422830   5.500000   6.616667       201             0        0        0   \n",
       "\n",
       "        MONTH_3  MONTH_4  MONTH_5  MONTH_6           ...             \\\n",
       "492825        0        0        0        1           ...              \n",
       "152130        0        0        0        0           ...              \n",
       "108541        0        1        0        0           ...              \n",
       "508329        0        0        0        0           ...              \n",
       "422830        1        0        0        0           ...              \n",
       "\n",
       "        DESTINATION_AIRPORT_TWF  DESTINATION_AIRPORT_TXK  \\\n",
       "492825                        0                        0   \n",
       "152130                        0                        0   \n",
       "108541                        0                        0   \n",
       "508329                        0                        0   \n",
       "422830                        0                        0   \n",
       "\n",
       "        DESTINATION_AIRPORT_TYR  DESTINATION_AIRPORT_TYS  \\\n",
       "492825                        0                        0   \n",
       "152130                        0                        0   \n",
       "108541                        0                        0   \n",
       "508329                        0                        0   \n",
       "422830                        0                        0   \n",
       "\n",
       "        DESTINATION_AIRPORT_VLD  DESTINATION_AIRPORT_VPS  \\\n",
       "492825                        0                        0   \n",
       "152130                        0                        0   \n",
       "108541                        0                        0   \n",
       "508329                        0                        0   \n",
       "422830                        0                        0   \n",
       "\n",
       "        DESTINATION_AIRPORT_WRG  DESTINATION_AIRPORT_XNA  \\\n",
       "492825                        0                        0   \n",
       "152130                        0                        0   \n",
       "108541                        0                        0   \n",
       "508329                        0                        0   \n",
       "422830                        0                        0   \n",
       "\n",
       "        DESTINATION_AIRPORT_YAK  DESTINATION_AIRPORT_YUM  \n",
       "492825                        0                        0  \n",
       "152130                        0                        0  \n",
       "108541                        0                        0  \n",
       "508329                        0                        0  \n",
       "422830                        0                        0  \n",
       "\n",
       "[5 rows x 784 columns]"
      ]
     },
     "execution_count": 154,
     "metadata": {},
     "output_type": "execute_result"
    }
   ],
   "source": [
    "#Now, we need to convert our categorical variables\n",
    "cols_to_change =['MONTH','DAY','DAY_OF_WEEK','AIRLINE','ORIGIN_AIRPORT','DESTINATION_AIRPORT']\n",
    "\n",
    "new_df_dummy = pd.get_dummies(new_df_eng,columns=cols_to_change)\n",
    "\n",
    "#get the airports with only more than 100 flights\n",
    "indices_to_keep = new_df.ORIGIN_AIRPORT.value_counts()[list(new_df.ORIGIN_AIRPORT.value_counts()>100)].index\n",
    "collection = []\n",
    "for c in new_df_dummy.columns:\n",
    "    if \"ORIGIN_AIRPORT\" in c or \"DESTINATION_AIRPORT\" in c:\n",
    "        tag = c.replace(\"ORIGIN_AIRPORT_\", \"\").replace(\"DESTINATION_AIRPORT_\",\"\")\n",
    "        if not tag in indices_to_keep:\n",
    "            collection.append(c)\n",
    "new_df_dummy=new_df_dummy.drop(collection, axis=1)\n",
    "#Subsample the data to reduce the # of observations. \n",
    "new_df_sample = new_df_dummy.sample(n=100000,random_state=6)\n",
    "\n",
    "#Split the data in test and training (see Lecture 5)\n",
    "np.random.seed(9001)\n",
    "data_train_eng, data_test_eng = train_test_split(new_df_sample,test_size=0.33, random_state=0)\n",
    "\n",
    "#Check we actually got the right shapes\n",
    "print(new_df_sample.shape,df.shape,data_train_eng.shape,data_test_eng.shape)\n",
    "data_train_eng.head()"
   ]
  },
  {
   "cell_type": "code",
   "execution_count": 155,
   "metadata": {
    "collapsed": true
   },
   "outputs": [],
   "source": [
    "#now we standardize our continuous variables\n",
    "p_data_train_eng = data_train_eng.copy(deep=True)\n",
    "\n",
    "p_data_train_eng.loc[:,\"SCHED_DEP\":\"DISTANCE\"] = (data_train_eng.loc[:,\"SCHED_DEP\":\"DISTANCE\"] - data_train_eng.loc[:,\"SCHED_DEP\":\"DISTANCE\"].mean())/data_train_eng.loc[:,\"SCHED_DEP\":\"DISTANCE\"].std()\n",
    "\n",
    "#test set - use mean and std of the training set\n",
    "p_data_test_eng=data_test_eng.copy(deep=True)\n",
    "p_data_test_eng.loc[:,\"SCHED_DEP\":\"DISTANCE\"]=(data_test_eng.loc[:,\"SCHED_DEP\":\"DISTANCE\"]-data_train_eng.loc[:,\"SCHED_DEP\":\"DISTANCE\"].mean())/data_train_eng.loc[:,\"SCHED_DEP\":\"DISTANCE\"].std()"
   ]
  },
  {
   "cell_type": "code",
   "execution_count": 156,
   "metadata": {},
   "outputs": [
    {
     "data": {
      "text/html": [
       "<div>\n",
       "<style>\n",
       "    .dataframe thead tr:only-child th {\n",
       "        text-align: right;\n",
       "    }\n",
       "\n",
       "    .dataframe thead th {\n",
       "        text-align: left;\n",
       "    }\n",
       "\n",
       "    .dataframe tbody tr th {\n",
       "        vertical-align: top;\n",
       "    }\n",
       "</style>\n",
       "<table border=\"1\" class=\"dataframe\">\n",
       "  <thead>\n",
       "    <tr style=\"text-align: right;\">\n",
       "      <th></th>\n",
       "      <th>SCHED_DEP</th>\n",
       "      <th>SCHED_ARR</th>\n",
       "      <th>DISTANCE</th>\n",
       "      <th>DELAY_OR_NOT</th>\n",
       "      <th>MONTH_1</th>\n",
       "      <th>MONTH_2</th>\n",
       "      <th>MONTH_3</th>\n",
       "      <th>MONTH_4</th>\n",
       "      <th>MONTH_5</th>\n",
       "      <th>MONTH_6</th>\n",
       "      <th>...</th>\n",
       "      <th>DESTINATION_AIRPORT_TWF</th>\n",
       "      <th>DESTINATION_AIRPORT_TXK</th>\n",
       "      <th>DESTINATION_AIRPORT_TYR</th>\n",
       "      <th>DESTINATION_AIRPORT_TYS</th>\n",
       "      <th>DESTINATION_AIRPORT_VLD</th>\n",
       "      <th>DESTINATION_AIRPORT_VPS</th>\n",
       "      <th>DESTINATION_AIRPORT_WRG</th>\n",
       "      <th>DESTINATION_AIRPORT_XNA</th>\n",
       "      <th>DESTINATION_AIRPORT_YAK</th>\n",
       "      <th>DESTINATION_AIRPORT_YUM</th>\n",
       "    </tr>\n",
       "  </thead>\n",
       "  <tbody>\n",
       "    <tr>\n",
       "      <th>492825</th>\n",
       "      <td>0.965907</td>\n",
       "      <td>0.848591</td>\n",
       "      <td>-0.594743</td>\n",
       "      <td>1</td>\n",
       "      <td>0</td>\n",
       "      <td>0</td>\n",
       "      <td>0</td>\n",
       "      <td>0</td>\n",
       "      <td>0</td>\n",
       "      <td>1</td>\n",
       "      <td>...</td>\n",
       "      <td>0</td>\n",
       "      <td>0</td>\n",
       "      <td>0</td>\n",
       "      <td>0</td>\n",
       "      <td>0</td>\n",
       "      <td>0</td>\n",
       "      <td>0</td>\n",
       "      <td>0</td>\n",
       "      <td>0</td>\n",
       "      <td>0</td>\n",
       "    </tr>\n",
       "    <tr>\n",
       "      <th>152130</th>\n",
       "      <td>-0.016644</td>\n",
       "      <td>0.164565</td>\n",
       "      <td>0.084816</td>\n",
       "      <td>0</td>\n",
       "      <td>0</td>\n",
       "      <td>1</td>\n",
       "      <td>0</td>\n",
       "      <td>0</td>\n",
       "      <td>0</td>\n",
       "      <td>0</td>\n",
       "      <td>...</td>\n",
       "      <td>0</td>\n",
       "      <td>0</td>\n",
       "      <td>0</td>\n",
       "      <td>0</td>\n",
       "      <td>0</td>\n",
       "      <td>0</td>\n",
       "      <td>0</td>\n",
       "      <td>0</td>\n",
       "      <td>0</td>\n",
       "      <td>0</td>\n",
       "    </tr>\n",
       "    <tr>\n",
       "      <th>108541</th>\n",
       "      <td>0.605403</td>\n",
       "      <td>0.605762</td>\n",
       "      <td>0.084816</td>\n",
       "      <td>0</td>\n",
       "      <td>0</td>\n",
       "      <td>0</td>\n",
       "      <td>0</td>\n",
       "      <td>1</td>\n",
       "      <td>0</td>\n",
       "      <td>0</td>\n",
       "      <td>...</td>\n",
       "      <td>0</td>\n",
       "      <td>0</td>\n",
       "      <td>0</td>\n",
       "      <td>0</td>\n",
       "      <td>0</td>\n",
       "      <td>0</td>\n",
       "      <td>0</td>\n",
       "      <td>0</td>\n",
       "      <td>0</td>\n",
       "      <td>0</td>\n",
       "    </tr>\n",
       "    <tr>\n",
       "      <th>508329</th>\n",
       "      <td>-0.006041</td>\n",
       "      <td>0.728886</td>\n",
       "      <td>1.061577</td>\n",
       "      <td>0</td>\n",
       "      <td>0</td>\n",
       "      <td>0</td>\n",
       "      <td>0</td>\n",
       "      <td>0</td>\n",
       "      <td>0</td>\n",
       "      <td>0</td>\n",
       "      <td>...</td>\n",
       "      <td>0</td>\n",
       "      <td>0</td>\n",
       "      <td>0</td>\n",
       "      <td>0</td>\n",
       "      <td>0</td>\n",
       "      <td>0</td>\n",
       "      <td>0</td>\n",
       "      <td>0</td>\n",
       "      <td>0</td>\n",
       "      <td>0</td>\n",
       "    </tr>\n",
       "    <tr>\n",
       "      <th>422830</th>\n",
       "      <td>-1.568225</td>\n",
       "      <td>-1.668623</td>\n",
       "      <td>-1.027189</td>\n",
       "      <td>0</td>\n",
       "      <td>0</td>\n",
       "      <td>0</td>\n",
       "      <td>1</td>\n",
       "      <td>0</td>\n",
       "      <td>0</td>\n",
       "      <td>0</td>\n",
       "      <td>...</td>\n",
       "      <td>0</td>\n",
       "      <td>0</td>\n",
       "      <td>0</td>\n",
       "      <td>0</td>\n",
       "      <td>0</td>\n",
       "      <td>0</td>\n",
       "      <td>0</td>\n",
       "      <td>0</td>\n",
       "      <td>0</td>\n",
       "      <td>0</td>\n",
       "    </tr>\n",
       "  </tbody>\n",
       "</table>\n",
       "<p>5 rows × 784 columns</p>\n",
       "</div>"
      ],
      "text/plain": [
       "        SCHED_DEP  SCHED_ARR  DISTANCE  DELAY_OR_NOT  MONTH_1  MONTH_2  \\\n",
       "492825   0.965907   0.848591 -0.594743             1        0        0   \n",
       "152130  -0.016644   0.164565  0.084816             0        0        1   \n",
       "108541   0.605403   0.605762  0.084816             0        0        0   \n",
       "508329  -0.006041   0.728886  1.061577             0        0        0   \n",
       "422830  -1.568225  -1.668623 -1.027189             0        0        0   \n",
       "\n",
       "        MONTH_3  MONTH_4  MONTH_5  MONTH_6           ...             \\\n",
       "492825        0        0        0        1           ...              \n",
       "152130        0        0        0        0           ...              \n",
       "108541        0        1        0        0           ...              \n",
       "508329        0        0        0        0           ...              \n",
       "422830        1        0        0        0           ...              \n",
       "\n",
       "        DESTINATION_AIRPORT_TWF  DESTINATION_AIRPORT_TXK  \\\n",
       "492825                        0                        0   \n",
       "152130                        0                        0   \n",
       "108541                        0                        0   \n",
       "508329                        0                        0   \n",
       "422830                        0                        0   \n",
       "\n",
       "        DESTINATION_AIRPORT_TYR  DESTINATION_AIRPORT_TYS  \\\n",
       "492825                        0                        0   \n",
       "152130                        0                        0   \n",
       "108541                        0                        0   \n",
       "508329                        0                        0   \n",
       "422830                        0                        0   \n",
       "\n",
       "        DESTINATION_AIRPORT_VLD  DESTINATION_AIRPORT_VPS  \\\n",
       "492825                        0                        0   \n",
       "152130                        0                        0   \n",
       "108541                        0                        0   \n",
       "508329                        0                        0   \n",
       "422830                        0                        0   \n",
       "\n",
       "        DESTINATION_AIRPORT_WRG  DESTINATION_AIRPORT_XNA  \\\n",
       "492825                        0                        0   \n",
       "152130                        0                        0   \n",
       "108541                        0                        0   \n",
       "508329                        0                        0   \n",
       "422830                        0                        0   \n",
       "\n",
       "        DESTINATION_AIRPORT_YAK  DESTINATION_AIRPORT_YUM  \n",
       "492825                        0                        0  \n",
       "152130                        0                        0  \n",
       "108541                        0                        0  \n",
       "508329                        0                        0  \n",
       "422830                        0                        0  \n",
       "\n",
       "[5 rows x 784 columns]"
      ]
     },
     "execution_count": 156,
     "metadata": {},
     "output_type": "execute_result"
    }
   ],
   "source": [
    "p_data_train_eng.head()"
   ]
  },
  {
   "cell_type": "code",
   "execution_count": 157,
   "metadata": {
    "collapsed": true
   },
   "outputs": [],
   "source": [
    "x_train_eng2 = p_data_train_eng.copy(deep=True).drop('DELAY_OR_NOT',axis=1)\n",
    "y_train_eng2 = p_data_train_eng.DELAY_OR_NOT\n",
    "\n",
    "x_test_eng2 = p_data_test_eng.copy(deep=True).drop('DELAY_OR_NOT',axis=1)\n",
    "y_test_eng2 = p_data_test_eng.DELAY_OR_NOT"
   ]
  },
  {
   "cell_type": "code",
   "execution_count": 158,
   "metadata": {},
   "outputs": [
    {
     "name": "stdout",
     "output_type": "stream",
     "text": [
      "Training set prediction accuracy of logistic regression = 0.756597014925\n"
     ]
    }
   ],
   "source": [
    "# Fit cross-validated weighted L2 logistic regression \n",
    "clf_eng2 = LogisticRegressionCV(fit_intercept=True, penalty='l2',class_weight='balanced')\n",
    "clf_eng2.fit(x_train_eng2, y_train_eng2)\n",
    "\n",
    "y_train_hat = clf_eng2.predict(x_train_eng2)\n",
    "\n",
    "print(\"Training set prediction accuracy of logistic regression =\", accuracy_score(y_train_eng2, y_train_hat))"
   ]
  },
  {
   "cell_type": "code",
   "execution_count": 159,
   "metadata": {},
   "outputs": [
    {
     "name": "stdout",
     "output_type": "stream",
     "text": [
      "The AUC score without engineered features on the test set  0.820862632096\n",
      "The AUC score with a engineered feature (number of airports) on the test set 0.821096182128\n"
     ]
    }
   ],
   "source": [
    "auc_logreg_eng2 = metrics.roc_auc_score(y_test_eng2, clf_eng2.predict_proba(x_test_eng2)[:,1])\n",
    "print(\"The AUC score without engineered features on the test set \",auc_logreg_test)\n",
    "print(\"The AUC score with a engineered feature (number of airports) on the test set\",auc_logreg_eng2)"
   ]
  },
  {
   "cell_type": "markdown",
   "metadata": {},
   "source": [
    "**We can see we improved our accuracy by engineering the \"ORIGIN_AIRPORTS\" feature by a bit, but most importantly we reduced the feature space from 1,300 to about 700, which improves the computational speed significantly.**"
   ]
  },
  {
   "cell_type": "markdown",
   "metadata": {},
   "source": [
    "(5pts) Add one additional feature from a data source not given to you. Do this only after you complete the rest of the exam."
   ]
  },
  {
   "cell_type": "markdown",
   "metadata": {},
   "source": [
    "**Given lack of time, I will just add the \"diverted\" occurences feature and only look at January as I won't have enough time to clean and concatenate all of the months. I will add the feature called \"DIVERTED\" to see whether DIVERTED affected delay flights**"
   ]
  },
  {
   "cell_type": "code",
   "execution_count": 206,
   "metadata": {
    "collapsed": true
   },
   "outputs": [],
   "source": [
    "#read the dataset I downloaded from https://www.transtats.bts.gov/DL_SelectFields.asp?Table_ID=236&DB_Short_Name=On-Time\n",
    "jan_df = pd.read_csv(\"Jan_15_flights.csv\")"
   ]
  },
  {
   "cell_type": "code",
   "execution_count": 207,
   "metadata": {},
   "outputs": [
    {
     "data": {
      "text/html": [
       "<div>\n",
       "<style>\n",
       "    .dataframe thead tr:only-child th {\n",
       "        text-align: right;\n",
       "    }\n",
       "\n",
       "    .dataframe thead th {\n",
       "        text-align: left;\n",
       "    }\n",
       "\n",
       "    .dataframe tbody tr th {\n",
       "        vertical-align: top;\n",
       "    }\n",
       "</style>\n",
       "<table border=\"1\" class=\"dataframe\">\n",
       "  <thead>\n",
       "    <tr style=\"text-align: right;\">\n",
       "      <th></th>\n",
       "      <th>MONTH</th>\n",
       "      <th>DAY_OF_MONTH</th>\n",
       "      <th>DAY_OF_WEEK</th>\n",
       "      <th>AIRLINE_ID</th>\n",
       "      <th>ORIGIN</th>\n",
       "      <th>DEST</th>\n",
       "      <th>CRS_DEP_TIME</th>\n",
       "      <th>CRS_ARR_TIME</th>\n",
       "      <th>ARR_DEL15</th>\n",
       "      <th>DIVERTED</th>\n",
       "      <th>ACTUAL_ELAPSED_TIME</th>\n",
       "      <th>DISTANCE</th>\n",
       "      <th>DIV_AIRPORT_LANDINGS</th>\n",
       "      <th>Unnamed: 13</th>\n",
       "    </tr>\n",
       "  </thead>\n",
       "  <tbody>\n",
       "    <tr>\n",
       "      <th>0</th>\n",
       "      <td>1</td>\n",
       "      <td>22</td>\n",
       "      <td>4</td>\n",
       "      <td>19790</td>\n",
       "      <td>LGA</td>\n",
       "      <td>MCO</td>\n",
       "      <td>2050</td>\n",
       "      <td>2354</td>\n",
       "      <td>0.0</td>\n",
       "      <td>0.0</td>\n",
       "      <td>203.0</td>\n",
       "      <td>950.0</td>\n",
       "      <td>0</td>\n",
       "      <td>NaN</td>\n",
       "    </tr>\n",
       "    <tr>\n",
       "      <th>1</th>\n",
       "      <td>1</td>\n",
       "      <td>22</td>\n",
       "      <td>4</td>\n",
       "      <td>19790</td>\n",
       "      <td>ATL</td>\n",
       "      <td>LGA</td>\n",
       "      <td>1245</td>\n",
       "      <td>1459</td>\n",
       "      <td>0.0</td>\n",
       "      <td>0.0</td>\n",
       "      <td>105.0</td>\n",
       "      <td>762.0</td>\n",
       "      <td>0</td>\n",
       "      <td>NaN</td>\n",
       "    </tr>\n",
       "    <tr>\n",
       "      <th>2</th>\n",
       "      <td>1</td>\n",
       "      <td>22</td>\n",
       "      <td>4</td>\n",
       "      <td>19790</td>\n",
       "      <td>SAN</td>\n",
       "      <td>DTW</td>\n",
       "      <td>1150</td>\n",
       "      <td>1914</td>\n",
       "      <td>0.0</td>\n",
       "      <td>0.0</td>\n",
       "      <td>263.0</td>\n",
       "      <td>1956.0</td>\n",
       "      <td>0</td>\n",
       "      <td>NaN</td>\n",
       "    </tr>\n",
       "    <tr>\n",
       "      <th>3</th>\n",
       "      <td>1</td>\n",
       "      <td>22</td>\n",
       "      <td>4</td>\n",
       "      <td>19790</td>\n",
       "      <td>ATL</td>\n",
       "      <td>AGS</td>\n",
       "      <td>1909</td>\n",
       "      <td>2001</td>\n",
       "      <td>0.0</td>\n",
       "      <td>0.0</td>\n",
       "      <td>46.0</td>\n",
       "      <td>143.0</td>\n",
       "      <td>0</td>\n",
       "      <td>NaN</td>\n",
       "    </tr>\n",
       "    <tr>\n",
       "      <th>4</th>\n",
       "      <td>1</td>\n",
       "      <td>22</td>\n",
       "      <td>4</td>\n",
       "      <td>19790</td>\n",
       "      <td>ATL</td>\n",
       "      <td>IAH</td>\n",
       "      <td>1342</td>\n",
       "      <td>1501</td>\n",
       "      <td>0.0</td>\n",
       "      <td>0.0</td>\n",
       "      <td>140.0</td>\n",
       "      <td>689.0</td>\n",
       "      <td>0</td>\n",
       "      <td>NaN</td>\n",
       "    </tr>\n",
       "  </tbody>\n",
       "</table>\n",
       "</div>"
      ],
      "text/plain": [
       "   MONTH  DAY_OF_MONTH  DAY_OF_WEEK  AIRLINE_ID ORIGIN DEST  CRS_DEP_TIME  \\\n",
       "0      1            22            4       19790    LGA  MCO          2050   \n",
       "1      1            22            4       19790    ATL  LGA          1245   \n",
       "2      1            22            4       19790    SAN  DTW          1150   \n",
       "3      1            22            4       19790    ATL  AGS          1909   \n",
       "4      1            22            4       19790    ATL  IAH          1342   \n",
       "\n",
       "   CRS_ARR_TIME  ARR_DEL15  DIVERTED  ACTUAL_ELAPSED_TIME  DISTANCE  \\\n",
       "0          2354        0.0       0.0                203.0     950.0   \n",
       "1          1459        0.0       0.0                105.0     762.0   \n",
       "2          1914        0.0       0.0                263.0    1956.0   \n",
       "3          2001        0.0       0.0                 46.0     143.0   \n",
       "4          1501        0.0       0.0                140.0     689.0   \n",
       "\n",
       "   DIV_AIRPORT_LANDINGS  Unnamed: 13  \n",
       "0                     0          NaN  \n",
       "1                     0          NaN  \n",
       "2                     0          NaN  \n",
       "3                     0          NaN  \n",
       "4                     0          NaN  "
      ]
     },
     "execution_count": 207,
     "metadata": {},
     "output_type": "execute_result"
    }
   ],
   "source": [
    "jan_df.head()"
   ]
  },
  {
   "cell_type": "code",
   "execution_count": 235,
   "metadata": {},
   "outputs": [],
   "source": [
    "#fill in for 0s, we will only be using ARR_DEL15 as our response which has NaNs, other variables with NaN;s will be dropped.\n",
    "my_df = jan_df.fillna(0)"
   ]
  },
  {
   "cell_type": "code",
   "execution_count": 236,
   "metadata": {},
   "outputs": [
    {
     "data": {
      "text/plain": [
       "Index(['MONTH', 'DAY_OF_MONTH', 'DAY_OF_WEEK', 'AIRLINE_ID', 'ORIGIN', 'DEST',\n",
       "       'CRS_DEP_TIME', 'CRS_ARR_TIME', 'ARR_DEL15', 'DIVERTED',\n",
       "       'ACTUAL_ELAPSED_TIME', 'DISTANCE', 'DIV_AIRPORT_LANDINGS',\n",
       "       'Unnamed: 13'],\n",
       "      dtype='object')"
      ]
     },
     "execution_count": 236,
     "metadata": {},
     "output_type": "execute_result"
    }
   ],
   "source": [
    "my_df.columns"
   ]
  },
  {
   "cell_type": "code",
   "execution_count": 237,
   "metadata": {},
   "outputs": [],
   "source": [
    "del my_df['ACTUAL_ELAPSED_TIME']\n",
    "del my_df['DIV_AIRPORT_LANDINGS'] #duplicate to DIVERTED \n",
    "del my_df['Unnamed: 13']"
   ]
  },
  {
   "cell_type": "code",
   "execution_count": 238,
   "metadata": {},
   "outputs": [
    {
     "data": {
      "text/html": [
       "<div>\n",
       "<style>\n",
       "    .dataframe thead tr:only-child th {\n",
       "        text-align: right;\n",
       "    }\n",
       "\n",
       "    .dataframe thead th {\n",
       "        text-align: left;\n",
       "    }\n",
       "\n",
       "    .dataframe tbody tr th {\n",
       "        vertical-align: top;\n",
       "    }\n",
       "</style>\n",
       "<table border=\"1\" class=\"dataframe\">\n",
       "  <thead>\n",
       "    <tr style=\"text-align: right;\">\n",
       "      <th></th>\n",
       "      <th>MONTH</th>\n",
       "      <th>DAY_OF_MONTH</th>\n",
       "      <th>DAY_OF_WEEK</th>\n",
       "      <th>AIRLINE_ID</th>\n",
       "      <th>ORIGIN</th>\n",
       "      <th>DEST</th>\n",
       "      <th>CRS_DEP_TIME</th>\n",
       "      <th>CRS_ARR_TIME</th>\n",
       "      <th>ARR_DEL15</th>\n",
       "      <th>DIVERTED</th>\n",
       "      <th>DISTANCE</th>\n",
       "    </tr>\n",
       "  </thead>\n",
       "  <tbody>\n",
       "    <tr>\n",
       "      <th>0</th>\n",
       "      <td>1</td>\n",
       "      <td>22</td>\n",
       "      <td>4</td>\n",
       "      <td>19790</td>\n",
       "      <td>LGA</td>\n",
       "      <td>MCO</td>\n",
       "      <td>2050</td>\n",
       "      <td>2354</td>\n",
       "      <td>0.0</td>\n",
       "      <td>0.0</td>\n",
       "      <td>950.0</td>\n",
       "    </tr>\n",
       "    <tr>\n",
       "      <th>1</th>\n",
       "      <td>1</td>\n",
       "      <td>22</td>\n",
       "      <td>4</td>\n",
       "      <td>19790</td>\n",
       "      <td>ATL</td>\n",
       "      <td>LGA</td>\n",
       "      <td>1245</td>\n",
       "      <td>1459</td>\n",
       "      <td>0.0</td>\n",
       "      <td>0.0</td>\n",
       "      <td>762.0</td>\n",
       "    </tr>\n",
       "    <tr>\n",
       "      <th>2</th>\n",
       "      <td>1</td>\n",
       "      <td>22</td>\n",
       "      <td>4</td>\n",
       "      <td>19790</td>\n",
       "      <td>SAN</td>\n",
       "      <td>DTW</td>\n",
       "      <td>1150</td>\n",
       "      <td>1914</td>\n",
       "      <td>0.0</td>\n",
       "      <td>0.0</td>\n",
       "      <td>1956.0</td>\n",
       "    </tr>\n",
       "    <tr>\n",
       "      <th>3</th>\n",
       "      <td>1</td>\n",
       "      <td>22</td>\n",
       "      <td>4</td>\n",
       "      <td>19790</td>\n",
       "      <td>ATL</td>\n",
       "      <td>AGS</td>\n",
       "      <td>1909</td>\n",
       "      <td>2001</td>\n",
       "      <td>0.0</td>\n",
       "      <td>0.0</td>\n",
       "      <td>143.0</td>\n",
       "    </tr>\n",
       "    <tr>\n",
       "      <th>4</th>\n",
       "      <td>1</td>\n",
       "      <td>22</td>\n",
       "      <td>4</td>\n",
       "      <td>19790</td>\n",
       "      <td>ATL</td>\n",
       "      <td>IAH</td>\n",
       "      <td>1342</td>\n",
       "      <td>1501</td>\n",
       "      <td>0.0</td>\n",
       "      <td>0.0</td>\n",
       "      <td>689.0</td>\n",
       "    </tr>\n",
       "  </tbody>\n",
       "</table>\n",
       "</div>"
      ],
      "text/plain": [
       "   MONTH  DAY_OF_MONTH  DAY_OF_WEEK  AIRLINE_ID ORIGIN DEST  CRS_DEP_TIME  \\\n",
       "0      1            22            4       19790    LGA  MCO          2050   \n",
       "1      1            22            4       19790    ATL  LGA          1245   \n",
       "2      1            22            4       19790    SAN  DTW          1150   \n",
       "3      1            22            4       19790    ATL  AGS          1909   \n",
       "4      1            22            4       19790    ATL  IAH          1342   \n",
       "\n",
       "   CRS_ARR_TIME  ARR_DEL15  DIVERTED  DISTANCE  \n",
       "0          2354        0.0       0.0     950.0  \n",
       "1          1459        0.0       0.0     762.0  \n",
       "2          1914        0.0       0.0    1956.0  \n",
       "3          2001        0.0       0.0     143.0  \n",
       "4          1501        0.0       0.0     689.0  "
      ]
     },
     "execution_count": 238,
     "metadata": {},
     "output_type": "execute_result"
    }
   ],
   "source": [
    "my_df.head()"
   ]
  },
  {
   "cell_type": "code",
   "execution_count": 239,
   "metadata": {},
   "outputs": [
    {
     "name": "stdout",
     "output_type": "stream",
     "text": [
      "(50000, 682) (804941, 22) (33500, 682) (16500, 682)\n"
     ]
    },
    {
     "data": {
      "text/html": [
       "<div>\n",
       "<style>\n",
       "    .dataframe thead tr:only-child th {\n",
       "        text-align: right;\n",
       "    }\n",
       "\n",
       "    .dataframe thead th {\n",
       "        text-align: left;\n",
       "    }\n",
       "\n",
       "    .dataframe tbody tr th {\n",
       "        vertical-align: top;\n",
       "    }\n",
       "</style>\n",
       "<table border=\"1\" class=\"dataframe\">\n",
       "  <thead>\n",
       "    <tr style=\"text-align: right;\">\n",
       "      <th></th>\n",
       "      <th>CRS_DEP_TIME</th>\n",
       "      <th>CRS_ARR_TIME</th>\n",
       "      <th>ARR_DEL15</th>\n",
       "      <th>DIVERTED</th>\n",
       "      <th>DISTANCE</th>\n",
       "      <th>MONTH_1</th>\n",
       "      <th>DAY_OF_MONTH_1</th>\n",
       "      <th>DAY_OF_MONTH_2</th>\n",
       "      <th>DAY_OF_MONTH_3</th>\n",
       "      <th>DAY_OF_MONTH_4</th>\n",
       "      <th>...</th>\n",
       "      <th>DEST_TYR</th>\n",
       "      <th>DEST_TYS</th>\n",
       "      <th>DEST_UST</th>\n",
       "      <th>DEST_VEL</th>\n",
       "      <th>DEST_VLD</th>\n",
       "      <th>DEST_VPS</th>\n",
       "      <th>DEST_WRG</th>\n",
       "      <th>DEST_XNA</th>\n",
       "      <th>DEST_YAK</th>\n",
       "      <th>DEST_YUM</th>\n",
       "    </tr>\n",
       "  </thead>\n",
       "  <tbody>\n",
       "    <tr>\n",
       "      <th>81209</th>\n",
       "      <td>1000</td>\n",
       "      <td>1405</td>\n",
       "      <td>1.0</td>\n",
       "      <td>0.0</td>\n",
       "      <td>2614.0</td>\n",
       "      <td>1</td>\n",
       "      <td>0</td>\n",
       "      <td>0</td>\n",
       "      <td>0</td>\n",
       "      <td>0</td>\n",
       "      <td>...</td>\n",
       "      <td>0</td>\n",
       "      <td>0</td>\n",
       "      <td>0</td>\n",
       "      <td>0</td>\n",
       "      <td>0</td>\n",
       "      <td>0</td>\n",
       "      <td>0</td>\n",
       "      <td>0</td>\n",
       "      <td>0</td>\n",
       "      <td>0</td>\n",
       "    </tr>\n",
       "    <tr>\n",
       "      <th>171347</th>\n",
       "      <td>2150</td>\n",
       "      <td>2309</td>\n",
       "      <td>0.0</td>\n",
       "      <td>0.0</td>\n",
       "      <td>358.0</td>\n",
       "      <td>1</td>\n",
       "      <td>0</td>\n",
       "      <td>0</td>\n",
       "      <td>0</td>\n",
       "      <td>0</td>\n",
       "      <td>...</td>\n",
       "      <td>0</td>\n",
       "      <td>0</td>\n",
       "      <td>0</td>\n",
       "      <td>0</td>\n",
       "      <td>0</td>\n",
       "      <td>0</td>\n",
       "      <td>0</td>\n",
       "      <td>0</td>\n",
       "      <td>0</td>\n",
       "      <td>0</td>\n",
       "    </tr>\n",
       "    <tr>\n",
       "      <th>321159</th>\n",
       "      <td>915</td>\n",
       "      <td>1005</td>\n",
       "      <td>0.0</td>\n",
       "      <td>0.0</td>\n",
       "      <td>181.0</td>\n",
       "      <td>1</td>\n",
       "      <td>0</td>\n",
       "      <td>0</td>\n",
       "      <td>0</td>\n",
       "      <td>0</td>\n",
       "      <td>...</td>\n",
       "      <td>0</td>\n",
       "      <td>0</td>\n",
       "      <td>0</td>\n",
       "      <td>0</td>\n",
       "      <td>0</td>\n",
       "      <td>0</td>\n",
       "      <td>0</td>\n",
       "      <td>0</td>\n",
       "      <td>0</td>\n",
       "      <td>0</td>\n",
       "    </tr>\n",
       "    <tr>\n",
       "      <th>25575</th>\n",
       "      <td>1710</td>\n",
       "      <td>1824</td>\n",
       "      <td>0.0</td>\n",
       "      <td>0.0</td>\n",
       "      <td>376.0</td>\n",
       "      <td>1</td>\n",
       "      <td>0</td>\n",
       "      <td>0</td>\n",
       "      <td>0</td>\n",
       "      <td>0</td>\n",
       "      <td>...</td>\n",
       "      <td>0</td>\n",
       "      <td>0</td>\n",
       "      <td>0</td>\n",
       "      <td>0</td>\n",
       "      <td>0</td>\n",
       "      <td>0</td>\n",
       "      <td>0</td>\n",
       "      <td>0</td>\n",
       "      <td>0</td>\n",
       "      <td>0</td>\n",
       "    </tr>\n",
       "    <tr>\n",
       "      <th>177273</th>\n",
       "      <td>1000</td>\n",
       "      <td>1338</td>\n",
       "      <td>0.0</td>\n",
       "      <td>0.0</td>\n",
       "      <td>2565.0</td>\n",
       "      <td>1</td>\n",
       "      <td>0</td>\n",
       "      <td>0</td>\n",
       "      <td>0</td>\n",
       "      <td>0</td>\n",
       "      <td>...</td>\n",
       "      <td>0</td>\n",
       "      <td>0</td>\n",
       "      <td>0</td>\n",
       "      <td>0</td>\n",
       "      <td>0</td>\n",
       "      <td>0</td>\n",
       "      <td>0</td>\n",
       "      <td>0</td>\n",
       "      <td>0</td>\n",
       "      <td>0</td>\n",
       "    </tr>\n",
       "  </tbody>\n",
       "</table>\n",
       "<p>5 rows × 682 columns</p>\n",
       "</div>"
      ],
      "text/plain": [
       "        CRS_DEP_TIME  CRS_ARR_TIME  ARR_DEL15  DIVERTED  DISTANCE  MONTH_1  \\\n",
       "81209           1000          1405        1.0       0.0    2614.0        1   \n",
       "171347          2150          2309        0.0       0.0     358.0        1   \n",
       "321159           915          1005        0.0       0.0     181.0        1   \n",
       "25575           1710          1824        0.0       0.0     376.0        1   \n",
       "177273          1000          1338        0.0       0.0    2565.0        1   \n",
       "\n",
       "        DAY_OF_MONTH_1  DAY_OF_MONTH_2  DAY_OF_MONTH_3  DAY_OF_MONTH_4  \\\n",
       "81209                0               0               0               0   \n",
       "171347               0               0               0               0   \n",
       "321159               0               0               0               0   \n",
       "25575                0               0               0               0   \n",
       "177273               0               0               0               0   \n",
       "\n",
       "          ...     DEST_TYR  DEST_TYS  DEST_UST  DEST_VEL  DEST_VLD  DEST_VPS  \\\n",
       "81209     ...            0         0         0         0         0         0   \n",
       "171347    ...            0         0         0         0         0         0   \n",
       "321159    ...            0         0         0         0         0         0   \n",
       "25575     ...            0         0         0         0         0         0   \n",
       "177273    ...            0         0         0         0         0         0   \n",
       "\n",
       "        DEST_WRG  DEST_XNA  DEST_YAK  DEST_YUM  \n",
       "81209          0         0         0         0  \n",
       "171347         0         0         0         0  \n",
       "321159         0         0         0         0  \n",
       "25575          0         0         0         0  \n",
       "177273         0         0         0         0  \n",
       "\n",
       "[5 rows x 682 columns]"
      ]
     },
     "execution_count": 239,
     "metadata": {},
     "output_type": "execute_result"
    }
   ],
   "source": [
    "\n",
    "cols_to_change =['MONTH','DAY_OF_MONTH','DAY_OF_WEEK','AIRLINE_ID','ORIGIN','DEST']\n",
    "\n",
    "#hot-encode\n",
    "new_df_dummy = pd.get_dummies(my_df,columns=cols_to_change)\n",
    "\n",
    "#Subsample the data to reduce the # of observations. \n",
    "new_df_sample = new_df_dummy.sample(n=50000,random_state=6)\n",
    "\n",
    "#Split the data in test and training (see Lecture 5)\n",
    "np.random.seed(9001)\n",
    "data_train, data_test = train_test_split(new_df_sample,test_size=0.33, random_state=0)\n",
    "\n",
    "#Check we actually got the right shapes\n",
    "print(new_df_sample.shape,df.shape,data_train.shape,data_test.shape)\n",
    "data_train.head()"
   ]
  },
  {
   "cell_type": "code",
   "execution_count": 240,
   "metadata": {
    "collapsed": true
   },
   "outputs": [],
   "source": [
    "#standardize the data\n",
    "p_data_train=data_train.copy(deep=True)\n",
    "p_data_train.iloc[:,[0,1,4]]=(data_train.iloc[:,[0,1,4]]-data_train.iloc[:,[0,1,4]].mean())/data_train.iloc[:,[0,1,4]].std()\n",
    "\n",
    "#test set - use mean and std of the training set\n",
    "p_data_test=data_test.copy(deep=True)\n",
    "p_data_test.iloc[:,[0,1,4]]=(data_test.iloc[:,[0,1,4]]-data_train.iloc[:,[0,1,4]].mean())/data_train.iloc[:,[0,1,4]].std()"
   ]
  },
  {
   "cell_type": "code",
   "execution_count": 241,
   "metadata": {},
   "outputs": [
    {
     "data": {
      "text/html": [
       "<div>\n",
       "<style>\n",
       "    .dataframe thead tr:only-child th {\n",
       "        text-align: right;\n",
       "    }\n",
       "\n",
       "    .dataframe thead th {\n",
       "        text-align: left;\n",
       "    }\n",
       "\n",
       "    .dataframe tbody tr th {\n",
       "        vertical-align: top;\n",
       "    }\n",
       "</style>\n",
       "<table border=\"1\" class=\"dataframe\">\n",
       "  <thead>\n",
       "    <tr style=\"text-align: right;\">\n",
       "      <th></th>\n",
       "      <th>CRS_DEP_TIME</th>\n",
       "      <th>CRS_ARR_TIME</th>\n",
       "      <th>ARR_DEL15</th>\n",
       "      <th>DIVERTED</th>\n",
       "      <th>DISTANCE</th>\n",
       "      <th>MONTH_1</th>\n",
       "      <th>DAY_OF_MONTH_1</th>\n",
       "      <th>DAY_OF_MONTH_2</th>\n",
       "      <th>DAY_OF_MONTH_3</th>\n",
       "      <th>DAY_OF_MONTH_4</th>\n",
       "      <th>...</th>\n",
       "      <th>DEST_TYR</th>\n",
       "      <th>DEST_TYS</th>\n",
       "      <th>DEST_UST</th>\n",
       "      <th>DEST_VEL</th>\n",
       "      <th>DEST_VLD</th>\n",
       "      <th>DEST_VPS</th>\n",
       "      <th>DEST_WRG</th>\n",
       "      <th>DEST_XNA</th>\n",
       "      <th>DEST_YAK</th>\n",
       "      <th>DEST_YUM</th>\n",
       "    </tr>\n",
       "  </thead>\n",
       "  <tbody>\n",
       "    <tr>\n",
       "      <th>81209</th>\n",
       "      <td>-0.687726</td>\n",
       "      <td>-0.208120</td>\n",
       "      <td>1.0</td>\n",
       "      <td>0.0</td>\n",
       "      <td>3.053485</td>\n",
       "      <td>1</td>\n",
       "      <td>0</td>\n",
       "      <td>0</td>\n",
       "      <td>0</td>\n",
       "      <td>0</td>\n",
       "      <td>...</td>\n",
       "      <td>0</td>\n",
       "      <td>0</td>\n",
       "      <td>0</td>\n",
       "      <td>0</td>\n",
       "      <td>0</td>\n",
       "      <td>0</td>\n",
       "      <td>0</td>\n",
       "      <td>0</td>\n",
       "      <td>0</td>\n",
       "      <td>0</td>\n",
       "    </tr>\n",
       "    <tr>\n",
       "      <th>171347</th>\n",
       "      <td>1.763939</td>\n",
       "      <td>1.660808</td>\n",
       "      <td>0.0</td>\n",
       "      <td>0.0</td>\n",
       "      <td>-0.748522</td>\n",
       "      <td>1</td>\n",
       "      <td>0</td>\n",
       "      <td>0</td>\n",
       "      <td>0</td>\n",
       "      <td>0</td>\n",
       "      <td>...</td>\n",
       "      <td>0</td>\n",
       "      <td>0</td>\n",
       "      <td>0</td>\n",
       "      <td>0</td>\n",
       "      <td>0</td>\n",
       "      <td>0</td>\n",
       "      <td>0</td>\n",
       "      <td>0</td>\n",
       "      <td>0</td>\n",
       "      <td>0</td>\n",
       "    </tr>\n",
       "    <tr>\n",
       "      <th>321159</th>\n",
       "      <td>-0.868936</td>\n",
       "      <td>-1.035079</td>\n",
       "      <td>0.0</td>\n",
       "      <td>0.0</td>\n",
       "      <td>-1.046818</td>\n",
       "      <td>1</td>\n",
       "      <td>0</td>\n",
       "      <td>0</td>\n",
       "      <td>0</td>\n",
       "      <td>0</td>\n",
       "      <td>...</td>\n",
       "      <td>0</td>\n",
       "      <td>0</td>\n",
       "      <td>0</td>\n",
       "      <td>0</td>\n",
       "      <td>0</td>\n",
       "      <td>0</td>\n",
       "      <td>0</td>\n",
       "      <td>0</td>\n",
       "      <td>0</td>\n",
       "      <td>0</td>\n",
       "    </tr>\n",
       "    <tr>\n",
       "      <th>25575</th>\n",
       "      <td>0.825911</td>\n",
       "      <td>0.658120</td>\n",
       "      <td>0.0</td>\n",
       "      <td>0.0</td>\n",
       "      <td>-0.718187</td>\n",
       "      <td>1</td>\n",
       "      <td>0</td>\n",
       "      <td>0</td>\n",
       "      <td>0</td>\n",
       "      <td>0</td>\n",
       "      <td>...</td>\n",
       "      <td>0</td>\n",
       "      <td>0</td>\n",
       "      <td>0</td>\n",
       "      <td>0</td>\n",
       "      <td>0</td>\n",
       "      <td>0</td>\n",
       "      <td>0</td>\n",
       "      <td>0</td>\n",
       "      <td>0</td>\n",
       "      <td>0</td>\n",
       "    </tr>\n",
       "    <tr>\n",
       "      <th>177273</th>\n",
       "      <td>-0.687726</td>\n",
       "      <td>-0.346636</td>\n",
       "      <td>0.0</td>\n",
       "      <td>0.0</td>\n",
       "      <td>2.970906</td>\n",
       "      <td>1</td>\n",
       "      <td>0</td>\n",
       "      <td>0</td>\n",
       "      <td>0</td>\n",
       "      <td>0</td>\n",
       "      <td>...</td>\n",
       "      <td>0</td>\n",
       "      <td>0</td>\n",
       "      <td>0</td>\n",
       "      <td>0</td>\n",
       "      <td>0</td>\n",
       "      <td>0</td>\n",
       "      <td>0</td>\n",
       "      <td>0</td>\n",
       "      <td>0</td>\n",
       "      <td>0</td>\n",
       "    </tr>\n",
       "  </tbody>\n",
       "</table>\n",
       "<p>5 rows × 682 columns</p>\n",
       "</div>"
      ],
      "text/plain": [
       "        CRS_DEP_TIME  CRS_ARR_TIME  ARR_DEL15  DIVERTED  DISTANCE  MONTH_1  \\\n",
       "81209      -0.687726     -0.208120        1.0       0.0  3.053485        1   \n",
       "171347      1.763939      1.660808        0.0       0.0 -0.748522        1   \n",
       "321159     -0.868936     -1.035079        0.0       0.0 -1.046818        1   \n",
       "25575       0.825911      0.658120        0.0       0.0 -0.718187        1   \n",
       "177273     -0.687726     -0.346636        0.0       0.0  2.970906        1   \n",
       "\n",
       "        DAY_OF_MONTH_1  DAY_OF_MONTH_2  DAY_OF_MONTH_3  DAY_OF_MONTH_4  \\\n",
       "81209                0               0               0               0   \n",
       "171347               0               0               0               0   \n",
       "321159               0               0               0               0   \n",
       "25575                0               0               0               0   \n",
       "177273               0               0               0               0   \n",
       "\n",
       "          ...     DEST_TYR  DEST_TYS  DEST_UST  DEST_VEL  DEST_VLD  DEST_VPS  \\\n",
       "81209     ...            0         0         0         0         0         0   \n",
       "171347    ...            0         0         0         0         0         0   \n",
       "321159    ...            0         0         0         0         0         0   \n",
       "25575     ...            0         0         0         0         0         0   \n",
       "177273    ...            0         0         0         0         0         0   \n",
       "\n",
       "        DEST_WRG  DEST_XNA  DEST_YAK  DEST_YUM  \n",
       "81209          0         0         0         0  \n",
       "171347         0         0         0         0  \n",
       "321159         0         0         0         0  \n",
       "25575          0         0         0         0  \n",
       "177273         0         0         0         0  \n",
       "\n",
       "[5 rows x 682 columns]"
      ]
     },
     "execution_count": 241,
     "metadata": {},
     "output_type": "execute_result"
    }
   ],
   "source": [
    "p_data_train.head()"
   ]
  },
  {
   "cell_type": "code",
   "execution_count": 242,
   "metadata": {},
   "outputs": [],
   "source": [
    "x_train = p_data_train.copy(deep=True).drop('ARR_DEL15',axis=1)\n",
    "y_train = p_data_train.ARR_DEL15\n",
    "\n",
    "x_test = p_data_test.copy(deep=True).drop('ARR_DEL15',axis=1)\n",
    "y_test = p_data_test.ARR_DEL15"
   ]
  },
  {
   "cell_type": "code",
   "execution_count": 243,
   "metadata": {},
   "outputs": [
    {
     "name": "stdout",
     "output_type": "stream",
     "text": [
      "Training set prediction accuracy of logistic regression = 0.672208955224\n"
     ]
    }
   ],
   "source": [
    "# Fit cross-validated weighted L2 logistic regression \n",
    "clf = LogisticRegressionCV(fit_intercept=True, penalty='l2',class_weight='balanced')\n",
    "clf.fit(x_train, y_train)\n",
    "\n",
    "y_train_hat = clf.predict(x_train)\n",
    "\n",
    "print(\"Training set prediction accuracy of logistic regression =\", accuracy_score(y_train, y_train_hat))"
   ]
  },
  {
   "cell_type": "code",
   "execution_count": 244,
   "metadata": {},
   "outputs": [
    {
     "name": "stdout",
     "output_type": "stream",
     "text": [
      "Accuracy on the test set achieved:\n",
      "overall accuracy       0.662545\n",
      "accuracy on class 0    0.668646\n",
      "accuracy on class 1    0.638715\n",
      "dtype: float64\n"
     ]
    }
   ],
   "source": [
    "clf_test_score = score(clf,x_test,y_test)\n",
    "print(\"Accuracy on the test set achieved:\")\n",
    "print(clf_test_score)"
   ]
  },
  {
   "cell_type": "code",
   "execution_count": 245,
   "metadata": {},
   "outputs": [
    {
     "name": "stdout",
     "output_type": "stream",
     "text": [
      "The AUC score on the test set auc_logreg 0.711382941648\n"
     ]
    }
   ],
   "source": [
    "auc_logreg_test = metrics.roc_auc_score(y_test, clf.predict_proba(x_test)[:,1])\n",
    "print(\"The AUC score on the test set auc_logreg\",auc_logreg_test)"
   ]
  },
  {
   "cell_type": "markdown",
   "metadata": {},
   "source": [
    "**In this last 209a subproblem, I added DIVERT feature. It is inconclusive to say whether it improved since I was not able to pull in the whole 2015 year in time from the website. I still beat the benchmark AUC provided by the Hint on this Midterm!.**"
   ]
  },
  {
   "cell_type": "markdown",
   "metadata": {},
   "source": [
    "**Question 8**<br>\n",
    "(20pts) Write a report (in the last markdown cell in your notebook with your findings (without code)). Describe the main design decisions you have made with justifications. Clearly explain your methodology and results. This should not be more than 300 words. You may use up to 5 diagrams."
   ]
  },
  {
   "cell_type": "markdown",
   "metadata": {
    "collapsed": true
   },
   "source": [
    "Summary: After pre-processing and exploration of the data I have decided to eliminate certain features as described above. I believe the various \"delay\" features are not useful in predicting the delay events since they are sort of after-the-fact (e.g., delayed departure is already after-the-fact feature). In visualisation, I found that select features (Airline, Hour of the day, month, day of the week) likely heavily determine the probability of a delayed flight - see diagrams. Then, I decided to use the weighted logistic regression for classification. I based this decision mainly on the fact we have an unbalanced training set (only 10% of observations are delayed flight events), lack of assumption that we have multivariate normally distributed data (exclusion of LDA/QDA), and also finding the best score with weight logistic regression among classification models (kNN too computationally expensive, decision tree clearly overfitting on the training set). My model performed fairly well, with AUC of 82% on the whole dataset (exc. sample). Of note, the coefficients of features in weighted logistic regression dictate their importance to a classification decision (the lower the coefficient, including negative, the less contributing it is). Next up, with my model, I had a high False Positive classification decisions rate (~75%) but I was limited by an unbalanced dataset. Additionally, the False Negatives rate was better (~4%). Also, a high FPR might be better than high FNR if our model were to be used in practice - people err on the side of caution whether a flight will be delayed or not to make arrangements given they will likely be late.\n",
    "\n",
    "In the second part, I chose the logarithm of \"ARRIVAL_TIME\" as a response variable to build a predictive model for the length of the delay. I chose the cross-validated L2-penalized Lasso regression to build my model. I chose Lasso because it eliminates features non-important for predicting the response variable and I also wanted to regularize to avoid overfitting on the training set (in contrast, Ridge does not eliminate features completely, only minimizes their weight). I achieved R^2 of ~3.4% which is above the given baseline. Further improvements could be made by e.g.,expanding the training set with Polynomial interaction terms before Lasso regression, however, in case of >1000 predictors, this is too computationally expensive. I also found PCA was not useful in case of reducing dimensionality when dealing with categorical variables (which we have many in this hot-encoded dataset).\n",
    "\n",
    "Finally, for 209a, after looking at a subset of predictors in a correlation matrix, I was not able to clearly see which ones are correlated so I used \"common sense\" and tried a combination of a day with worst percentage of delayed flights (Thursday) with scheduled departure time - which had fairly high coefficient in logistic regression. I was able to achieve only very slight AUC improvement.\n",
    "\n",
    "The second feature engineering was adjusting one existing feature - dropping airports with less than 100 flights from the dataset. This also did not significantly improved AUC, but it majorly reduced the complexity of the model (from 1300 to 700 features).\n",
    "\n",
    "Finally, for the additional added feature, I used DIVERTED (bool: 0/1) from the Transportation Bureau website to see whether DIVERTED flights significantly affect prediction of delays. I followed the same steps as in previous analyses and got an AUC of 71%. This is caused by the fact I only had time to clean January 2015 and not concatenate months."
   ]
  }
 ],
 "metadata": {
  "kernelspec": {
   "display_name": "Python 3",
   "language": "python",
   "name": "python3"
  },
  "language_info": {
   "codemirror_mode": {
    "name": "ipython",
    "version": 3
   },
   "file_extension": ".py",
   "mimetype": "text/x-python",
   "name": "python",
   "nbconvert_exporter": "python",
   "pygments_lexer": "ipython3",
   "version": "3.6.1"
  }
 },
 "nbformat": 4,
 "nbformat_minor": 2
}
