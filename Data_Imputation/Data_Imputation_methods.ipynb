{
 "cells": [
  {
   "cell_type": "code",
   "execution_count": null,
   "metadata": {
    "collapsed": true
   },
   "outputs": [],
   "source": [
    "# Data imputation methods.\n",
    "\n",
    "# We consider two methods of imputation of data, which might be helpful.\n",
    "\n",
    "# 1) Model-based imputation\n",
    "\n",
    "# 2) Imputation using k-means clustering\n",
    "\n",
    "#NOTE: Imputation with the mean or by dropping observations with missing values \n",
    "# are trivial with Pandas and can be googled very quickly!"
   ]
  },
  {
   "cell_type": "code",
   "execution_count": null,
   "metadata": {
    "collapsed": true
   },
   "outputs": [],
   "source": [
    "#1) Impute with other predictors for a given observation\n",
    "\n",
    "def impute_missing_model(non_nan_df,nan_df,response_col_name):\n",
    "    #return a dataset with missing values imputed by other predictors. In process, you have to drop the name of the response col\n",
    "\n",
    "    #build model from dataset without missing vals\n",
    "    cols_missing_values = nan_df.columns[nan_df.isnull().any()]\n",
    "\n",
    "    X_imp = non_nan_df.drop(cols_missing_values,axis=1).drop(response_col_name,axis=1)\n",
    "    mod_dataset_imp = nan_df.copy()\n",
    "\n",
    "    for item in cols_missing_values:\n",
    "        y_imp = non_nan_df[item]\n",
    "        #print(\"imputing\",item)\n",
    "        #create regression model and fit in predictors, the predicted value will be the column with NaNs\n",
    "        regress = LinearRegression()\n",
    "        regress.fit(X_imp,y_imp)\n",
    "        y_hat = regress.predict(X_imp)\n",
    "\n",
    "    #Now find the rows in the whole dataframe with missing values (X_missing stores the features without missing values)\n",
    "        X_missing = nan_df[nan_df[item].isnull()].drop(cols_missing_values,axis=1).drop(response_col_name,axis=1)\n",
    "\n",
    "    #predict missing values based on the features without missing values\n",
    "        y_missing = regress.predict(X_missing)\n",
    "        y_missing_noise = y_missing+np.random.normal(loc=0,scale=np.sqrt(mean_squared_error(y_imp,y_hat)),size=y_missing.shape[0])\n",
    "\n",
    "    #get the indices of missing values\n",
    "        missing_index = nan_df[item][nan_df[item].isnull()].index\n",
    "        missing_series = pd.Series(data = y_missing_noise, index = missing_index)\n",
    "        mod_dataset_imp[item] = mod_dataset_imp[item].fillna(missing_series)\n",
    "    \n",
    "    return mod_dataset_imp"
   ]
  },
  {
   "cell_type": "code",
   "execution_count": null,
   "metadata": {
    "collapsed": true
   },
   "outputs": [],
   "source": [
    "# Method to impute missing values using k-means clustering\n",
    "    def kmeans_missing(X, n_clusters, max_iter=10):\n",
    "\n",
    "        # Initialize missing values to their column means\n",
    "        missing = ~np.isfinite(X)\n",
    "        mu = np.nanmean(X, 0, keepdims=1)\n",
    "        X_hat = np.where(missing, mu, X)\n",
    "\n",
    "        for i in range(max_iter):\n",
    "            if i > 0:\n",
    "                cls = KMeans(n_clusters, init=prev_centroids)\n",
    "            else:\n",
    "                cls = KMeans(n_clusters, n_jobs=-1)\n",
    "\n",
    "            # Perform clustering on the filled-in data\n",
    "            labels = cls.fit_predict(X_hat)\n",
    "            centroids = cls.cluster_centers_\n",
    "\n",
    "            # Fill in the missing values based on their cluster centroids\n",
    "            X_hat[missing] = centroids[labels][missing]\n",
    "\n",
    "            # When the labels have stopped changing then we have converged\n",
    "            if i > 0 and np.all(labels == prev_labels):\n",
    "                break\n",
    "\n",
    "            prev_labels = labels\n",
    "            prev_centroids = cls.cluster_centers_\n",
    "\n",
    "        return X_hat"
   ]
  }
 ],
 "metadata": {
  "kernelspec": {
   "display_name": "Python 3",
   "language": "python",
   "name": "python3"
  },
  "language_info": {
   "codemirror_mode": {
    "name": "ipython",
    "version": 3
   },
   "file_extension": ".py",
   "mimetype": "text/x-python",
   "name": "python",
   "nbconvert_exporter": "python",
   "pygments_lexer": "ipython3",
   "version": "3.6.1"
  }
 },
 "nbformat": 4,
 "nbformat_minor": 2
}
