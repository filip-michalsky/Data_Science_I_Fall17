{
 "cells": [
  {
   "cell_type": "markdown",
   "metadata": {},
   "source": [
    "# CS 109A/STAT 121A/AC 209A/CSCI E-109A: Homework 4\n",
    "# Regularization, High Dimensionality, PCA\n",
    "\n",
    "\n",
    "**Harvard University**<br/>\n",
    "**Fall 2017**<br/>\n",
    "**Instructors**: Pavlos Protopapas, Kevin Rader, Rahul Dave, Margo Levine\n",
    "\n",
    "---\n",
    "\n",
    "### INSTRUCTIONS\n",
    "\n",
    "- To submit your assignment follow the instructions given in canvas.\n",
    "- Restart the kernel and run the whole notebook again before you submit. \n",
    "- Do not include your name(s) in the notebook even if you are submitting as a group. \n",
    "- If you submit individually and you have worked with someone, please include the name of your [one] partner below. \n",
    "\n",
    "---"
   ]
  },
  {
   "cell_type": "markdown",
   "metadata": {},
   "source": [
    "Contributors: Ryan Janssen, Filip Michalsky\n",
    "\n",
    "Enrollment Status (109A, 121A, 209A, or E109A): 209A"
   ]
  },
  {
   "cell_type": "markdown",
   "metadata": {},
   "source": [
    "Import libraries:"
   ]
  },
  {
   "cell_type": "code",
   "execution_count": 2,
   "metadata": {},
   "outputs": [
    {
     "name": "stderr",
     "output_type": "stream",
     "text": [
      "/Users/filipmichalsky/anaconda/lib/python3.6/site-packages/statsmodels/compat/pandas.py:56: FutureWarning: The pandas.core.datetools module is deprecated and will be removed in a future version. Please use the pandas.tseries module instead.\n",
      "  from pandas.core import datetools\n"
     ]
    }
   ],
   "source": [
    "import numpy as np\n",
    "import pandas as pd\n",
    "import matplotlib\n",
    "import matplotlib.pyplot as plt\n",
    "from sklearn.metrics import r2_score\n",
    "import statsmodels.api as sm\n",
    "from statsmodels.api import OLS\n",
    "from sklearn.preprocessing import PolynomialFeatures\n",
    "from sklearn.linear_model import LinearRegression\n",
    "from sklearn.linear_model import Ridge\n",
    "from sklearn.linear_model import Lasso\n",
    "from sklearn.linear_model import RidgeCV\n",
    "from sklearn.linear_model import LassoCV\n",
    "from sklearn.decomposition import PCA\n",
    "from scipy.stats import zscore\n",
    "%matplotlib inline\n",
    "\n",
    "# In this problem set, we are often iterating with small Lambda values that cause many warnings to appear. \n",
    "# So, we'll turn off warnings for this set:\n",
    "import warnings\n",
    "warnings.filterwarnings('ignore')"
   ]
  },
  {
   "cell_type": "markdown",
   "metadata": {},
   "source": [
    "# Continuing Bike Sharing Usage Data\n",
    "\n",
    "In this homework, we will focus on multiple linear regression, regularization, dealing with high dimensionality, and PCA. We will continue to build regression models for the Capital Bikeshare program in Washington D.C.  See Homework 3 for more information about the data.\n",
    "\n",
    "Data Source: https://www.capitalbikeshare.com/system-data\n",
    "\n",
    "*Note: please make sure you use all the processed data from HW 3 Part (a)...you make want to save the data set on your computer and reread the csv/json file here.\n"
   ]
  },
  {
   "cell_type": "code",
   "execution_count": 3,
   "metadata": {
    "collapsed": true
   },
   "outputs": [],
   "source": [
    "# Importing processed data from HW3:\n",
    "test = pd.read_csv(\"df_test.csv\", index_col=0)\n",
    "train = pd.read_csv(\"df_train.csv\", index_col=0)\n",
    "\n",
    "x_train = train.drop('count', axis=1)\n",
    "y_train = train['count']\n",
    "\n",
    "x_test = test.drop('count', axis=1)\n",
    "y_test = test['count']"
   ]
  },
  {
   "cell_type": "markdown",
   "metadata": {},
   "source": [
    "## Part (f): Regularization/Penalization Methods\n",
    "\n",
    "As an alternative to selecting a subset of predictors and fitting a regression model on the subset, one can fit a linear regression model on all predictors, but shrink or regularize the coefficient estimates to make sure that the model does not \"overfit\" the training set. \n",
    "\n",
    "Use the following regularization techniques to fit linear models to the training set:\n",
    "- Ridge regression\n",
    "- Lasso regression\n",
    "    \n",
    "You may choose the shrikage parameter $\\lambda$ from the set $\\{10^{-5}, 10^{-4},...,10^{4},10^{5}\\}$ using cross-validation. In each case, \n",
    "\n",
    "- How do the estimated coefficients compare to or differ from the coefficients estimated by a plain linear regression (without shrikage penalty) in Part (b) fropm HW 3? Is there a difference between coefficients estimated by the two shrinkage methods? If so, give an explantion for the difference.\n",
    "- List the predictors that are assigned a coefficient value close to 0 (say < 1e-10) by the two methods. How closely do these predictors match the redundant predictors (if any) identified in Part (c) from HW 3?\n",
    "- Is there a difference in the way Ridge and Lasso regression assign coefficients to the predictors `temp` and `atemp`? If so, explain the reason for the difference.\n",
    "\n",
    "We next analyze the performance of the two shrinkage methods for different training sample sizes:\n",
    "- Generate random samples of sizes 100, 150, ..., 400 from the training set. You may use the following code to draw a random sample of a specified size from the training set:"
   ]
  },
  {
   "cell_type": "code",
   "execution_count": 4,
   "metadata": {
    "collapsed": true
   },
   "outputs": [],
   "source": [
    "#--------  sample\n",
    "# A function to select a random sample of size k from the training set\n",
    "# Input: \n",
    "#      x (n x d array of predictors in training data)\n",
    "#      y (n x 1 array of response variable vals in training data)\n",
    "#      k (size of sample) \n",
    "# Return: \n",
    "#      chosen sample of predictors and responses\n",
    "\n",
    "def sample(x, y, k):\n",
    "    n = x.shape[0] # No. of training points\n",
    "    \n",
    "    # Choose random indices of size 'k'\n",
    "    subset_ind = np.random.choice(np.arange(n), k)\n",
    "    \n",
    "    # Get predictors and reponses with the indices\n",
    "    x_subset = x[subset_ind, :]\n",
    "    y_subset = y[subset_ind]\n",
    "    \n",
    "    return (x_subset, y_subset)"
   ]
  },
  {
   "cell_type": "markdown",
   "metadata": {},
   "source": [
    "- Fit linear, Ridge and Lasso regression models to each of the generated sample. In each case, compute the $R^2$ score for the model on the training sample on which it was fitted, and on the test set.\n",
    "- Repeat the above experiment for 10 random trials/splits, and compute the average train and test $R^2$ across the trials for each training sample size. Also, compute the standard deviation (SD) in each case.\n",
    "- Make a plot of the mean training $R^2$ scores for the linear, Ridge and Lasso regression methods as a function of the training sample size. Also, show a confidence interval for the mean scores extending from **mean - SD** to **mean + SD**. Make a similar plot for the test $R^2$ scores.\n",
    "\n",
    "How do the training and test $R^2$ scores compare for the three methods? Give an explanation for your observations. How do the confidence intervals for the estimated $R^2$ change with training sample size? Based on the plots, which of the three methods would you recommend when one needs to fit a regression model using a small training sample?\n",
    "\n",
    "*Hint:* You may use `sklearn`'s `RidgeCV` and `LassoCV` classes to implement Ridge and Lasso regression. These classes automatically perform cross-validation to tune the parameter $\\lambda$ from a given range of values. You may use the `plt.errorbar` function to plot confidence bars for the average $R^2$ scores."
   ]
  },
  {
   "cell_type": "code",
   "execution_count": 5,
   "metadata": {},
   "outputs": [
    {
     "name": "stdout",
     "output_type": "stream",
     "text": [
      "                 Linear Regression  Ridge Regression  Lasso Regression\n",
      "0                                                                     \n",
      "holiday                -616.602710       -235.816851       -166.795792\n",
      "workingday              -24.093294         30.405330          0.000000\n",
      "temp                     82.710082        577.535711        597.898736\n",
      "atemp                    31.460512        505.976639        455.895075\n",
      "humidity                -38.263065       -521.713443       -524.701211\n",
      "windspeed             -3260.749571       -254.076449       -238.712482\n",
      "season_1.0            -1226.186543       -760.122961       -976.436154\n",
      "season_2.0             -327.357503        -46.004440         -0.000000\n",
      "season_3.0             -193.304968       -202.530657       -200.038590\n",
      "month_1.0               118.835819       -268.604545       -107.298984\n",
      "month_2.0               207.775911       -122.729934         -0.000000\n",
      "month_3.0               358.016717         47.757061         11.078012\n",
      "month_4.0               452.184905        240.413951        123.730519\n",
      "month_5.0                53.023319         42.858531         -0.000000\n",
      "month_6.0              -673.427080       -342.440208       -378.084138\n",
      "month_7.0             -1161.151188       -548.383668       -599.484620\n",
      "month_8.0              -657.639671       -146.838204        -75.714335\n",
      "month_9.0               523.980385        634.314646        736.135069\n",
      "month_10.0              605.086722        593.836153        652.888699\n",
      "month_11.0              231.517464        194.313028        121.675060\n",
      "day_of_week_0.0        -465.145010       -279.630443       -302.633733\n",
      "day_of_week_1.0        -256.650051       -218.829575       -220.506521\n",
      "day_of_week_2.0        -328.184507       -165.857051       -146.002732\n",
      "day_of_week_3.0          37.612773         81.192295         21.387742\n",
      "day_of_week_4.0         -71.642544         20.842138         -0.000000\n",
      "day_of_week_5.0         -21.831675         77.240672          6.924352\n",
      "weather_1.0            1969.495619        329.641894         30.912060\n",
      "weather_2.0            1952.929035        271.428114          0.000000\n",
      "weather_3.0             387.517335       -601.070008      -1162.329567\n"
     ]
    }
   ],
   "source": [
    "# Fit ridge/lasso regressions to training set\n",
    "alphas = np.logspace(-5,5, 11)\n",
    "\n",
    "ridge = RidgeCV(alphas = alphas, fit_intercept=True, normalize=False)\n",
    "ridge.fit(x_train, y_train)\n",
    "\n",
    "lasso = LassoCV(alphas = alphas, fit_intercept=True, normalize=False)\n",
    "lasso.fit(x_train, y_train)\n",
    "\n",
    "# Get our linear regression parameters from HW3:\n",
    "models_coefs = pd.read_csv(\"linear_params.csv\",header = None, index_col=0).drop(['const'])\n",
    "models_coefs.columns = ['Linear Regression']\n",
    "models_coefs['Ridge Regression'] = ridge.coef_\n",
    "models_coefs['Lasso Regression'] = lasso.coef_\n",
    "\n",
    "# Compare parameters\n",
    "print(models_coefs)"
   ]
  },
  {
   "cell_type": "code",
   "execution_count": 6,
   "metadata": {},
   "outputs": [
    {
     "data": {
      "text/plain": [
       "<matplotlib.legend.Legend at 0x1254965c0>"
      ]
     },
     "execution_count": 6,
     "metadata": {},
     "output_type": "execute_result"
    },
    {
     "data": {
      "image/png": "[encoded data removed]",
      "text/plain": [
       "<matplotlib.figure.Figure at 0x11bf43a58>"
      ]
     },
     "metadata": {},
     "output_type": "display_data"
    },
    {
     "data": {
      "image/png": "[encoded data removed]",
      "text/plain": [
       "<matplotlib.figure.Figure at 0x1251b1080>"
      ]
     },
     "metadata": {},
     "output_type": "display_data"
    },
    {
     "data": {
      "image/png": "[encoded data removed]",
      "text/plain": [
       "<matplotlib.figure.Figure at 0x125333160>"
      ]
     },
     "metadata": {},
     "output_type": "display_data"
    }
   ],
   "source": [
    "#alphas = np.logspace(-5,5, 11)\n",
    "alphas = [10.0]\n",
    "\n",
    "ridge = RidgeCV(alphas = alphas, fit_intercept=True, normalize=False)\n",
    "lasso = LassoCV(alphas = alphas, fit_intercept=True, normalize=False)\n",
    "linear = LinearRegression(fit_intercept=True)\n",
    "\n",
    "ridge_subset_r2s, ridge_test_r2s, ridge_subset_stds, ridge_test_stds = [], [], [], []\n",
    "lasso_subset_r2s, lasso_test_r2s, lasso_subset_stds, lasso_test_stds = [], [], [], []\n",
    "linear_subset_r2s, linear_test_r2s, linear_subset_stds, linear_test_stds = [], [], [], []\n",
    "\n",
    "trial_sizes = range(100, 450, 50)\n",
    "\n",
    "for k in trial_sizes:\n",
    "    this_k_ridge_subset_r2s = []\n",
    "    this_k_ridge_test_r2s = []\n",
    "    \n",
    "    this_k_lasso_subset_r2s = []\n",
    "    this_k_lasso_test_r2s = []\n",
    "    \n",
    "    this_k_linear_subset_r2s = []\n",
    "    this_k_linear_test_r2s = []\n",
    "    \n",
    "    for trial in range(10):\n",
    "        x_subset, y_subset = sample(x_train.values, y_train.values, k)\n",
    "        \n",
    "        ridge.fit(x_subset, y_subset)\n",
    "        lasso.fit(x_subset, y_subset)\n",
    "        linear.fit(x_subset, y_subset)\n",
    "\n",
    "        this_k_ridge_subset_r2s.append(ridge.score(x_subset, y_subset))\n",
    "        this_k_ridge_test_r2s.append(ridge.score(x_test, y_test))\n",
    "        \n",
    "        this_k_lasso_subset_r2s.append(lasso.score(x_subset, y_subset))\n",
    "        this_k_lasso_test_r2s.append(lasso.score(x_test, y_test))\n",
    "        \n",
    "        this_k_linear_subset_r2s.append(linear.score(x_subset, y_subset))\n",
    "        this_k_linear_test_r2s.append(linear.score(x_test, y_test))\n",
    "    \n",
    "    ridge_subset_r2s.append(np.array(this_k_ridge_subset_r2s).mean())\n",
    "    ridge_test_r2s.append(np.array(this_k_ridge_test_r2s).mean())\n",
    "    ridge_subset_stds.append(np.array(this_k_ridge_subset_r2s).std())\n",
    "    ridge_test_stds.append(np.array(this_k_ridge_test_r2s).std())\n",
    "    \n",
    "    lasso_subset_r2s.append(np.array(this_k_lasso_subset_r2s).mean())\n",
    "    lasso_test_r2s.append(np.array(this_k_lasso_test_r2s).mean())\n",
    "    lasso_subset_stds.append(np.array(this_k_lasso_subset_r2s).std())\n",
    "    lasso_test_stds.append(np.array(this_k_lasso_test_r2s).std())\n",
    "    \n",
    "    linear_subset_r2s.append(np.array(this_k_linear_subset_r2s).mean())\n",
    "    linear_test_r2s.append(np.array(this_k_linear_test_r2s).mean())\n",
    "    linear_subset_stds.append(np.array(this_k_linear_subset_r2s).std())\n",
    "    linear_test_stds.append(np.array(this_k_linear_test_r2s).std())\n",
    "    \n",
    "    \n",
    "\n",
    "fig1 = plt.figure(figsize=(10,5))\n",
    "fig1.tight_layout\n",
    "ax1 = fig1.add_subplot(121)\n",
    "ax1.plot(trial_sizes, ridge_subset_r2s, label = \"ridge\", color = 'purple')\n",
    "ax1.plot(trial_sizes, lasso_subset_r2s, label = \"lasso\", color='green')\n",
    "ax1.plot(trial_sizes, linear_subset_r2s, label = \"linear\", color = 'blue')\n",
    "ax1.set_title(\"Sample size vs. model training R^2\")\n",
    "ax1.set_xlabel(\"trial sample size\")\n",
    "ax1.set_ylabel(\"train (subset) R^2\")\n",
    "ax1.legend()\n",
    "\n",
    "ax2 = fig1.add_subplot(122)\n",
    "ax2.plot(trial_sizes, ridge_test_r2s, label = \"ridge\", color='purple')\n",
    "ax2.plot(trial_sizes, lasso_test_r2s, label = \"lasso\", color='green')\n",
    "ax2.plot(trial_sizes, linear_test_r2s, label = \"linear\", color = 'blue')\n",
    "ax2.set_title(\"Sample size vs. model test R^2\")\n",
    "ax2.set_xlabel(\"trial sample size\")\n",
    "ax2.set_ylabel(\"test R^2\")\n",
    "ax2.legend()\n",
    "\n",
    "fig2 = plt.figure(figsize=(10,5))\n",
    "fig2.tight_layout\n",
    "ax3 = fig2.add_subplot(131)\n",
    "ax4 = fig2.add_subplot(132)\n",
    "ax5 = fig2.add_subplot(133)\n",
    "ax3.errorbar(trial_sizes, ridge_subset_r2s, yerr=ridge_subset_stds, label = \"ridge\", color='purple')\n",
    "ax4.errorbar(trial_sizes, lasso_subset_r2s, lasso_subset_stds, label = \"lasso\", color='green')\n",
    "ax5.errorbar(trial_sizes, linear_subset_r2s, linear_subset_stds, label = \"linear\", color = 'blue')\n",
    "\n",
    "ax3.set_title(\"Ridge regression - train\")\n",
    "ax3.set_xlabel(\"trial sample size\")\n",
    "ax3.set_ylabel(\"R^2 w/standard deviation\")\n",
    "ax3.set_ylim(0,0.8)\n",
    "ax3.legend()\n",
    "\n",
    "ax4.set_title(\"Lasso regression - train\")\n",
    "ax4.set_xlabel(\"trial sample size\")\n",
    "ax4.set_ylabel(\"R^2 w/standard deviation\")\n",
    "ax4.set_ylim(0,0.8)\n",
    "ax4.legend()\n",
    "\n",
    "ax5.set_title(\"Linear regression - train\")\n",
    "ax5.set_xlabel(\"trial sample size\")\n",
    "ax5.set_ylabel(\"R^2 w/standard deviation\")\n",
    "ax5.set_ylim(0,0.8)\n",
    "ax5.legend()\n",
    "\n",
    "fig3 = plt.figure(figsize=(10,5))\n",
    "fig3.tight_layout\n",
    "ax6 = fig3.add_subplot(131)\n",
    "ax7 = fig3.add_subplot(132)\n",
    "ax8 = fig3.add_subplot(133)\n",
    "ax6.errorbar(trial_sizes, ridge_test_r2s, ridge_test_stds, label = \"ridge\", color='purple')\n",
    "ax7.errorbar(trial_sizes, lasso_test_r2s, lasso_test_stds, label = \"lasso\", color='green')\n",
    "ax8.errorbar(trial_sizes, linear_test_r2s, linear_test_stds, label = \"linear\", color = 'blue')\n",
    "\n",
    "ax6.set_title(\"Ridge regression - test\")\n",
    "ax6.set_xlabel(\"trial sample size\")\n",
    "ax6.set_ylabel(\"R^2 w/standard deviation\")\n",
    "ax6.set_ylim(0,0.8)\n",
    "ax6.legend()\n",
    "\n",
    "ax7.set_title(\"Lasso regression - test\")\n",
    "ax7.set_xlabel(\"trial sample size\")\n",
    "ax7.set_ylabel(\"R^2 w/standard deviation\")\n",
    "ax7.set_ylim(0,0.8)\n",
    "ax7.legend()\n",
    "\n",
    "ax8.set_title(\"Linear regression - test\")\n",
    "ax8.set_xlabel(\"trial sample size\")\n",
    "ax8.set_ylabel(\"R^2 w/standard deviation\")\n",
    "ax8.set_ylim(0,0.8)\n",
    "ax8.legend()"
   ]
  },
  {
   "cell_type": "markdown",
   "metadata": {},
   "source": [
    "- How do the estimated coefficients compare to or differ from the coefficients estimated by a plain linear regression (without shrikage penalty) in Part (b) fropm HW 3? Is there a difference between coefficients estimated by the two shrinkage methods? If so, give an explantion for the difference.\n",
    "\n",
    "** As we can see above, the larger coefficients from the linear regression are shrunk in both the Ridge and Lasso regressions.  And the smaller coefficients from the linear regression are larger for the Ridge/Lasso.**\n",
    "** The two shrinkage methods differ in that Lasso shrinks several coefficients to zero, whereas ridge doesn't shrink any coefficients to zero.**\n",
    "\n",
    "\n",
    "- List the predictors that are assigned a coefficient value close to 0 (say < 1e-10) by the two methods. How closely do these predictors match the redundant predictors (if any) identified in Part (c) from HW 3?\n",
    "\n",
    "** The Ridge coefficients never shrink to \"close to zero\" under these parameters.  The Lasso coefficients [workingday, season_2.0, month_2.0, month_5.0, day_of_week_4.0, weather_2.0] all shrink to zero. **\n",
    "\n",
    "** These were generally highly correlated coefficients from HW3 (c).  For instance, workingday was correlated with all of the days of the week, and the respective months and seasons were correlated. **\n",
    "\n",
    "- Is there a difference in the way Ridge and Lasso regression assign coefficients to the predictors `temp` and `atemp`? If so, explain the reason for the difference.\n",
    "\n",
    "** For certain values of alpha, Lasso will assign temp a 0 coefficient, while Ridge will never do this.  This is because Lasso is built to zero out certain redundant coefficients and there is a high degree of correlation between temp and atemp. **\n",
    "\n",
    "** Interestingly, though, for most alphas (including the selected alpha above), even the Lasso regression will keep both temp and atemp.  We believe this is because temp/atemp is some of the stronger predictors of count. **\n",
    "\n",
    "\n",
    "- How do the training and test  R2R2  scores compare for the three methods? Give an explanation for your observations. How do the confidence intervals for the estimated  R2R2  change with training sample size? Based on the plots, which of the three methods would you recommend when one needs to fit a regression model using a small training sample?\n",
    "\n",
    "** The training R^2 is generally decreasing with sample size for all 3 regressions, and the test R^2 is generally increasing for all 3 regressions.  This is not surprising, since a larger training sample will help us to reduce overfitting.  **\n",
    "\n",
    "** Furthermore, the ridge regression generally performs the best on the test set, and the worst on the training set.  We believe this is because the ridge model is a good balance between removing the higher-order predictors while still not \"zeroing\" out information as the lasso regression does. **\n",
    "\n",
    "** Confidence intervals tend to generally decrease with increasing trial size (aka the train set size). Additionally, the Ridge regression seems to have the tightest confidence intervals.  **\n",
    "\n",
    "** For small sample sizes, ridge gains a bigger \"advantage\" on the test R^2 and a bigger \"disadvantage\" on the training R^2.  Because our priority is maximizing out-of-sample predictive power, the best model for low sample sizes is using ridge regression. We believe this happens because ridge regression is effective for reducing collinearity.  In smaller sample sizes, it's more difficult to separate the collinearity from the features, so ridge regression is useful here. **"
   ]
  },
  {
   "cell_type": "markdown",
   "metadata": {},
   "source": [
    "## Part (g): Polynomial & Interaction Terms\n",
    "\n",
    "Moving beyond linear models, we will now try to improve the performance of the regression model in Part (b) from HW 3 by including higher-order polynomial and interaction terms. \n",
    "\n",
    "- For each continuous predictor $X_j$, include additional polynomial terms $X^2_j$, $X^3_j$, and $X^4_j$, and fit a multiple regression model to the expanded training set. How does the $R^2$ of this model on the test set compare with that of the linear model fitted in Part (b) from HW 3? Using a t-test, find out which of estimated coefficients for the polynomial terms are statistically significant at a significance level of 5%. \n",
    "\n",
    "- Fit a multiple linear regression model with additional interaction terms $\\mathbb{I}_{month = 12} \\times temp$ and $\\mathbb{I}_{workingday = 1} \\times \\mathbb{I}_{weathersit = 1}$ and report the test $R^2$ for the fitted model. How does this compare with the $R^2$ obtained using linear model in Part (b) from HW 3? Are the estimated coefficients for the interaction terms statistically significant at a significance level of 5%?"
   ]
  },
  {
   "cell_type": "code",
   "execution_count": 6,
   "metadata": {},
   "outputs": [
    {
     "name": "stdout",
     "output_type": "stream",
     "text": [
      "Polynomial regression train R^2 = 0.669656240221 \n",
      "\n",
      "Polynomial regression test R^2 = 0.29395929122 \n",
      "\n",
      "Model parameters of significance level > 5%:\n",
      " const              4.568215e-29\n",
      "season_1.0         1.256241e-03\n",
      "weather_1.0        5.873124e-19\n",
      "weather_2.0        2.079013e-22\n",
      "weather_3.0        4.699390e-02\n",
      "temp_deg_2         2.740200e-02\n",
      "humidity_deg_1     2.870343e-05\n",
      "windspeed_deg_1    2.950904e-03\n",
      "dtype: float64\n"
     ]
    }
   ],
   "source": [
    "def add_poly_terms(x, selected_features, deg = 4):\n",
    "    \"\"\"\n",
    "    Adds polynomial terms of order deg, into ONLY selected_features.\n",
    "    Note that it does not include any interaction terms between the predictors as requested above.\n",
    "    \"\"\"\n",
    "    poly_fit = PolynomialFeatures(degree = deg, include_bias=False)\n",
    "    x_selected = x.copy()[selected_features]\n",
    "    \n",
    "    x_out = x.drop(selected_features, axis = 1)\n",
    "    # Add each higher order term (doing these individually so we don't get interaction terms)\n",
    "    for i,feature in enumerate(selected_features):\n",
    "        for this_deg in range(deg):\n",
    "            poly_features = poly_fit.fit_transform(x_selected[feature].values.reshape(-1,1))\n",
    "            x_out[feature+\"_deg_\"+str(this_deg+1)] = poly_features[:,this_deg]\n",
    "    return x_out\n",
    "\n",
    "\n",
    "continuous_predictors = ['temp', 'atemp', 'humidity', 'windspeed']\n",
    "x_train_poly = add_poly_terms(x_train, continuous_predictors, deg = 4)\n",
    "x_test_poly = add_poly_terms(x_test, continuous_predictors, deg = 4)\n",
    "    \n",
    "poly_ols = sm.OLS(y_train, sm.add_constant(x_train_poly))\n",
    "poly_ols_fit = poly_ols.fit()\n",
    "poly_ols_r2 = r2_score(y_test, poly_ols_fit.predict(sm.add_constant(x_test_poly)))\n",
    "print(\"Polynomial regression train R^2 =\", r2_score(y_train, poly_ols_fit.predict(sm.add_constant(x_train_poly))),\"\\n\")\n",
    "print(\"Polynomial regression test R^2 =\", r2_score(y_test, poly_ols_fit.predict(sm.add_constant(x_test_poly))),\"\\n\")\n",
    "\n",
    "ttest=poly_ols_fit.pvalues\n",
    "print(\"Model parameters of significance level > 5%:\\n\", ttest[ttest.values<0.05])"
   ]
  },
  {
   "cell_type": "markdown",
   "metadata": {
    "collapsed": true
   },
   "source": [
    "- For each continuous predictor $X_j$, include additional polynomial terms $X^2_j$, $X^3_j$, and $X^4_j$, and fit a multiple regression model to the expanded training set. How does the $R^2$ of this model on the test set compare with that of the linear model fitted in Part (b) from HW 3? Using a t-test, find out which of estimated coefficients for the polynomial terms are statistically significant at a significance level of 5%. \n",
    "\n",
    "** The R^2 when polynomial terms is added increases to 0.29.  (In HW3, the linear model, forward selection, and reverse selection had R^2 = 0.249, 0.274, and 0.273, respectively. **\n",
    "\n",
    "** Using the t-test, the statistically significant polynomial features are:\n",
    "** This adds a significant quadratic term for for temperature squared as expected.  We also have significant linear terms for humidity and windspeed in the feature set. **\n",
    "\n",
    "** This is as expected - for example, in HW3 we hypothesized there is a slightly quadratic reliationship with temperature.  When it gets too hot people stop riding bikes. **\n",
    "\n",
    "\n",
    "\n",
    "- Fit a multiple linear regression model with additional interaction terms $\\mathbb{I}_{month = 12} \\times temp$ and $\\mathbb{I}_{workingday = 1} \\times \\mathbb{I}_{weathersit = 1}$ and report the test $R^2$ for the fitted model. How does this compare with the $R^2$ obtained using linear model in Part (b) from HW 3? Are the estimated coefficients for the interaction terms statistically significant at a significance level of 5%?"
   ]
  },
  {
   "cell_type": "code",
   "execution_count": 7,
   "metadata": {},
   "outputs": [
    {
     "name": "stdout",
     "output_type": "stream",
     "text": [
      "Multilinear regression R^2 train set = 0.58038134848 \n",
      "\n",
      "Multilinear regression R^2 test set = 0.281208658354 \n",
      "\n",
      "Model parameters of significance level > 5%:\n",
      " const          4.697838e-25\n",
      "humidity       8.186394e-07\n",
      "windspeed      8.390803e-04\n",
      "month_9.0      1.062117e-02\n",
      "month_10.0     1.080134e-02\n",
      "weather_1.0    1.321830e-08\n",
      "weather_2.0    9.157829e-16\n",
      "dtype: float64\n"
     ]
    }
   ],
   "source": [
    "def copy_and_add_inter(x_train):\n",
    "    x_train_inter = x_train.copy(deep=True)\n",
    "\n",
    "    x_train_inter['month_12.0'] = 1 - x_train_inter['month_1.0'] - x_train_inter['month_2.0'] - x_train_inter['month_3.0']- x_train_inter['month_4.0'] - x_train_inter['month_5.0'] - x_train_inter['month_6.0'] - x_train_inter['month_7.0'] - x_train_inter['month_8.0']- x_train_inter['month_9.0']- x_train_inter['month_10.0']- x_train_inter['month_11.0']\n",
    "\n",
    " \n",
    "    x_train_inter['month12-temp'] = x_train_inter['month_12.0'] * x_train_inter['temp']\n",
    "\n",
    "    x_train_inter['wday1-weather1'] = x_train_inter['workingday'] * x_train_inter['weather_1.0']\n",
    "    \n",
    "    return x_train_inter\n",
    "#x_train.head(30)\n",
    "\n",
    "x_train_inter = copy_and_add_inter(x_train) \n",
    "x_test_inter = copy_and_add_inter(x_test)\n",
    "\n",
    "inter_ols = sm.OLS(y_train, sm.add_constant(x_train_inter))\n",
    "inter_ols_fit = inter_ols.fit()\n",
    "\n",
    "inter_ols_r2_train = r2_score(y_train, inter_ols_fit.predict(sm.add_constant(x_train_inter)))\n",
    "inter_ols_r2_test = r2_score(y_test, inter_ols_fit.predict(sm.add_constant(x_test_inter)))\n",
    "\n",
    "print(\"Multilinear regression R^2 train set =\", inter_ols_r2_train,\"\\n\")\n",
    "\n",
    "print(\"Multilinear regression R^2 test set =\", inter_ols_r2_test,\"\\n\")\n",
    "\n",
    "ttest1=inter_ols_fit.pvalues\n",
    "print(\"Model parameters of significance level > 5%:\\n\", ttest1[ttest1.values<0.05])"
   ]
  },
  {
   "cell_type": "markdown",
   "metadata": {},
   "source": [
    " How does this compare with the  R2\n",
    "  obtained using linear model in Part (b) from HW 3? Are the estimated coefficients for the interaction terms statistically significant at a significance level of 5%?"
   ]
  },
  {
   "cell_type": "markdown",
   "metadata": {},
   "source": [
    "**The R2 on the test set (~28.1%) is higher than ~24.9% test R2 obtained in HW3. The interaction terms are not significant at a 5% significance level.**"
   ]
  },
  {
   "cell_type": "markdown",
   "metadata": {},
   "source": [
    "## Part (h): PCA to deal with high dimensionality\n",
    "\n",
    "We would like to fit a model to include all main effects, polynomial terms up to the $4^{th}$ order, and all interactions between all possible predictors and polynomial terms (not including the interactions between $X^1_j$, $X^2_j$, $X^3_j$, and $X^4_j$ as they would just create higher order polynomial terms).  \n",
    "\n",
    "- Create an expanded training set including all the desired terms mentioned above.  What are the dimensions of this 'design matrix' of all the predictor variables?   What are the issues with attempting to fit a regression model using all of these predictors?\n",
    "\n",
    "- Instead of using the usual approaches for model selection, let's instead use principal components analysis (PCA) to fit the model.  First, create the principal component vectors in python (consider: should you normalize first?).  Then fit 5 different regression models: (1) using just the first PCA vector, (2) using the first two PCA vectors, (3) using the first three PCA vectors, etc...  Briefly summarize how these models compare in the training set.\n",
    "\n",
    "- Use the test set to decide which of the 5 models above is best to predict out of sample.  How does this model compare to the previous models you've fit?  What are the interpretations of this model's coefficients?"
   ]
  },
  {
   "cell_type": "code",
   "execution_count": 8,
   "metadata": {},
   "outputs": [
    {
     "name": "stdout",
     "output_type": "stream",
     "text": [
      "Full expanded data set has 448 columns!\n",
      "Our full feature training R^2 = 0.906053600868\n",
      "Our full feature test R^2 = -10.4829235756 \n",
      "\n",
      "Generating PCA with 5 components.\n",
      "Explained variance ratio: [ 0.41154589  0.19490725  0.17272211  0.05007462  0.0463068 ] \n",
      "\n",
      "Training R^2 of first 1 PCA components= 0.073931302874\n",
      "Test R^2 of first 1 PCA components= -0.0864310174361\n",
      "Training R^2 of first 2 PCA components= 0.160690866918\n",
      "Test R^2 of first 2 PCA components= 0.00113039693806\n",
      "Training R^2 of first 3 PCA components= 0.211995591978\n",
      "Test R^2 of first 3 PCA components= -0.0451288125684\n",
      "Training R^2 of first 4 PCA components= 0.387740710092\n",
      "Test R^2 of first 4 PCA components= 0.2185158195\n",
      "Training R^2 of first 5 PCA components= 0.388482846498\n",
      "Test R^2 of first 5 PCA components= 0.217224230545\n"
     ]
    }
   ],
   "source": [
    "# First, let's generate a polynomial with all of the interation terms (this way, we don't get the higher-order interaction terms)\n",
    "interaction_poly = PolynomialFeatures(degree = 2, interaction_only = True)\n",
    "\n",
    "x_train_interaction = pd.DataFrame(interaction_poly.fit_transform(x_train), columns = interaction_poly.get_feature_names(x_train.columns))\n",
    "x_test_interaction = pd.DataFrame(interaction_poly.fit_transform(x_test), columns = interaction_poly.get_feature_names(x_test.columns))\n",
    "\n",
    "# Then, add in the polynomial terms used earlier\n",
    "continuous_predictors = ['temp', 'atemp', 'humidity', 'windspeed']\n",
    "x_big_train = add_poly_terms(x_train_interaction, continuous_predictors, deg = 4)\n",
    "x_big_test = add_poly_terms(x_test_interaction, continuous_predictors, deg = 4)\n",
    "\n",
    "print(\"Full expanded data set has\",x_big_train.shape[1], \"columns!\")\n",
    "\n",
    "#print(y_train.shape, sm.add_constant(x_big_train).shape)\n",
    "\n",
    "big_ols = sm.OLS(y_train, sm.add_constant(x_big_train))\n",
    "big_ols_fit = big_ols.fit()\n",
    "big_ols_r2 = r2_score(y_train, big_ols_fit.predict(sm.add_constant(x_big_train)))\n",
    "print(\"Our full feature training R^2 =\",big_ols_r2)\n",
    "\n",
    "big_ols_r2 = r2_score(y_test, big_ols_fit.predict(sm.add_constant(x_big_test)))\n",
    "print(\"Our full feature test R^2 =\",big_ols_r2,\"\\n\")\n",
    "\n",
    "# Fit PCA\n",
    "num_comp = 5\n",
    "pca = PCA(num_comp)\n",
    "pca.fit(x_big_train)\n",
    "x_train_pca = pca.transform(x_big_train)\n",
    "x_test_pca = pca.transform(x_big_test)\n",
    "\n",
    "print(\"Generating PCA with\",num_comp, \"components.\\nExplained variance ratio:\", pca.explained_variance_ratio_, \"\\n\")\n",
    "\n",
    "# Fit linear regression over sums of the first n components\n",
    "lin_reg_model = LinearRegression(fit_intercept=True)\n",
    "for n in range(1,5+1):\n",
    "    lin_reg_model.fit(x_train_pca[:,:n], y_train)\n",
    "    print(\"Training R^2 of first\",n,\"PCA components=\", r2_score(y_train, lin_reg_model.predict(x_train_pca[:,:n])))\n",
    "    print(\"Test R^2 of first\",n,\"PCA components=\", r2_score(y_test, lin_reg_model.predict(x_test_pca[:,:n])))"
   ]
  },
  {
   "cell_type": "markdown",
   "metadata": {},
   "source": [
    "- Create an expanded training set including all the desired terms mentioned above.  What are the dimensions of this 'design matrix' of all the predictor variables?   What are the issues with attempting to fit a regression model using all of these predictors?\n",
    "\n",
    "** This design matrix has a total of 452 predictors (and 330 data points).  This is unfeasible for several reasons: **\n",
    "\n",
    "** First, the model overfits very badly.  The training R^2 is 0.91, but the test set R^2 is less than 0! In fact, we have more features than we do datapoints! **\n",
    "\n",
    "** Additionally, it's very computationall expensive, in both time and space, to regress and manipulate this many features. **\n",
    "\n",
    "\n",
    "- Instead of using the usual approaches for model selection, let's instead use principal components analysis (PCA) to fit the model.  First, create the principal component vectors in python (consider: should you normalize first?).  Then fit 5 different regression models: (1) using just the first PCA vector, (2) using the first two PCA vectors, (3) using the first three PCA vectors, etc...  Briefly summarize how these models compare in the training set.\n",
    "\n",
    "** The models perform quite poorly in the training set  ($R^{2}<0.3$) for the first 3 components.  The forth component adds a significant amount of predictive power, and the fifth term adds very little. We also see that by the fourth component, c.95% of the variance has been explained.**\n",
    "\n",
    "** It's unfortunately difficult for us symbolize the meaning of each of the components (we just know they are orthogonal representations of the previous predictors.  But it seems to us that a fair trade-off between computational power and model performance is to choose the first 4 components. **\n",
    "\n",
    "- Use the test set to decide which of the 5 models above is best to predict out of sample.  How does this model compare to the previous models you've fit?  What are the interpretations of this model's coefficients?\n",
    "\n",
    "** The training $R^{2}$ is highly non-linear versus the components added.  The model has essentially no out-of-sample predictive power until the fourth principal component, when it becomes 0.22. This reinforces our hypothesis that at least the first four principal components are necessary.  However, our model that uses fewer features (where PCA is not required) still performs better, so we would try to use a non-PCA-based solution with fewer interaction terms (if possible).  **\n",
    "\n",
    "** In this case, each of the coefficients are the weights of each respective principal component, which itself is an orthogonal representation of the previous features. **"
   ]
  },
  {
   "cell_type": "markdown",
   "metadata": {},
   "source": [
    "## Part (i): Beyond Squared Error\n",
    "\n",
    "We have seen in class that the multiple linear regression method optimizes the Mean Squared Error (MSE) on the training set. Consider the following alternate evaluation metric, referred to as the Root Mean Squared Logarthmic Error (RMSLE):\n",
    "\n",
    "$$\n",
    "\\sqrt{\\frac{1}{n}\\sum_{i=1}^n (log(y_i+1) - log(\\hat{y}_i+1))^2}.\n",
    "$$\n",
    "\n",
    "The *lower* the RMSLE the *better* is the performance of a model. The RMSLE penalizes errors on smaller responses more heavily than errors on larger responses. For example, the RMSLE penalizes a prediction of $\\hat{y} = 15$ for a true response of $y=10$ more heavily than a prediction of $\\hat{y} = 105$ for a true response of $100$, though the difference in predicted and true responses are the same in both cases. \n",
    "\n",
    "This is a natural evaluation metric for bike share demand prediction, as in this application, it is more important that the prediction model is accurate on days where the demand is low (so that the few customers who arrive are served satisfactorily), compared to days on which the demand is high (when it is less damaging to lose out on some customers).\n",
    "\n",
    "The following code computes the RMSLE for you:"
   ]
  },
  {
   "cell_type": "code",
   "execution_count": 9,
   "metadata": {
    "collapsed": true
   },
   "outputs": [],
   "source": [
    "#--------  rmsle\n",
    "# A function for evaluating Root Mean Squared Logarithmic Error (RMSLE)\n",
    "# of the linear regression model on a data set\n",
    "# Input: \n",
    "#      y_test (n x 1 array of response variable vals in testing data)\n",
    "#      y_pred (n x 1 array of response variable vals in testing data)\n",
    "# Return: \n",
    "#      RMSLE (float) \n",
    "\n",
    "def rmsle(y, y_pred):     \n",
    "    # Evaluate sqaured error, against target labels\n",
    "    # rmsle = \\sqrt(1/n \\sum_i (log (y[i]+1) - log (y_pred[i]+1))^2)\n",
    "    rmsle_ = np.sqrt(np.mean(np.square(np.log(y+1) - np.log(y_pred+1))))\n",
    "    \n",
    "    return rmsle_"
   ]
  },
  {
   "cell_type": "markdown",
   "metadata": {},
   "source": [
    "Use the above code to compute the training and test RMSLE for the polynomial regression model you fit in Part (g). \n",
    "\n",
    "You are required to develop a strategy to fit a regression model by optimizing the RMSLE on the training set. Give a justification for your proposed approach. Does the model fitted using your approach yield lower train RMSLE than the model in Part (g)? How about the test RMSLE of the new model? \n",
    "\n",
    "**Note:** We do not require you to implement a new regression solver for RMSLE. Instead, we ask you to think about ways to use existing built-in functions to fit a model that performs well on RMSLE. Your regression model may use the same polynomial terms used in Part (g)."
   ]
  },
  {
   "cell_type": "code",
   "execution_count": 10,
   "metadata": {},
   "outputs": [
    {
     "name": "stdout",
     "output_type": "stream",
     "text": [
      "Train RMSLE on linear model fit = 0.311064248991\n",
      "Test RMSLE on linear model fit = 0.501930165551\n",
      "\n",
      "Train RMSLE on RMSLE model fit = 0.291235068455\n",
      "Test RMSLE on RMSLE model fit = 0.51473271484\n"
     ]
    }
   ],
   "source": [
    "lin_reg_model = LinearRegression(fit_intercept=True)\n",
    "\n",
    "# Calculate train RMSLE on current model fit\n",
    "lin_reg_model.fit(x_train_poly, y_train)\n",
    "y_hat_train = lin_reg_model.predict(x_train_poly)\n",
    "y_hat_test = lin_reg_model.predict(x_test_poly)\n",
    "print(\"Train RMSLE on linear model fit =\", rmsle(y_train, y_hat_train))\n",
    "print(\"Test RMSLE on linear model fit =\", rmsle(y_test, y_hat_test))\n",
    "print(\"\")\n",
    "\n",
    "\n",
    "# Now, let's fit a new set on a revised response variable - specifically, log(y+1)\n",
    "lin_reg_model.fit(x_train_poly, np.log1p(y_train))\n",
    "y_hat_logit_train = np.expm1(lin_reg_model.predict(x_train_poly))\n",
    "y_hat_logit_test = np.expm1(lin_reg_model.predict(x_test_poly))\n",
    "print(\"Train RMSLE on RMSLE model fit =\", rmsle(y_train, y_hat_logit_train))\n",
    "print(\"Test RMSLE on RMSLE model fit =\", rmsle(y_test, y_hat_logit_test))"
   ]
  },
  {
   "cell_type": "markdown",
   "metadata": {},
   "source": [
    "Give a justification for your proposed approach. Does the model fitted using your approach yield lower train RMSLE than the model in Part (g)? How about the test RMSLE of the new model?\n",
    "\n",
    "* ** We chose to train a linear model on a new y domain, denoted by $y_{new} = log(y + 1)$.  By applying this domain transformation, our linear model will now minimize MSE in the $y_{new}$ domain, and therefore minimize RMSLE in the original $y$ domain. **\n",
    "\n",
    "* ** As expected, this improves RMSLE in our training set.  Training RMSLE improves from 0.311 to 0.291.  Our test RMSLE actually results in higher RMSLE, but this does not invalidate our RMSLE fit.  It just means that the model may be now overfitting for RMSLE (while it was overfitting for MSE previously). ** "
   ]
  },
  {
   "cell_type": "markdown",
   "metadata": {},
   "source": [
    "## Part (j): Dealing with Erroneous Labels\n",
    "\n",
    "Due to occasional system crashes, some of the bike counts reported in the data set have been recorded manually. These counts are not very unreliable and are prone to errors. It is known that roughly 5% of the labels in the training set are erroneous (i.e. can be arbitrarily different from the true counts), while all the labels in the test set were confirmed to be accurate. Unfortunately, the identities of the erroneous records in the training set are not available. Can this information about presence of 5% errors in the training set labels (without details about the specific identities of the erroneous rows) be used to improve the performance of the model in Part (g)? Note that we are interested in improving the $R^2$ performance of the model on the test set (not the training $R^2$ score). \n",
    "\n",
    "As a final task, we require you to come up with a strategy to fit a regression model, taking into account the errors in the training set labels. Explain the intuition behind your approach (we do not expect a detailed mathematical justification). Use your approach to fit a regression model on the training set, and compare its test $R^2$ with the model in Part (g).\n",
    "\n",
    "**Note:** Again, we do not require you to implement a new regression solver for handling erroneous labels. It is sufficient that you to come up with an approach that uses existing built-in functions. Your regression model may use the same polynomial terms used in Part (g)."
   ]
  },
  {
   "cell_type": "code",
   "execution_count": 11,
   "metadata": {},
   "outputs": [
    {
     "name": "stdout",
     "output_type": "stream",
     "text": [
      "Test R^2 from Part g) 0.29395929122\n",
      "Test R^2 from Ridge model with all train points 0.274049501816\n",
      "R^2 after removing ~5% of data points 0.30260535348\n"
     ]
    }
   ],
   "source": [
    "ridge1 = RidgeCV(alphas = alphas, fit_intercept=True, normalize=False)\n",
    "ridge1.fit(x_train, y_train)\n",
    "\n",
    "R2_init=r2_score(y_test, ridge1.predict(x_test))\n",
    "\n",
    "print(\"Test R^2 from Part g)\",r2_score(y_test, poly_ols_fit.predict(sm.add_constant(x_test_poly))))\n",
    "print(\"Test R^2 from Ridge model with all train points\",R2_init)\n",
    "x_train_trim = x_train_poly.copy(deep = True)\n",
    "y_train_trim = y_train.copy(deep = True)\n",
    "\n",
    "#print(y_train_trim.shape)\n",
    "\n",
    "Ridge_Test_R2s_after_drop = []\n",
    "\n",
    "stop_constant = float(\"inf\")\n",
    "\n",
    "for i in range(int(len(y_train_trim)*0.05)):\n",
    "    ridge_reg_model = RidgeCV(alphas = alphas, fit_intercept=True, normalize=False)\n",
    "    ridge_reg_model.fit(x_train_trim, y_train_trim)\n",
    "    \n",
    "    y_prec_train = ridge_reg_model.predict(x_train_trim)\n",
    "    y_prec_test = ridge_reg_model.predict(x_test_poly)\n",
    "    \n",
    "    #print(\"Train R-score is\", r2_score(y_train_trim,y_prec_train))\n",
    "    #print(\"Test R-score is\",r2_score(y_test,y_prec_test))\n",
    "    \n",
    "    #index of the worst value\n",
    "    y_worst = np.argmax(np.abs(y_train_trim - y_prec_train))\n",
    "    #worst value\n",
    "    worst_error =np.max(np.abs(y_train_trim - y_prec_train))\n",
    "    \n",
    "    #print(\"Dropping the worst y\", worst_error, \"at the index\", y_train_trim.index[y_worst],\"\\n\")\n",
    "    \n",
    "    if worst_error < 2600:\n",
    "        print(\"BREAK\")\n",
    "        break\n",
    "\n",
    "    x_train_trim = x_train_trim.drop(x_train_trim.index[y_worst])\n",
    "    y_train_trim = y_train_trim.drop(y_train_trim.index[y_worst])\n",
    "    Ridge_Test_R2s_after_drop.append(r2_score(y_test,y_prec_test))\n",
    "    \n",
    "print(\"R^2 after removing ~5% of data points\", Ridge_Test_R2s_after_drop[-1])"
   ]
  },
  {
   "cell_type": "markdown",
   "metadata": {},
   "source": [
    "We use the Ridge regression to fit our training data and we iteratively remove the ~5% of the data points with the highest residuals when predicting on our train data. We see that our test R^2 from Ridge goes up from 27.4% to 30.2% after removing these points and this is higher than test R^2 of 29.4% from Part g).\n",
    "\n",
    "We chose this method because we have no a priori information about how the error in the 5% of \"bad\" counts is skewed (ie, we don't know if it's too high, too low, completely random, etc).  So in our opinion, the best remaining assumption that the outliers with the higher residual error are the most likely to be erroneous.\n"
   ]
  }
 ],
 "metadata": {
  "anaconda-cloud": {},
  "kernelspec": {
   "display_name": "Python 3",
   "language": "python",
   "name": "python3"
  },
  "language_info": {
   "codemirror_mode": {
    "name": "ipython",
    "version": 3
   },
   "file_extension": ".py",
   "mimetype": "text/x-python",
   "name": "python",
   "nbconvert_exporter": "python",
   "pygments_lexer": "ipython3",
   "version": "3.6.1"
  }
 },
 "nbformat": 4,
 "nbformat_minor": 1
}
